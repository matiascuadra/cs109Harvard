{
 "cells": [
  {
   "cell_type": "markdown",
   "metadata": {},
   "source": [
    "# Great Lobster! But awful service :-("
   ]
  },
  {
   "cell_type": "markdown",
   "metadata": {},
   "source": [
    "<img src=\"http://i.onionstatic.com/avclub/5336/19/16x9/960.jpg\" width=640 height=480/>"
   ]
  },
  {
   "cell_type": "markdown",
   "metadata": {},
   "source": [
    "We continue to look at recommendation data this homework, but through a very different angle. Instead of trying to answer the question \"Which restaurant would I like\", we look at more aggregate behavior, trying to learn from different reviewers what exactly a restaurant is good for.\n",
    "\n",
    "In other words, is the food great? Ambiance Bad? Or are both good? Or bad?\n",
    "\n",
    "So we need to figure out if a given review contains information about the food, the ambiance or both, and if it is a positive or negative review. Note that reviews might cover both topics, so we need to do this analysis on the level of single sentences.\n",
    "\n",
    "We do this at the level of individual sentences, in multiple reviews, about a restaurant.\n",
    "\n",
    "<img src=\"setup.jpg\" width=500 height=300/>\n",
    "\n",
    "What you will carry out here might be termed a first salvo in such an analysis. It will be a fairly complete salvo, but we shall point out many points of improvement along the road, should you want to pursue a project of this kind.\n",
    "\n",
    "There are many aspects of the data science process that we will touch on in this homework, and many skills that you will gain some familiarity with.\n",
    "\n",
    "1. We will use Spark to do a good fraction of our data reduction. This mimics the situation at many companies, where Hadoop/Spark and other such technologies are used to reduce \"big\" data from many different sources such as logfiles, customer data, etc into features which are ready for machine learning and statistical modeling.\n",
    "2. We will use simple Natural Language processing techniques to parse sentences, splitting them into nouns and adjectives\n",
    "3. We will use the unsupervised probabilistic clustering algorithm Latent Dirichlet Allocation, or LDA, to extract topics from the nouns in review text.\n",
    "4. We will use Naive Bayes Machine Learning to carry out sentiment analysis using adjectives from the review text. This kind of analysis is usually done with external sentiment annotated corpus's such as SentiWordNet, but we hope the calculations will give you an idea of what is involved.\n",
    "5. We will obtain topic estimation from the LDA and probability estimates for sentences in the review from the above classifier to answer the question: what does this review have to say about topics concerning restaurants\n",
    "6. We will use somewhat bayesian techniques which fall under the nomenclatures \"Hierarchical Model\" and \"Empirical Bayes\" to regularize the above probability estimates.\n",
    "\n",
    "(image from Annie Hall, from http://www.avclub.com/article/learning-about-love-meatballs-gnocchi-lobsters-and-214971)\n",
    "\n",
    "This homework is split into two parts. You are looking at the first part `hw5part1.ipynb`. You can run this part on your own machine using Spark. (It was developed on a Mac with Homebrew installed Spark (`brew install apache-spark`). You can also work on it inside of your Vagrant virtual Machine or on AWS. \n",
    "\n",
    "Part 2 (`hw5part2.ipynb`) does not need Spark. You can save the data at the end of part 1 and use it in part 2. Of-course if you realize you made a mistake, you will need to go back and run Part 1 again.\n",
    "\n",
    "IF YOU WORK ON AWS **SHUT DOWN** THE AWS CLUSTER WHEN YOU STOP WORKING for a few hours on the HW! If you just leave the cluster open and then work some more the next day, you will find yourself in a world of financial pain."
   ]
  },
  {
   "cell_type": "markdown",
   "metadata": {},
   "source": [
    "## This homework is due Thursday, November 19th 2015, at 11:59PM EST."
   ]
  },
  {
   "cell_type": "markdown",
   "metadata": {},
   "source": [
    "We'll grade the last commit you make before the homework deadline. We will be looking for the files `hw5part1.ipynb`, `hw5part2.ipynb`, and `dftouse.csv`.\n",
    "\n",
    "**Start NOW. This is a long homework.** There is a lot to read, and while there are less computations than on HW4, you are mixing several techniques. Start **NOW** especially to make sure you have Spark working! You might have to try Vagrant, AWS etc to get things running! Labs 8, 9, and 10 will help you. In 9, Bayes2.ipynb has a simple exposition of the Gaussian-Gaussian Bayesian model, while Lab 10 has a worked Naive Bayes example."
   ]
  },
  {
   "cell_type": "markdown",
   "metadata": {},
   "source": [
    "# Table of Contents\n",
    "* [Great Lobster! But awful service :-(](#Great-Lobster!-But-awful-service-:-%28)\n",
    "\t* [This homework is due Thursday, November 19th 2015, at 11:59PM EST.](#This-homework-is-due-Thursday,-November-19th-2015,-at-11:59PM-EST.)\n",
    "\t* [Q1. Using Spark and Natural Language Processing to preprocess the data](#Q1.-Using-Spark-and-Natural-Language-Processing-to-preprocess-the-data)\n",
    "\t\t* [Setting Python packages and Spark up](#Setting-Python-packages-and-Spark-up)\n",
    "\t\t* [Reading in the data](#Reading-in-the-data)\n",
    "\t\t* [Sub-sampling the data](#Sub-sampling-the-data)\n",
    "\t\t\t* [1.1 Create a subsampled-dataframe](#1.1-Create-a-subsampled-dataframe)\n",
    "\t\t* [Creating responses](#Creating-responses)\n",
    "\t\t\t* [1.2 Create a `responses` column to classify reviews as positive or negative](#1.2-Create-a-responses-column-to-classify-reviews-as-positive-or-negative)\n",
    "\t\t* [Natural Language processing](#Natural-Language-processing)\n",
    "\t\t\t* [Parsing language](#Parsing-language)\n",
    "\t\t\t* [1.3 Run `get_parts` on the `text` column of the dataframe](#1.3-Run-get_parts-on-the-text-column-of-the-dataframe)\n",
    "\t* [2. Getting the nouns and doing LDA](#2.-Getting-the-nouns-and-doing-LDA)\n",
    "\t\t* [Why LDA on nouns?](#Why-LDA-on-nouns?)\n",
    "\t\t\t* [Creating the vocabulary](#Creating-the-vocabulary)\n",
    "\t\t\t* [2.1 Create a Corpus in bag of words form](#2.1-Create-a-Corpus-in-bag-of-words-form)\n",
    "\t\t* [Unsupervised topic extraction with LDA](#Unsupervised-topic-extraction-with-LDA)\n",
    "\t\t\t* [2.2 Carry out LDA](#2.2-Carry-out-LDA)\n",
    "\t\t\t* [2.3 Interpret the topics you get with LDA](#2.3-Interpret-the-topics-you-get-with-LDA)\n",
    "\t* [3. Supervised sentiment analysis with Naive Bayes](#3.-Supervised-sentiment-analysis-with-Naive-Bayes)\n",
    "\t\t* [Getting the adjectives](#Getting-the-adjectives)\n",
    "\t\t\t* [3.1 Create the vocabulary of adjectives for the Naive Bayes Classifier.](#3.1-Create-the-vocabulary-of-adjectives-for-the-Naive-Bayes-Classifier.)\n",
    "\t\t* [Get the adjective \"features\" and responses, training and test sets](#Get-the-adjective-\"features\"-and-responses,-training-and-test-sets)\n",
    "\t\t\t* [Transforming to Bag-Of-Words representation](#Transforming-to-Bag-Of-Words-representation)\n",
    "\t\t* [Support code to run a Naive Bayes Classifier.](#Support-code-to-run-a-Naive-Bayes-Classifier.)\n",
    "\t\t\t* [3.2 Write a custom score function, log-likelihood](#3.2-Write-a-custom-score-function,-log-likelihood)\n",
    "\t\t\t* [Cross-Validation](#Cross-Validation)\n",
    "\t\t\t* [Calibration of a classifier](#Calibration-of-a-classifier)\n",
    "\t\t\t* [3.3 Write a custom cross-validation loop](#3.3-Write-a-custom-cross-validation-loop)\n",
    "\t\t\t* [3.4 Test time!](#3.4-Test-time!)\n",
    "\t* [4. Putting topics and sentiment analysis together](#4.-Putting-topics-and-sentiment-analysis-together)\n",
    "\t\t* [Naive Bayes Probabilities](#Naive-Bayes-Probabilities)\n",
    "\t\t\t* [4.1 Obtain log-probabilities for the adjectives](#4.1-Obtain-log-probabilities-for-the-adjectives)\n",
    "\t\t\t* [4.2 Write a function to compute the probability that a sentence is positive.](#4.2-Write-a-function-to-compute-the-probability-that-a-sentence-is-positive.)\n",
    "\t\t\t* [Compute the topic for a sentence](#Compute-the-topic-for-a-sentence)\n",
    "\t\t\t* [Create a dataframe with all of this information](#Create-a-dataframe-with-all-of-this-information)\n",
    "\t\t\t* [4.3 Get the stats](#4.3-Get-the-stats)\n"
   ]
  },
  {
   "cell_type": "code",
   "execution_count": 1,
   "metadata": {
    "collapsed": false
   },
   "outputs": [],
   "source": [
    "%matplotlib inline\n",
    "import numpy as np\n",
    "import scipy as sp\n",
    "import matplotlib as mpl\n",
    "import matplotlib.cm as cm\n",
    "import matplotlib.pyplot as plt\n",
    "import pandas as pd\n",
    "pd.set_option('display.width', 500)\n",
    "pd.set_option('display.max_columns', 100)\n",
    "pd.set_option('display.notebook_repr_html', True)\n",
    "import seaborn as sns\n",
    "sns.set_style(\"whitegrid\")\n",
    "sns.set_context(\"poster\")"
   ]
  },
  {
   "cell_type": "markdown",
   "metadata": {},
   "source": [
    "## Q1. Using Spark and Natural Language Processing to preprocess the data"
   ]
  },
  {
   "cell_type": "markdown",
   "metadata": {},
   "source": [
    "In this part of the homework you will use Spark to parse the restaurant reviews and extract nouns and adjectives. We will use this data later to create the topics of the reviews and do a sentiment analysis. \n",
    "\n",
    "You can use Spark here either on your laptop, directly on the mac, on the Vagrant virtual machine on mac or windows, or on AWS. Lab 8 has all the goods, and hopefully you know what to do by now since you have been going to section.\n",
    "\n",
    "NOTE: if you are running into memory problems, try removing calls to `.cache()` in Spark. This will ease some memory pressure, at the cost of taking longer to run.\n",
    "\n",
    "For this part of the homework we will run Spark . You should make sure your virtual machine has at-least 2GB of virtual memory. If you are using AWS, use a medium instance, at the very least."
   ]
  },
  {
   "cell_type": "markdown",
   "metadata": {},
   "source": [
    "### Setting Python packages and Spark up"
   ]
  },
  {
   "cell_type": "markdown",
   "metadata": {},
   "source": [
    "The first thing we have to do is setting up spark. This can be complex, so do this REALLY early on, even if you dont have time to do anything else in the homework early.\n",
    "\n",
    "You will need to make sure you have 3 packages installed:\n",
    "\n",
    "- `findspark`: `pip install findspark`.\n",
    "- `gensim`: for LDA. Use conda for this. `conda install gensim`. DO NOT use pip for this. You will find pain\n",
    "- `pattern`: for natural language processing, `pip install pattern`.\n",
    "\n",
    "Notice that below I set the full path to Anaconda python. I need to do this as I usually dont put Anaconda on my path, and thus need to provide the full path in the environment variable `PYSPARK_PYTHON`. If Anaconda is on your path, you probably wont need this. In fact, for some of you it might cause Spark to stop working, so comment it out"
   ]
  },
  {
   "cell_type": "code",
   "execution_count": 2,
   "metadata": {
    "collapsed": false
   },
   "outputs": [],
   "source": [
    "import os\n",
    "os.environ['PYSPARK_PYTHON'] = '/Users/matiascuadracourt/anaconda/bin/python'"
   ]
  },
  {
   "cell_type": "markdown",
   "metadata": {},
   "source": [
    "The next cell sets up Spark for you. Your exact incantation might be different. You might not need `findspark`. This is what I had to do.\n",
    "\n",
    "Make sure you are using Spark 1.5.0+ .  On my Mac, I use the JDK (as opposed to the JRE) from Java 8 and Spark 1.5.1."
   ]
  },
  {
   "cell_type": "code",
   "execution_count": 3,
   "metadata": {
    "collapsed": false
   },
   "outputs": [
    {
     "name": "stdout",
     "output_type": "stream",
     "text": [
      "/usr/local/opt/apache-spark/libexec\n"
     ]
    }
   ],
   "source": [
    "import findspark\n",
    "findspark.init()\n",
    "print findspark.find()\n",
    "# Depending on your setup you might have to change this line of code\n",
    "#findspark makes sure I dont need the below on homebrew.\n",
    "#os.environ['SPARK_HOME']=\"/usr/local/Cellar/apache-spark/1.5.1/libexec/\"\n",
    "#the below actually broke my spark, so I removed it. \n",
    "#Depending on how you started the notebook, you might need it.\n",
    "#os.environ['PYSPARK_SUBMIT_ARGS']=\"--master local pyspark --executor-memory 4g\""
   ]
  },
  {
   "cell_type": "markdown",
   "metadata": {},
   "source": [
    "Start up the Spark context. This is what starts java up:"
   ]
  },
  {
   "cell_type": "code",
   "execution_count": 4,
   "metadata": {
    "collapsed": false
   },
   "outputs": [],
   "source": [
    "import pyspark\n",
    "conf = (pyspark.SparkConf()\n",
    "    .setMaster('local')\n",
    "    .setAppName('pyspark')\n",
    "    .set(\"spark.executor.memory\", \"2g\"))\n",
    "sc = pyspark.SparkContext(conf=conf)"
   ]
  },
  {
   "cell_type": "markdown",
   "metadata": {},
   "source": [
    "If you started Spark from a terminal or the ipython notebook from a terminal, you will see all kinds of logging information on the terminal. This information will tell you if something is wrong.\n",
    "\n",
    "We also want to check if the same Python is running on all the child execution processes on your machine/in the cluster. If you did this right the python version printed below from 10 different executors:"
   ]
  },
  {
   "cell_type": "code",
   "execution_count": 5,
   "metadata": {
    "collapsed": false
   },
   "outputs": [
    {
     "data": {
      "text/plain": [
       "['2.7.10 |Anaconda 2.3.0 (x86_64)| (default, Oct 19 2015, 18:31:17) \\n[GCC 4.2.1 (Apple Inc. build 5577)]',\n",
       " '2.7.10 |Anaconda 2.3.0 (x86_64)| (default, Oct 19 2015, 18:31:17) \\n[GCC 4.2.1 (Apple Inc. build 5577)]',\n",
       " '2.7.10 |Anaconda 2.3.0 (x86_64)| (default, Oct 19 2015, 18:31:17) \\n[GCC 4.2.1 (Apple Inc. build 5577)]',\n",
       " '2.7.10 |Anaconda 2.3.0 (x86_64)| (default, Oct 19 2015, 18:31:17) \\n[GCC 4.2.1 (Apple Inc. build 5577)]',\n",
       " '2.7.10 |Anaconda 2.3.0 (x86_64)| (default, Oct 19 2015, 18:31:17) \\n[GCC 4.2.1 (Apple Inc. build 5577)]',\n",
       " '2.7.10 |Anaconda 2.3.0 (x86_64)| (default, Oct 19 2015, 18:31:17) \\n[GCC 4.2.1 (Apple Inc. build 5577)]',\n",
       " '2.7.10 |Anaconda 2.3.0 (x86_64)| (default, Oct 19 2015, 18:31:17) \\n[GCC 4.2.1 (Apple Inc. build 5577)]',\n",
       " '2.7.10 |Anaconda 2.3.0 (x86_64)| (default, Oct 19 2015, 18:31:17) \\n[GCC 4.2.1 (Apple Inc. build 5577)]',\n",
       " '2.7.10 |Anaconda 2.3.0 (x86_64)| (default, Oct 19 2015, 18:31:17) \\n[GCC 4.2.1 (Apple Inc. build 5577)]',\n",
       " '2.7.10 |Anaconda 2.3.0 (x86_64)| (default, Oct 19 2015, 18:31:17) \\n[GCC 4.2.1 (Apple Inc. build 5577)]']"
      ]
     },
     "execution_count": 5,
     "metadata": {},
     "output_type": "execute_result"
    }
   ],
   "source": [
    "import sys\n",
    "rdd = sc.parallelize(xrange(10),10)\n",
    "rdd.map(lambda x: sys.version).collect()"
   ]
  },
  {
   "cell_type": "markdown",
   "metadata": {},
   "source": [
    "ought tomatch the one here:"
   ]
  },
  {
   "cell_type": "code",
   "execution_count": 6,
   "metadata": {
    "collapsed": false
   },
   "outputs": [
    {
     "data": {
      "text/plain": [
       "'2.7.10 |Anaconda 2.3.0 (x86_64)| (default, Oct 19 2015, 18:31:17) \\n[GCC 4.2.1 (Apple Inc. build 5577)]'"
      ]
     },
     "execution_count": 6,
     "metadata": {},
     "output_type": "execute_result"
    }
   ],
   "source": [
    "sys.version"
   ]
  },
  {
   "cell_type": "markdown",
   "metadata": {},
   "source": [
    "### Reading in the data"
   ]
  },
  {
   "cell_type": "markdown",
   "metadata": {},
   "source": [
    "We create a `SQLContext` from our Spark Context so that we can use Spark's dataframe support."
   ]
  },
  {
   "cell_type": "code",
   "execution_count": 7,
   "metadata": {
    "collapsed": true
   },
   "outputs": [],
   "source": [
    "from pyspark.sql import SQLContext\n",
    "sqlsc=SQLContext(sc)"
   ]
  },
  {
   "cell_type": "markdown",
   "metadata": {},
   "source": [
    "The file is available at https://s3.amazonaws.com/cs109-2015/restaurants.jsonl or https://dl.dropboxusercontent.com/u/75194/restaurants.jsonl . Download it to your local machine or onto AWS. You might find the command-line (terminal) programs `wget` or `curl` useful. The file is about 900MB large.\n",
    "\n",
    "We use the SQL Context to read our data file in. The data file is a list of json dictionaries, one per line (thus we gave the file the extension _`.jsonl`_), \n",
    "which each correspond to a row in the dataframe.\n",
    "\n",
    "Copy the file somewhere on your path and read it in like below:"
   ]
  },
  {
   "cell_type": "code",
   "execution_count": 8,
   "metadata": {
    "collapsed": false
   },
   "outputs": [
    {
     "name": "stdout",
     "output_type": "stream",
     "text": [
      "+---------------+------------+--------------------+---------------------+----------+--------------------+-----+--------------------+-------------+--------------------+-----------------+\n",
      "|_corrupt_record|business_avg|         business_id|business_review_count|      date|           review_id|stars|                text|     user_avg|             user_id|user_review_count|\n",
      "+---------------+------------+--------------------+---------------------+----------+--------------------+-----+--------------------+-------------+--------------------+-----------------+\n",
      "|           null|         4.7|mVHrayjG3uZ_RLHkL...|                 10.0|2012-12-01|6w6gMZ3iBLGcUM4RB...|    5|This place was DE...|          5.0|LWbYpcangjBMm4KPx...|              1.0|\n",
      "|           null|         4.7|mVHrayjG3uZ_RLHkL...|                 10.0|2013-03-15|jVVv_DA5mCDB6medi...|    5|Can't miss stop f...|          5.0|m1FpV3EAeggaAdfPx...|              1.0|\n",
      "|           null|         4.7|mVHrayjG3uZ_RLHkL...|                 10.0|2013-03-30|3Es8GsjkssusYgeU6...|    5|This place should...|3.37037037037|8fApIAMHn2MZJFUiC...|             27.0|\n",
      "|           null|         4.7|mVHrayjG3uZ_RLHkL...|                 10.0|2013-10-20|KAkcn7oQP1xX8KsZ-...|    4|This place was ve...|          4.2|uK8tzraOp4M5u3uYr...|              5.0|\n",
      "|           null|         4.7|mVHrayjG3uZ_RLHkL...|                 10.0|2013-11-07|BZNJkkP0bXnwQ2-sC...|    5|Old school.....tr...|          3.0|6wvlM5L4_EroGXbnb...|              8.0|\n",
      "+---------------+------------+--------------------+---------------------+----------+--------------------+-----+--------------------+-------------+--------------------+-----------------+\n",
      "only showing top 5 rows\n",
      "\n"
     ]
    }
   ],
   "source": [
    "revdf = sqlsc.read.json(\"restaurants.jsonl\")\n",
    "revdf.show(5)"
   ]
  },
  {
   "cell_type": "markdown",
   "metadata": {},
   "source": [
    "We look at our data by printing the schema for this table: \n",
    "Spark does this this by sampling some rows for all the columns and seeing the type."
   ]
  },
  {
   "cell_type": "code",
   "execution_count": 9,
   "metadata": {
    "collapsed": false,
    "scrolled": false
   },
   "outputs": [
    {
     "name": "stdout",
     "output_type": "stream",
     "text": [
      "How many reviews do we have? 940600\n",
      "root\n",
      " |-- _corrupt_record: string (nullable = true)\n",
      " |-- business_avg: double (nullable = true)\n",
      " |-- business_id: string (nullable = true)\n",
      " |-- business_review_count: double (nullable = true)\n",
      " |-- date: string (nullable = true)\n",
      " |-- review_id: string (nullable = true)\n",
      " |-- stars: long (nullable = true)\n",
      " |-- text: string (nullable = true)\n",
      " |-- user_avg: double (nullable = true)\n",
      " |-- user_id: string (nullable = true)\n",
      " |-- user_review_count: double (nullable = true)\n",
      "\n"
     ]
    }
   ],
   "source": [
    "#We cache the data to make sure it is only read once from disk\n",
    "revdf.cache()\n",
    "print \"How many reviews do we have?\", revdf.count()\n",
    "revdf.printSchema()"
   ]
  },
  {
   "cell_type": "markdown",
   "metadata": {},
   "source": [
    "We now create a dataframe which has only those restaurants that have more than 10 reviews. The reason to do this is that we'll be gaining information from individual reviews. This information can be quite disparate. And thus we want enough reviews to get some statistically significant middle ground.\n",
    "\n",
    "At this point you might object: isn't the whole point of reviews and recommendations that users are different, so that middle ground is hard to find. In the last homework even our baseline models took user bias into account. \n",
    "\n",
    "Here though our hypothesis is different: we assume that **people will use similar adjectives to describe a good experience, no matter what star rating they give it**. So, we will be ok as long as the definition of \"good\", \"excellent\", \"poor\" takes into account the user bias."
   ]
  },
  {
   "cell_type": "code",
   "execution_count": 10,
   "metadata": {
    "collapsed": false
   },
   "outputs": [],
   "source": [
    "bizcounts=revdf.groupby('business_id').count()\n",
    "bizids = (bizcounts[bizcounts['count'] > 10]\n",
    "          .map(lambda r: r.business_id)\n",
    "          .collect()\n",
    "          )"
   ]
  },
  {
   "cell_type": "code",
   "execution_count": 11,
   "metadata": {
    "collapsed": false
   },
   "outputs": [
    {
     "name": "stdout",
     "output_type": "stream",
     "text": [
      "How many businesses are we left with?  11417\n"
     ]
    }
   ],
   "source": [
    "print \"How many businesses are we left with? \", len(bizids)"
   ]
  },
  {
   "cell_type": "markdown",
   "metadata": {},
   "source": [
    "Notice that the command below creates a new dataframe as dataframes in Spark are immutable. (Remember, in Pandas too, unless we used `inplace=True` we returned a new dataframe from most operations (except queries which returned views))."
   ]
  },
  {
   "cell_type": "code",
   "execution_count": 13,
   "metadata": {
    "collapsed": false
   },
   "outputs": [],
   "source": [
    "revdf_small=revdf[revdf.business_id.isin(bizids)]#creates new dataframe"
   ]
  },
  {
   "cell_type": "markdown",
   "metadata": {},
   "source": [
    "Now we count how many reviews we have left in total across all restaurants."
   ]
  },
  {
   "cell_type": "code",
   "execution_count": 14,
   "metadata": {
    "collapsed": false
   },
   "outputs": [
    {
     "name": "stdout",
     "output_type": "stream",
     "text": [
      "Number of total reviews:  905600\n"
     ]
    }
   ],
   "source": [
    "print \"Number of total reviews: \", revdf_small.count()#actually causes the subselect to happen"
   ]
  },
  {
   "cell_type": "markdown",
   "metadata": {},
   "source": [
    "Remember RDD operations (Dataframes are just a layer over RDD) are lazy in Spark. So what happens here is that the actual subselection only happens on the `.count()`, at which point the data is cached as well. "
   ]
  },
  {
   "cell_type": "markdown",
   "metadata": {},
   "source": [
    "### Sub-sampling the data"
   ]
  },
  {
   "cell_type": "markdown",
   "metadata": {},
   "source": [
    "As you might have noticed, there are almost a million records in this dataframe. Doing our analysis on such a large dataframe might bust past the java heap space on our individual machines. \n",
    "\n",
    "My modus operandi is to always start with a small data set. My code initially tends to almost always be wrong: its much easier to deal with this if you have small datasets. I also like to use functions like `take(5)` in Spark: this gives me a quick sanity check of the output to see if it makes any sense."
   ]
  },
  {
   "cell_type": "markdown",
   "metadata": {},
   "source": [
    "#### 1.1 Create a subsampled-dataframe"
   ]
  },
  {
   "cell_type": "markdown",
   "metadata": {},
   "source": [
    "With this in mind, we'll create a sub-sampled dataframe where we have 8 reviews per restaurant. We create a variable `PER_RESTAURANT_SAMPLES` to store this number."
   ]
  },
  {
   "cell_type": "code",
   "execution_count": 15,
   "metadata": {
    "collapsed": true
   },
   "outputs": [],
   "source": [
    "PER_RESTAURANT_SAMPLES=8"
   ]
  },
  {
   "cell_type": "markdown",
   "metadata": {},
   "source": [
    "Write code that randomly subsamples `PER_RESTAURANT_SAMPLES` reviews for each restaurant. \n",
    "\n",
    "First get a python list of all the review_id's in this smaller sample"
   ]
  },
  {
   "cell_type": "code",
   "execution_count": 16,
   "metadata": {
    "collapsed": false
   },
   "outputs": [
    {
     "name": "stdout",
     "output_type": "stream",
     "text": [
      "CPU times: user 167 ms, sys: 14.7 ms, total: 182 ms\n",
      "Wall time: 14.4 s\n"
     ]
    }
   ],
   "source": [
    "%%time\n",
    "#your code here\n",
    "keyvalue = revdf_small.map(lambda r:(r.business_id,r.review_id))#.collect()\n",
    "rddsamp = keyvalue.groupByKey().flatMapValues(lambda r: np.random.choice(list(r), size=PER_RESTAURANT_SAMPLES, replace=False))\n",
    "revids = rddsamp.map(lambda r: r[1]).collect()"
   ]
  },
  {
   "cell_type": "markdown",
   "metadata": {},
   "source": [
    "Then use this smaller sample and the Spark method `isin` to create a smaller Spark dataframe `subdf`."
   ]
  },
  {
   "cell_type": "code",
   "execution_count": 17,
   "metadata": {
    "collapsed": false
   },
   "outputs": [],
   "source": [
    "#your code here\n",
    "subdf = revdf_small[revdf_small.review_id.isin(revids)]"
   ]
  },
  {
   "cell_type": "markdown",
   "metadata": {},
   "source": [
    "Lets cache the dataframe and see how many reviews we have."
   ]
  },
  {
   "cell_type": "code",
   "execution_count": 18,
   "metadata": {
    "collapsed": false
   },
   "outputs": [
    {
     "data": {
      "text/plain": [
       "91336"
      ]
     },
     "execution_count": 18,
     "metadata": {},
     "output_type": "execute_result"
    }
   ],
   "source": [
    "subdf.cache()\n",
    "subdf.count()"
   ]
  },
  {
   "cell_type": "markdown",
   "metadata": {},
   "source": [
    "You should have about 91000 reviews."
   ]
  },
  {
   "cell_type": "markdown",
   "metadata": {},
   "source": [
    "### Creating responses"
   ]
  },
  {
   "cell_type": "markdown",
   "metadata": {},
   "source": [
    "#### 1.2 Create a `responses` column to classify reviews as positive or negative"
   ]
  },
  {
   "cell_type": "markdown",
   "metadata": {},
   "source": [
    "Remember how we said that we wanted to take into account the user bias in our measures of whether a review was a \"positive\" review or a \"negative\" review?\n",
    "\n",
    "We can do this by asking if the star rating of a user's review is higher or equal to the user's average rating. This may not be the best choice: I found that users use \"good\" adjectives to describe restaurants below their average rating. Something worth playing with and thinking about later.m\n",
    "\n",
    "Add a new column `responses` to our dataframe (remember this will create a new dataframe in Spark, as opposed to the usual behavior in Pandas, see the docs for `withColumn` method on Spark Dataframes). Assign this new dataframe to the same variable `subdf`.\n",
    "Also store the data from the `responses` column in an extra array `resparray`.\n",
    "\n",
    "The `responses` column will be `true` if the star rating of a user's review is greater than or equal to the user average rating."
   ]
  },
  {
   "cell_type": "code",
   "execution_count": 19,
   "metadata": {
    "collapsed": false
   },
   "outputs": [],
   "source": [
    "#your code here\n",
    "subdf = subdf.withColumn('responses', subdf.stars >= subdf.user_avg)\n",
    "resparray = subdf.select(subdf.responses).collect()"
   ]
  },
  {
   "cell_type": "markdown",
   "metadata": {},
   "source": [
    "Let's see what our `subdf` looks like. You should see an additional column `responses` with `true`s and `false`s. (Dont get confused with the lower case trues and falses...its Spark's internal representation)."
   ]
  },
  {
   "cell_type": "code",
   "execution_count": 20,
   "metadata": {
    "collapsed": false
   },
   "outputs": [
    {
     "name": "stdout",
     "output_type": "stream",
     "text": [
      "+---------------+-------------+--------------------+---------------------+----------+--------------------+-----+--------------------+------------------+--------------------+-----------------+---------+\n",
      "|_corrupt_record| business_avg|         business_id|business_review_count|      date|           review_id|stars|                text|          user_avg|             user_id|user_review_count|responses|\n",
      "+---------------+-------------+--------------------+---------------------+----------+--------------------+-----+--------------------+------------------+--------------------+-----------------+---------+\n",
      "|           null|3.91666666667|KayYbHCt-RkbGcPdG...|                 12.0|2010-10-11|v_uEDbK5fP1UJpkXN...|    4|This would be my ...|               3.6|ay9H1RpjbBkaiXGxf...|              5.0|     true|\n",
      "|           null|3.91666666667|KayYbHCt-RkbGcPdG...|                 12.0|2011-02-27|j8GuxQJ_DQsSfrJNk...|    4|A great townie ba...|3.7307692307699996|JbWnXwjLaO1kncUkQ...|             26.0|     true|\n",
      "|           null|3.91666666667|KayYbHCt-RkbGcPdG...|                 12.0|2011-08-15|2xCds3bp0wM6nHMz3...|    4|Alexion's has bee...|               3.6|4-3IU5uUH90m21TWb...|             20.0|     true|\n",
      "|           null|3.91666666667|KayYbHCt-RkbGcPdG...|                 12.0|2011-12-22|UrukGX1emhSRe2fGd...|    3|Good for cheap dr...|3.7368421052599996|bcwr1bFov3PSa1FiG...|             19.0|    false|\n",
      "|           null|3.91666666667|KayYbHCt-RkbGcPdG...|                 12.0|2013-04-25|2_Ru_ASf75kU303rd...|    4|What a cool bar/r...|             3.125|Sjb5e5-gKoLXueFDM...|              8.0|     true|\n",
      "+---------------+-------------+--------------------+---------------------+----------+--------------------+-----+--------------------+------------------+--------------------+-----------------+---------+\n",
      "only showing top 5 rows\n",
      "\n"
     ]
    }
   ],
   "source": [
    "subdf.show(5)"
   ]
  },
  {
   "cell_type": "markdown",
   "metadata": {},
   "source": [
    "Let us calculate the prior probability of having positive samples and store it in `priorp`. We'll also calculate `priorn`, the prior probability of having negative samples."
   ]
  },
  {
   "cell_type": "code",
   "execution_count": 21,
   "metadata": {
    "collapsed": false
   },
   "outputs": [
    {
     "data": {
      "text/plain": [
       "(0.62163878426907249, 0.37836121573092751)"
      ]
     },
     "execution_count": 21,
     "metadata": {},
     "output_type": "execute_result"
    }
   ],
   "source": [
    "priorp = np.mean(resparray)\n",
    "priorn = 1 - priorp\n",
    "priorp, priorn"
   ]
  },
  {
   "cell_type": "markdown",
   "metadata": {},
   "source": [
    "### Natural Language processing"
   ]
  },
  {
   "cell_type": "markdown",
   "metadata": {},
   "source": [
    "Our next step is to take the text of the reviews and process this text to extract grammar and semantic meaning from it.\n",
    "\n",
    "This is in general a hard problem. Machine learning models are usually only as good as the features you give them. The principle they follow is: garbage in, garbage out. \n",
    "\n",
    "Parsing text is hard. It used to be that texts in the old days had good grammatical structure, well formed sentences, and so on. With stuff being written online, many rules are broken. So for example I found some reviews with as many as 10 ellipsis dots between words!\n",
    "\n",
    "Still, we shall use some very standard sentence parsing techniques from the python library `pattern` to do our parsing. The reason for this is that our main aim is to extract nouns and adjectives. This is really a first attempt, and if you are doing sentiment analysis or other text analysis on your project you should investigate better, more robust techniques if you need them.\n",
    "\n",
    "We create a list of what we consider punctuation below, and obtain our stopwords from the `sklearn` stopwords list."
   ]
  },
  {
   "cell_type": "code",
   "execution_count": 22,
   "metadata": {
    "collapsed": true
   },
   "outputs": [],
   "source": [
    "from pattern.en import parse\n",
    "from pattern.en import pprint\n",
    "from pattern.vector import stem, PORTER, LEMMA\n",
    "punctuation = list('.,;:!?()[]{}`''\\\"@#$^&*+-|=~_')"
   ]
  },
  {
   "cell_type": "code",
   "execution_count": 23,
   "metadata": {
    "collapsed": true
   },
   "outputs": [],
   "source": [
    "from sklearn.feature_extraction import text \n",
    "stopwords=text.ENGLISH_STOP_WORDS"
   ]
  },
  {
   "cell_type": "markdown",
   "metadata": {},
   "source": [
    "#### Parsing language"
   ]
  },
  {
   "cell_type": "markdown",
   "metadata": {},
   "source": [
    "Pay attention to this function as it provides an example of the kind of cleaning that needs to be done with text. We dont do a particularly sophisticated job here, but its simple and illustrative for the purposes of a homework. You will want to do a more thorough job on your project."
   ]
  },
  {
   "cell_type": "code",
   "execution_count": 24,
   "metadata": {
    "collapsed": true
   },
   "outputs": [],
   "source": [
    "import re\n",
    "regex1=re.compile(r\"\\.{2,}\")\n",
    "regex2=re.compile(r\"\\-{2,}\")"
   ]
  },
  {
   "cell_type": "markdown",
   "metadata": {},
   "source": [
    "Above we compile two regular expressions we will use. The first matched two or more dots in an ellipsis, while the second matches too or more dashes. We'll assume a single dot is a sentence separator while an single dash means a hyphenated word which is important to keep.\n",
    "\n",
    "Note that it is important for us to preserve sentence structure here as we intend to utilize it to extract nouns and adjectives. It might even be better to compare against lists of known nouns and adverbs, but then one might miss grammatical structure in which nouns are used like adjectives and vice versa. Its all worth playing with.\n",
    "\n",
    "The function `get_parts` below takes in an input review and returns a tuple of nouns and adjectives. Each member of the tuple is a list of lists. For instance the first member is a list, whose members are lists of nouns. Each such member is mined from a sentence. Some sentences will not have any representation as they dont pass the battery of conditions we impose below. Indeed if any sentence has no adjectives or no nouns we remove it. The idea eventually is to treat each such sentence as a review, with the nouns used to find the topic (using LDA), and the adjectives used to do sentiment analysis (via Naive Bayes).\n",
    "\n",
    "`get_parts` does the following:\n",
    "\n",
    "- First we substitute anything more than two dots or two dashes by a space so the letters on either side are treated as separate words\n",
    "- Then we use pattern to parse the text into sentences. The sentences are tokenized into words, and lemmatized, which means that we convert words into their basic form, for [example](https://github.com/piskvorky/topic_modeling_tutorial/blob/master/1%20-%20Streamed%20Corpora.ipynb):\n",
    "\n",
    "> \"work\", \"working\", \"works\", \"worked\", \"working\" => same lemma: \"work\"\n",
    "\n",
    "- The words are associated with tags from the [Penn Treebank](http://www.clips.ua.ac.be/pages/mbsp-tags) in the parse process. This enables us to identify parts-of-speech."
   ]
  },
  {
   "cell_type": "code",
   "execution_count": 25,
   "metadata": {
    "collapsed": false
   },
   "outputs": [
    {
     "data": {
      "text/plain": [
       "u'The/DT/B-NP/O/the world/NN/I-NP/O/world is/VBZ/B-VP/O/be the/DT/B-NP/O/the craziest/JJ/I-NP/O/craziest place/NN/I-NP/O/place ././O/O/.\\nI/PRP/B-NP/O/i am/VBP/B-VP/O/be working/VBG/I-VP/O/work hard/RB/B-ADVP/O/hard ././O/O/.'"
      ]
     },
     "execution_count": 25,
     "metadata": {},
     "output_type": "execute_result"
    }
   ],
   "source": [
    "parse(\"The world is the craziest place. I am working hard.\", tokenize=True, lemmata=True)"
   ]
  },
  {
   "cell_type": "markdown",
   "metadata": {},
   "source": [
    "See the page linked above to interpret what the various annotations mean."
   ]
  },
  {
   "cell_type": "markdown",
   "metadata": {},
   "source": [
    "- We then match for adjectives and nouns separately. While doing this we make sure that the word in question is not a stopword, does not start or end with punctuation, or is not a single letter word.\n",
    "- This gives us pairs of lists of nouns and adjectives from each sentence. If any one of these lists in the pair is empty, we throw the sentence away, because we dont have enough information to process the sentence."
   ]
  },
  {
   "cell_type": "code",
   "execution_count": 26,
   "metadata": {
    "collapsed": false
   },
   "outputs": [],
   "source": [
    "def get_parts(thetext):\n",
    "    thetext=re.sub(regex1, ' ', thetext)\n",
    "    thetext=re.sub(regex2, ' ', thetext)\n",
    "    nouns=[]\n",
    "    descriptives=[]\n",
    "    for i,sentence in enumerate(parse(thetext, tokenize=True, lemmata=True).split()):\n",
    "        nouns.append([])\n",
    "        descriptives.append([])\n",
    "        for token in sentence:\n",
    "            #print token\n",
    "            if len(token[4]) >0:\n",
    "                if token[1] in ['JJ', 'JJR', 'JJS']:\n",
    "                    if token[4] in stopwords or token[4][0] in punctuation or token[4][-1] in punctuation or len(token[4])==1:\n",
    "                        continue\n",
    "                    descriptives[i].append(token[4])\n",
    "                elif token[1] in ['NN', 'NNS']:\n",
    "                    if token[4] in stopwords or token[4][0] in punctuation or token[4][-1] in punctuation or len(token[4])==1:\n",
    "                        continue\n",
    "                    nouns[i].append(token[4])\n",
    "    out=zip(nouns, descriptives)\n",
    "    nouns2=[]\n",
    "    descriptives2=[]\n",
    "    for n,d in out:\n",
    "        if len(n)!=0 and len(d)!=0:\n",
    "            nouns2.append(n)\n",
    "            descriptives2.append(d)\n",
    "    return nouns2, descriptives2"
   ]
  },
  {
   "cell_type": "markdown",
   "metadata": {},
   "source": [
    "Here is a diagram that shows the process.\n",
    "\n",
    "<img src=\"nlp.jpg\" width=800 height=500/>\n",
    "\n",
    "Here is a brief toy example to demonstrate how `get_parts` works:"
   ]
  },
  {
   "cell_type": "code",
   "execution_count": 27,
   "metadata": {
    "collapsed": false
   },
   "outputs": [
    {
     "data": {
      "text/plain": [
       "([[u'patio', u'job'], [u'lunch', u'egg']], [[u'perfect'], [u'good', u'great']])"
      ]
     },
     "execution_count": 27,
     "metadata": {},
     "output_type": "execute_result"
    }
   ],
   "source": [
    "get_parts(\"Have had many other items and just love the food. The patio...job was and...perfect. Lunch is good, and the only egg is great\")"
   ]
  },
  {
   "cell_type": "markdown",
   "metadata": {},
   "source": [
    "#### 1.3 Run `get_parts` on the `text` column of the dataframe"
   ]
  },
  {
   "cell_type": "markdown",
   "metadata": {},
   "source": [
    "Use Spark's `map` to run this function on the contents of the text column of every row of the dataframe. Store the lazy RDD in `review_parts`. (This should be one line of code)"
   ]
  },
  {
   "cell_type": "code",
   "execution_count": 28,
   "metadata": {
    "collapsed": false
   },
   "outputs": [],
   "source": [
    "#your code here\n",
    "review_parts = subdf.map(lambda r:get_parts(r.text))"
   ]
  },
  {
   "cell_type": "markdown",
   "metadata": {},
   "source": [
    "We'll `take` the first three to see what our code looks like. This way we dont have to wait for everything to run."
   ]
  },
  {
   "cell_type": "code",
   "execution_count": 29,
   "metadata": {
    "collapsed": false
   },
   "outputs": [
    {
     "data": {
      "text/plain": [
       "[([[u'haunt', u'area'],\n",
       "   [u'place'],\n",
       "   [u'staff'],\n",
       "   [u'vacation', u'game'],\n",
       "   [u'sandwich', u'special'],\n",
       "   [u'night', u'roast', u'beef', u'cheese', u'sand'],\n",
       "   [u'type', u'wing', u'reg'],\n",
       "   [u'garlic', u'rest'],\n",
       "   [u'buffalo', u'chicken', u'pizza'],\n",
       "   [u'gentleman']],\n",
       "  [[u'local'],\n",
       "   [u'great', u'little'],\n",
       "   [u'friendly', u'damn', u'good'],\n",
       "   [u'great', u'4-day'],\n",
       "   [u'daily'],\n",
       "   [u'special'],\n",
       "   [u'different'],\n",
       "   [u'regular'],\n",
       "   [u'awesome'],\n",
       "   [u'older', u'regular']]),\n",
       " ([[u'townie', u'bar', u'food', u'clientele'],\n",
       "   [u'townie',\n",
       "    u'bar',\n",
       "    u'music',\n",
       "    u'place',\n",
       "    u'crowd',\n",
       "    u'hockey',\n",
       "    u'fan',\n",
       "    u'man',\n",
       "    u'shirt',\n",
       "    u'thirtysomething',\n",
       "    u'time',\n",
       "    u'place'],\n",
       "   [u'staff',\n",
       "    u'notch',\n",
       "    u'order',\n",
       "    u'night',\n",
       "    u'waitress',\n",
       "    u'attitude',\n",
       "    u'visit'],\n",
       "   [u'waiter',\n",
       "    u'cardigan',\n",
       "    u'difficulty',\n",
       "    u'quality',\n",
       "    u'article',\n",
       "    u'clothing'],\n",
       "   [u'pizza', u'size', u'cheese', u'garlic', u'flavor', u'sausage'],\n",
       "   [u'pizza', u'thing', u'way', u'grease', u'territory', u'thing'],\n",
       "   [u'mushroom'],\n",
       "   [u'mushroom', u'mushroom'],\n",
       "   [u'mushroom', u'debacle', u'review', u'star'],\n",
       "   [u'advice',\n",
       "    u'place',\n",
       "    u'music',\n",
       "    u'jukebox',\n",
       "    u'food',\n",
       "    u'price',\n",
       "    u'crowd',\n",
       "    u'staff',\n",
       "    u'mushroom',\n",
       "    u'pie',\n",
       "    u'crap']],\n",
       "  [[u'great', u'tasty', u'interesting'],\n",
       "   [u'refreshing', u'mixed', u'older', u'young'],\n",
       "   [u'overwhelming', u'short-staffed', u'positive', u'entire'],\n",
       "   [u'hooded'],\n",
       "   [u'white', u'large', u'flavorful', u'hot'],\n",
       "   [u'overall', u'delicious', u'unbearable', u'worst'],\n",
       "   [u'canned', u'canned'],\n",
       "   [u'worst'],\n",
       "   [u'entire', u'disgusting'],\n",
       "   [u'awesome',\n",
       "    u'random',\n",
       "    u'tasty',\n",
       "    u'great',\n",
       "    u'good',\n",
       "    u'decent',\n",
       "    u'average',\n",
       "    u'inferior']]),\n",
       " ([[u'time',\n",
       "    u'year',\n",
       "    u'summer',\n",
       "    u'break',\n",
       "    u'college',\n",
       "    u'working',\n",
       "    u'ice',\n",
       "    u'cream',\n",
       "    u'factory',\n",
       "    u'hill'],\n",
       "   [u'year', u'memory', u'customer'],\n",
       "   [u'sandwiches', u'pittsburgh-style', u'sort', u'today', u'time', u'place'],\n",
       "   [u'place', u'town'],\n",
       "   [u'sandwich', u'hour'],\n",
       "   [u'thing', u'place', u'home']],\n",
       "  [[u'old'],\n",
       "   [u'fond'],\n",
       "   [u'perfect', u'ancient'],\n",
       "   [u'clean', u'peaceful', u'little', u'oldest'],\n",
       "   [u'pretty', u'late'],\n",
       "   [u'good', u'closer']])]"
      ]
     },
     "execution_count": 29,
     "metadata": {},
     "output_type": "execute_result"
    }
   ],
   "source": [
    "review_parts.take(3)"
   ]
  },
  {
   "cell_type": "markdown",
   "metadata": {},
   "source": [
    "We use `collect` to collect in a python list all of our results. This is where the computation actually takes place. This function took me between 20-30 mins to run."
   ]
  },
  {
   "cell_type": "code",
   "execution_count": 30,
   "metadata": {
    "collapsed": false
   },
   "outputs": [
    {
     "name": "stdout",
     "output_type": "stream",
     "text": [
      "CPU times: user 2.58 s, sys: 430 ms, total: 3.01 s\n",
      "Wall time: 22min 51s\n"
     ]
    }
   ],
   "source": [
    "%%time\n",
    "parseout = review_parts.collect()"
   ]
  },
  {
   "cell_type": "markdown",
   "metadata": {},
   "source": [
    "## 2. Getting the nouns and doing LDA"
   ]
  },
  {
   "cell_type": "markdown",
   "metadata": {},
   "source": [
    "We want to find out if a particular sentence of a review talks about the food quality or the decorations, the ambiance, the service, etc. We look at the nouns of the sentence to do this. The nouns are the first elements of all the tuples we created. Remember we get a list of lists of lists from here:"
   ]
  },
  {
   "cell_type": "code",
   "execution_count": 31,
   "metadata": {
    "collapsed": false
   },
   "outputs": [
    {
     "data": {
      "text/plain": [
       "[[[u'haunt', u'area'],\n",
       "  [u'place'],\n",
       "  [u'staff'],\n",
       "  [u'vacation', u'game'],\n",
       "  [u'sandwich', u'special'],\n",
       "  [u'night', u'roast', u'beef', u'cheese', u'sand'],\n",
       "  [u'type', u'wing', u'reg'],\n",
       "  [u'garlic', u'rest'],\n",
       "  [u'buffalo', u'chicken', u'pizza'],\n",
       "  [u'gentleman']],\n",
       " [[u'townie', u'bar', u'food', u'clientele'],\n",
       "  [u'townie',\n",
       "   u'bar',\n",
       "   u'music',\n",
       "   u'place',\n",
       "   u'crowd',\n",
       "   u'hockey',\n",
       "   u'fan',\n",
       "   u'man',\n",
       "   u'shirt',\n",
       "   u'thirtysomething',\n",
       "   u'time',\n",
       "   u'place'],\n",
       "  [u'staff', u'notch', u'order', u'night', u'waitress', u'attitude', u'visit'],\n",
       "  [u'waiter', u'cardigan', u'difficulty', u'quality', u'article', u'clothing'],\n",
       "  [u'pizza', u'size', u'cheese', u'garlic', u'flavor', u'sausage'],\n",
       "  [u'pizza', u'thing', u'way', u'grease', u'territory', u'thing'],\n",
       "  [u'mushroom'],\n",
       "  [u'mushroom', u'mushroom'],\n",
       "  [u'mushroom', u'debacle', u'review', u'star'],\n",
       "  [u'advice',\n",
       "   u'place',\n",
       "   u'music',\n",
       "   u'jukebox',\n",
       "   u'food',\n",
       "   u'price',\n",
       "   u'crowd',\n",
       "   u'staff',\n",
       "   u'mushroom',\n",
       "   u'pie',\n",
       "   u'crap']],\n",
       " [[u'time',\n",
       "   u'year',\n",
       "   u'summer',\n",
       "   u'break',\n",
       "   u'college',\n",
       "   u'working',\n",
       "   u'ice',\n",
       "   u'cream',\n",
       "   u'factory',\n",
       "   u'hill'],\n",
       "  [u'year', u'memory', u'customer'],\n",
       "  [u'sandwiches', u'pittsburgh-style', u'sort', u'today', u'time', u'place'],\n",
       "  [u'place', u'town'],\n",
       "  [u'sandwich', u'hour'],\n",
       "  [u'thing', u'place', u'home']]]"
      ]
     },
     "execution_count": 31,
     "metadata": {},
     "output_type": "execute_result"
    }
   ],
   "source": [
    "[e[0] for e in parseout[:3]]"
   ]
  },
  {
   "cell_type": "markdown",
   "metadata": {},
   "source": [
    "We flatten the outer list which holds all the lists corresponding to one given review out, because we now want to treat each accepted sentence in a review as a separate mini-review. Why do we want to do this for the nouns?"
   ]
  },
  {
   "cell_type": "markdown",
   "metadata": {},
   "source": [
    "### Why LDA on nouns?"
   ]
  },
  {
   "cell_type": "markdown",
   "metadata": {},
   "source": [
    "We do LDA only on nouns because the thematic signal is clearer, not-adulterated by other parts of speech.\n",
    "\n",
    "But why do we do it at the granularity of the nouns in a sentence?\n",
    "\n",
    "Think about this from the perspective of clustering. The generative model for LDA is one in which a document comes from a mixture of topics. Each topic can be thought of as a cluster. We need some data which has very clear and strong cluster membership to clearly delineate the clusters. Thus we need to treat the text at a granularity where at-least some sentences have strong cluster membership. For a review, for example, some sentences may talk only about food, and some sentences may talk only about service, and its important to have these so that the topics (clusters) can be clearly established. Thus a sentence is a reasonable granularity, while a paragraph may be too big.\n",
    "\n",
    "We use Spark's `flatMap` to do this."
   ]
  },
  {
   "cell_type": "code",
   "execution_count": 32,
   "metadata": {
    "collapsed": false
   },
   "outputs": [
    {
     "data": {
      "text/plain": [
       "[[u'haunt', u'area'],\n",
       " [u'place'],\n",
       " [u'staff'],\n",
       " [u'vacation', u'game'],\n",
       " [u'sandwich', u'special']]"
      ]
     },
     "execution_count": 32,
     "metadata": {},
     "output_type": "execute_result"
    }
   ],
   "source": [
    "ldadatardd=sc.parallelize([ele[0] for ele in parseout]).flatMap(lambda l: l)\n",
    "ldadatardd.cache()\n",
    "ldadatardd.take(5)"
   ]
  },
  {
   "cell_type": "markdown",
   "metadata": {},
   "source": [
    "#### Creating the vocabulary"
   ]
  },
  {
   "cell_type": "markdown",
   "metadata": {},
   "source": [
    "Now that you have a set of \"documents\" for the LDA, each corresponding to the nouns in a sentence in all the reviews, lets go about compiling the complete vocabulary that these documents use. We need to do this so that we can set up the documents in the form of a corpus, where each document is a sparse vector of the size of the vocabulary, with a number in the slot for the word indicating how many times that word appeared in a document.\n",
    "\n",
    "So the first thing we want to do is to collect all the words. One more flattening does the job but will have duplicates"
   ]
  },
  {
   "cell_type": "code",
   "execution_count": 33,
   "metadata": {
    "collapsed": false
   },
   "outputs": [
    {
     "data": {
      "text/plain": [
       "[u'haunt', u'area', u'place', u'staff', u'vacation']"
      ]
     },
     "execution_count": 33,
     "metadata": {},
     "output_type": "execute_result"
    }
   ],
   "source": [
    "ldadatardd.flatMap(lambda word: word).take(5)"
   ]
  },
  {
   "cell_type": "markdown",
   "metadata": {},
   "source": [
    "Then, in the usual word-count style we reduce to get the word numbers and then just drop these numbers as we dont care for them. We `zipWithIndex` the words to give them an index which we'll use as the place index in the corpus vector."
   ]
  },
  {
   "cell_type": "code",
   "execution_count": 34,
   "metadata": {
    "collapsed": false
   },
   "outputs": [],
   "source": [
    "vocabtups = (ldadatardd.flatMap(lambda word: word)\n",
    "             .map(lambda word: (word, 1))\n",
    "             .reduceByKey(lambda a, b: a + b)\n",
    "             .map(lambda (x,y): x)\n",
    "             .zipWithIndex()\n",
    ").cache()"
   ]
  },
  {
   "cell_type": "markdown",
   "metadata": {},
   "source": [
    "We use Spark's `collectAsMap` to output the vocabulary `vocab` with the words as keys. We also use `map` to invert this dictionary and get `id2word` which maps the index to the word. This dictionary is then used by Gensim."
   ]
  },
  {
   "cell_type": "code",
   "execution_count": 35,
   "metadata": {
    "collapsed": false
   },
   "outputs": [],
   "source": [
    "vocab=vocabtups.collectAsMap()\n",
    "id2word=vocabtups.map(lambda (x,y): (y,x)).collectAsMap()"
   ]
  },
  {
   "cell_type": "code",
   "execution_count": 36,
   "metadata": {
    "collapsed": false
   },
   "outputs": [
    {
     "data": {
      "text/plain": [
       "(u'fawn', u'gab', 19278)"
      ]
     },
     "execution_count": 36,
     "metadata": {},
     "output_type": "execute_result"
    }
   ],
   "source": [
    "id2word[0], vocab.keys()[5], vocab[vocab.keys()[5]]"
   ]
  },
  {
   "cell_type": "markdown",
   "metadata": {},
   "source": [
    "The size of our vocabulary:"
   ]
  },
  {
   "cell_type": "code",
   "execution_count": 37,
   "metadata": {
    "collapsed": false
   },
   "outputs": [
    {
     "data": {
      "text/plain": [
       "28886"
      ]
     },
     "execution_count": 37,
     "metadata": {},
     "output_type": "execute_result"
    }
   ],
   "source": [
    "len(vocab.keys())"
   ]
  },
  {
   "cell_type": "markdown",
   "metadata": {},
   "source": [
    "#### 2.1 Create a Corpus in bag of words form"
   ]
  },
  {
   "cell_type": "markdown",
   "metadata": {},
   "source": [
    "Its now your job to create the lazy RDD `documents`.  By lazy we mean that `collect` still needs to be called on it. `documents`  will be a list of lists that reflects the entire set of sentences. Each one of the member lists consists of a set of tuples `(index, count)` where `index` is the index of the corresponding word in the vocabulary and `count` is the number of times it occured in the sentence.\n",
    "\n",
    "`documents` will look something like:\n",
    "\n",
    "```\n",
    "[[(5912, 1), (3809, 1), (14131, 1), (3876, 1)],\n",
    "[(3266, 1), (3652, 1), (11644, 1), (2296, 1), (27516, 1), (8382, 1)],\n",
    " [(17217, 1), (22979, 1), (11210, 1), (18736, 1), (3893, 1), (21307, 1)],\n",
    " ...,\n",
    " [(23980, 1), (24730, 1), (22979, 1), (20012, 1), (11206, 2)]]\n",
    "```"
   ]
  },
  {
   "cell_type": "markdown",
   "metadata": {},
   "source": [
    "Hint: `defaultdict` from the `collections` module might be useful here"
   ]
  },
  {
   "cell_type": "code",
   "execution_count": 38,
   "metadata": {
    "collapsed": false
   },
   "outputs": [],
   "source": [
    "#your code here\n",
    "import collections as cl\n",
    "# we define an auxiliar function to count words per sentence\n",
    "def aux(r):\n",
    "    d = cl.defaultdict(int)\n",
    "    for k in r:\n",
    "        d[k] += 1\n",
    "    return d.items()\n",
    "# aux(r) returns a list of list lists, each member containing several tuples of the form (word,count)\n",
    "# then we change the word by the its index using vocab\n",
    "documents = ldadatardd.map(lambda r: [(vocab[k[0]],k[1]) for k in aux(r)])"
   ]
  },
  {
   "cell_type": "markdown",
   "metadata": {},
   "source": [
    "We take the first 5 to make sure we got the structure right"
   ]
  },
  {
   "cell_type": "code",
   "execution_count": 40,
   "metadata": {
    "collapsed": false
   },
   "outputs": [
    {
     "data": {
      "text/plain": [
       "[[(7811, 1), (24156, 1)],\n",
       " [(20420, 1)],\n",
       " [(19642, 1)],\n",
       " [(17485, 1), (7804, 1)],\n",
       " [(28039, 1), (19803, 1)]]"
      ]
     },
     "execution_count": 40,
     "metadata": {},
     "output_type": "execute_result"
    }
   ],
   "source": [
    "documents.take(5)"
   ]
  },
  {
   "cell_type": "markdown",
   "metadata": {},
   "source": [
    "And then we `collect` and store in the variable `corpus`."
   ]
  },
  {
   "cell_type": "code",
   "execution_count": 41,
   "metadata": {
    "collapsed": true
   },
   "outputs": [],
   "source": [
    "corpus=documents.collect()"
   ]
  },
  {
   "cell_type": "markdown",
   "metadata": {},
   "source": [
    "### Unsupervised topic extraction with LDA"
   ]
  },
  {
   "cell_type": "markdown",
   "metadata": {},
   "source": [
    "We now run the LDA algorithm on the nouns only. The nouns typically reflect the themes of a review sentence and including other parts of speech adds noise. \n",
    "\n",
    "We'll look for two topics. The thinking is that one topic will pick out the food, while the other one will pick up other stuff about restaurants, such as service or decorations. Of course there will be some mixing and such. The decision is rarely ever completely clean.\n",
    "\n",
    "Remember that LDA is an unsupervised algorithm, so there is no \"performance\" to measure. But we would like the two clusters we are looking for to correspond to our intuition that one should cover the food and one the other qualities of the restaurant. Or something similar.\n",
    "\n",
    "But again remember that there is no reason that this intuition is correct. Just like in the recommender models from the last homework, these clusters are \"latent\" factors. But if they do coincide with topics/classes/clusters in our data, LDA is more useful.\n",
    "\n",
    "We run LDA using a method called \"variational inference\", which can be updated online. We run it in chunks of 20,000 documents, hoping that topics have converged by then. This makes subsequent training faster."
   ]
  },
  {
   "cell_type": "markdown",
   "metadata": {},
   "source": [
    "#### 2.2 Carry out LDA"
   ]
  },
  {
   "cell_type": "code",
   "execution_count": 42,
   "metadata": {
    "collapsed": false
   },
   "outputs": [],
   "source": [
    "import gensim"
   ]
  },
  {
   "cell_type": "markdown",
   "metadata": {},
   "source": [
    "You will run `gensim.models.ldamodel.LdaModel` on our corpus, setting the `id2word` argument to our `id2word` dictionary. Since we are trying to find two clusters, set `num_topics` to 2. The model is stored in the variable `lda2` (for LDA with two topics).\n",
    "\n",
    "This algorithm, as mentioned above, is online. More information about it can be found [here]( https://radimrehurek.com/gensim/wiki.html#latent-dirichlet-allocation) and at the other `gensim` docs (https://radimrehurek.com/gensim/models/ldamodel.html). Update it in chunks of 20,000 docs (`update_every=1` and `chunksize=20000`), with `passes=1` over the entire corpus\n",
    "\n",
    "The code takes about 2-3 minutes to run on my machine.\n"
   ]
  },
  {
   "cell_type": "code",
   "execution_count": 43,
   "metadata": {
    "collapsed": false
   },
   "outputs": [
    {
     "name": "stdout",
     "output_type": "stream",
     "text": [
      "CPU times: user 1min 44s, sys: 365 ms, total: 1min 45s\n",
      "Wall time: 1min 45s\n"
     ]
    }
   ],
   "source": [
    "%%time\n",
    "#your code here\n",
    "lda2 = gensim.models.ldamodel.LdaModel(corpus=corpus, id2word=id2word, num_topics=2, update_every=1, passes=1,chunksize=2000)"
   ]
  },
  {
   "cell_type": "markdown",
   "metadata": {},
   "source": [
    "#### 2.3 Interpret the topics you get with LDA"
   ]
  },
  {
   "cell_type": "markdown",
   "metadata": {},
   "source": [
    "Lets print the topics that the LDA gives us. Notice the two topics are combinations of representative words in the way gensim prints them. You can change print options if you want."
   ]
  },
  {
   "cell_type": "code",
   "execution_count": 44,
   "metadata": {
    "collapsed": false
   },
   "outputs": [
    {
     "data": {
      "text/plain": [
       "[u'0.060*place + 0.031*time + 0.027*restaurant + 0.020*order + 0.017*pizza + 0.015*thing + 0.014*table + 0.013*drink + 0.013*person + 0.012*bar',\n",
       " u'0.067*food + 0.032*service + 0.021*menu + 0.019*chicken + 0.017*sauce + 0.016*staff + 0.016*price + 0.015*burger + 0.014*flavor + 0.013*cheese']"
      ]
     },
     "execution_count": 44,
     "metadata": {},
     "output_type": "execute_result"
    }
   ],
   "source": [
    "lda2.print_topics()"
   ]
  },
  {
   "cell_type": "markdown",
   "metadata": {},
   "source": [
    "We print out some \"documents\" or \"sentences\" from the corpus. The variable we use for iteration is called `bow` for bag-of-words. We use `id2word` to print out the words as well...\n",
    "\n",
    "`get_document_topics(bow)` gives us the two clusters we are looking for, and the probability that the sentence referred to one of the topics or the other."
   ]
  },
  {
   "cell_type": "code",
   "execution_count": 45,
   "metadata": {
    "collapsed": false
   },
   "outputs": [
    {
     "name": "stdout",
     "output_type": "stream",
     "text": [
      "[(7811, 1), (24156, 1)]\n",
      "[(0, 0.8330122803335781), (1, 0.16698771966642187)]\n",
      "haunt area\n",
      "==========================================\n",
      "[(9949, 1), (25404, 1), (21529, 1), (26757, 1)]\n",
      "[(0, 0.64556864091101462), (1, 0.35443135908898543)]\n",
      "food bar clientele townie\n",
      "==========================================\n",
      "[(22319, 1), (515, 1), (21955, 1), (27615, 1), (13051, 1), (23476, 1), (20514, 1), (6255, 1), (2297, 1), (840, 1)]\n",
      "[(0, 0.68408364135701172), (1, 0.31591635864298828)]\n",
      "summer working time factory ice break college hill year cream\n",
      "==========================================\n",
      "[(9949, 1), (28039, 1), (20420, 1), (25098, 1), (17083, 1)]\n",
      "[(0, 0.37868935539039245), (1, 0.62131064460960761)]\n",
      "food sandwich place gluten lot\n",
      "==========================================\n",
      "[(7158, 1)]\n",
      "[(0, 0.74981581272893139), (1, 0.25018418727106856)]\n",
      "wing\n",
      "==========================================\n",
      "[(19029, 1), (27885, 1), (19634, 1), (26733, 1)]\n",
      "[(0, 0.69183895104206228), (1, 0.30816104895793772)]\n",
      "eye fish request waitress\n",
      "==========================================\n",
      "[(7444, 1), (6012, 1), (18169, 1)]\n",
      "[(0, 0.5980599523538207), (1, 0.40194004764617924)]\n",
      "avail mood meal\n",
      "==========================================\n",
      "[(9562, 1), (19467, 1)]\n",
      "[(0, 0.83330908344060417), (1, 0.16669091655939586)]\n",
      "breakfast weekday\n",
      "==========================================\n",
      "[(25142, 1)]\n",
      "[(0, 0.25000242038955189), (1, 0.74999757961044811)]\n",
      "portion\n",
      "==========================================\n",
      "[(4846, 1), (20420, 1)]\n",
      "[(0, 0.83332986378493157), (1, 0.16667013621506835)]\n",
      "vibe place\n",
      "==========================================\n",
      "[(9949, 1), (4770, 1)]\n",
      "[(0, 0.16708065859181334), (1, 0.83291934140818658)]\n",
      "food dessert\n",
      "==========================================\n",
      "[(6184, 1), (14345, 1), (2170, 1), (18169, 1), (28756, 1)]\n",
      "[(0, 0.57788310674536525), (1, 0.42211689325463464)]\n",
      "flag trout guy meal point\n",
      "==========================================\n",
      "[(17572, 1), (5581, 2), (20420, 1)]\n",
      "[(0, 0.89828981548132736), (1, 0.10171018451867253)]\n",
      "reservation dinner place\n",
      "==========================================\n",
      "[(3292, 1)]\n",
      "[(0, 0.74999306875565841), (1, 0.25000693124434159)]\n",
      "party\n",
      "==========================================\n",
      "[(4508, 1), (25404, 1), (17429, 1), (24156, 1)]\n",
      "[(0, 0.89999355656831947), (1, 0.10000644343168041)]\n",
      "couch bar look area\n",
      "==========================================\n",
      "[(244, 1), (24741, 1), (22943, 1), (15674, 1), (19622, 1), (7996, 1)]\n",
      "[(0, 0.071550702054466384), (1, 0.92844929794553366)]\n",
      "plate salad vinegar spring mix dressing\n",
      "==========================================\n",
      "[(28187, 1), (8339, 2), (26862, 1)]\n",
      "[(0, 0.70181110638520594), (1, 0.29818889361479411)]\n",
      "hit location general\n",
      "==========================================\n",
      "[(6158, 1)]\n",
      "[(0, 0.74856128601061678), (1, 0.25143871398938317)]\n",
      "milkshake\n",
      "==========================================\n",
      "[(19642, 1)]\n",
      "[(0, 0.25016309724797314), (1, 0.74983690275202686)]\n",
      "staff\n",
      "==========================================\n",
      "[(9391, 1), (17478, 1), (22150, 1), (22771, 1)]\n",
      "[(0, 0.8340839896149721), (1, 0.1659160103850279)]\n",
      "entrance remaining artifact stack\n",
      "==========================================\n",
      "[(17169, 1), (21955, 1)]\n",
      "[(0, 0.83333098982488529), (1, 0.16666901017511473)]\n",
      "family time\n",
      "==========================================\n",
      "[(374, 1), (2297, 1)]\n",
      "[(0, 0.83332739498635944), (1, 0.16667260501364053)]\n",
      "crowd year\n",
      "==========================================\n",
      "[(9949, 1), (16887, 1)]\n",
      "[(0, 0.16778802840010196), (1, 0.83221197159989801)]\n",
      "food price\n",
      "==========================================\n",
      "[(26132, 1), (20420, 1), (13303, 1)]\n",
      "[(0, 0.8749891775566695), (1, 0.12501082244333059)]\n",
      "neighborhood place way\n",
      "==========================================\n",
      "[(9949, 1)]\n",
      "[(0, 0.25120198827881091), (1, 0.74879801172118909)]\n",
      "food\n",
      "==========================================\n",
      "[(15319, 1), (6815, 1), (25404, 1), (5991, 1)]\n",
      "[(0, 0.89998701206327747), (1, 0.1000129879367225)]\n",
      "tv local bar plenty\n",
      "==========================================\n",
      "[(25404, 1), (26132, 2)]\n",
      "[(0, 0.87499735041788707), (1, 0.12500264958211288)]\n",
      "bar neighborhood\n",
      "==========================================\n",
      "[(12852, 2), (28039, 1), (20420, 1), (448, 1), (18696, 1)]\n",
      "[(0, 0.35711410319851145), (1, 0.64288589680148855)]\n",
      "burger sandwich place chain cheese\n",
      "==========================================\n",
      "[(16111, 1), (8339, 1), (13303, 1)]\n",
      "[(0, 0.87498935162756464), (1, 0.12501064837243539)]\n",
      "drink location way\n",
      "==========================================\n",
      "[(3292, 1), (6741, 1), (2011, 1)]\n",
      "[(0, 0.87314094538504305), (1, 0.12685905461495697)]\n",
      "party chaos hand\n",
      "==========================================\n",
      "[(17485, 1), (21935, 1), (1685, 1), (19642, 1)]\n",
      "[(0, 0.70136988481617224), (1, 0.29863011518382787)]\n",
      "game floor problem staff\n",
      "==========================================\n",
      "[(3325, 1), (13743, 1), (8742, 1), (23889, 1), (3916, 1), (14711, 1), (6304, 1), (18077, 1), (17485, 1), (8265, 1), (24060, 1)]\n",
      "[(0, 0.848447554114656), (1, 0.15155244588534408)]\n",
      "loss scenerio ball hmph visit worker kind credit game half-price skee\n",
      "==========================================\n",
      "[(3770, 1), (21955, 1)]\n",
      "[(0, 0.83283341366193986), (1, 0.16716658633806014)]\n",
      "deal time\n",
      "==========================================\n",
      "[(18758, 1), (9818, 1)]\n",
      "[(0, 0.83331313724275924), (1, 0.16668686275724084)]\n",
      "shot alcohol\n",
      "==========================================\n",
      "[(12852, 1)]\n",
      "[(0, 0.25000165845655714), (1, 0.74999834154344291)]\n",
      "burger\n",
      "==========================================\n",
      "[(12967, 1)]\n",
      "[(0, 0.40703830480801306), (1, 0.59296169519198694)]\n",
      "beer\n",
      "==========================================\n",
      "[(24741, 1)]\n",
      "[(0, 0.25002637044444204), (1, 0.74997362955555791)]\n",
      "salad\n",
      "==========================================\n",
      "[(18169, 1), (15985, 1)]\n",
      "[(0, 0.49720682111793585), (1, 0.50279317888206421)]\n",
      "meal fact\n",
      "==========================================\n",
      "[(25792, 1)]\n",
      "[(0, 0.74999309857956775), (1, 0.25000690142043225)]\n",
      "girl\n",
      "==========================================\n",
      "[(22546, 1)]\n",
      "[(0, 0.74999610287562801), (1, 0.25000389712437193)]\n",
      "patio\n",
      "==========================================\n",
      "[(6065, 1), (15872, 1)]\n",
      "[(0, 0.16678604437507594), (1, 0.83321395562492406)]\n",
      "grass artichoke\n",
      "==========================================\n",
      "[(15859, 1), (18696, 1), (21210, 1), (15047, 1), (7049, 1), (22578, 1), (7996, 1), (16295, 1)]\n",
      "[(0, 0.16575034688585627), (1, 0.83424965311414367)]\n",
      "tomato cheese piece iceberg yellow lettuce dressing total\n",
      "==========================================\n",
      "[(20704, 1), (16330, 1)]\n",
      "[(0, 0.50000329962805579), (1, 0.49999670037194416)]\n",
      "dish pizza\n",
      "==========================================\n",
      "[(14636, 1), (27311, 1), (933, 1), (9456, 1)]\n",
      "[(0, 0.89998500314411689), (1, 0.1000149968558831)]\n",
      "entry bathroom door window\n",
      "==========================================\n",
      "[(9944, 1), (13308, 1), (16330, 1), (8339, 1), (17429, 1)]\n",
      "[(0, 0.91661957051510046), (1, 0.083380429484899432)]\n",
      "feel hut pizza location look\n",
      "==========================================\n",
      "[(9949, 1), (24842, 1), (20420, 1), (172, 1)]\n",
      "[(0, 0.30124116956852254), (1, 0.69875883043147735)]\n",
      "food quality place service\n",
      "==========================================\n",
      "[(1499, 1)]\n",
      "[(0, 0.74997040560275807), (1, 0.25002959439724193)]\n",
      "stuff\n",
      "==========================================\n",
      "[(27031, 1), (2136, 1), (13583, 1), (3849, 1), (18285, 1), (11688, 1)]\n",
      "[(0, 0.61075465317249411), (1, 0.38924534682750578)]\n",
      "sweetening concept tea father sugar girlfriend\n",
      "==========================================\n",
      "[(14252, 1), (992, 1), (23697, 1)]\n",
      "[(0, 0.37520874174106839), (1, 0.62479125825893167)]\n",
      "table sauce flavoring\n",
      "==========================================\n",
      "[(20420, 1), (1433, 1), (4575, 1)]\n",
      "[(0, 0.87499301524669404), (1, 0.12500698475330585)]\n",
      "place scene restaurant\n",
      "==========================================\n",
      "[(4007, 1), (466, 1), (7160, 1)]\n",
      "[(0, 0.39582686104949311), (1, 0.60417313895050695)]\n",
      "waiter choice wine\n",
      "==========================================\n",
      "[(23848, 1), (9949, 1), (28610, 1), (8935, 1), (28689, 1), (16049, 1)]\n",
      "[(0, 0.078967794558025675), (1, 0.92103220544197428)]\n",
      "buck food bagel charge grain butta\n",
      "==========================================\n",
      "[(9949, 1), (20559, 1), (23453, 1)]\n",
      "[(0, 0.47639108079684456), (1, 0.52360891920315544)]\n",
      "food eatery fan\n",
      "==========================================\n",
      "[(9949, 1)]\n",
      "[(0, 0.25120251973244562), (1, 0.74879748026755444)]\n",
      "food\n",
      "==========================================\n",
      "[(5464, 1), (7273, 1)]\n",
      "[(0, 0.50150181660870474), (1, 0.4984981833912952)]\n",
      "fault menu\n",
      "==========================================\n",
      "[(22578, 1), (25332, 1)]\n",
      "[(0, 0.16667387610998399), (1, 0.83332612389001604)]\n",
      "lettuce spinach\n",
      "==========================================\n",
      "[(26484, 1), (24114, 1), (5200, 1), (8339, 1), (21955, 1), (470, 1)]\n",
      "[(0, 0.92856226107069484), (1, 0.071437738929305161)]\n",
      "server benefit doubt location time minute\n",
      "==========================================\n",
      "[(12967, 1), (22680, 1), (22649, 1), (28657, 1)]\n",
      "[(0, 0.62000755884816872), (1, 0.37999244115183123)]\n",
      "beer river oyster view\n",
      "==========================================\n",
      "[(5581, 1), (8407, 1), (19034, 1), (27695, 1)]\n",
      "[(0, 0.47916842868720566), (1, 0.52083157131279434)]\n",
      "dinner line splash seafood\n",
      "==========================================\n",
      "[(18282, 1), (3976, 1), (24742, 1), (14081, 1), (22537, 1)]\n",
      "[(0, 0.57824444780225115), (1, 0.42175555219774891)]\n",
      "cake lunch ride carrot plane\n",
      "==========================================\n",
      "[(8717, 1), (18160, 1)]\n",
      "[(0, 0.16666863489636877), (1, 0.83333136510363126)]\n",
      "taste meat\n",
      "==========================================\n",
      "[(19481, 1), (22680, 2), (17436, 1), (22546, 1), (725, 1)]\n",
      "[(0, 0.92733031297069779), (1, 0.072669687029302266)]\n",
      "trail river biking patio situation\n",
      "==========================================\n",
      "[(8780, 1), (8940, 1), (3598, 1), (243, 1), (14659, 1), (9527, 1)]\n",
      "[(0, 0.071441543815273151), (1, 0.92855845618472688)]\n",
      "onion sushi ginger rice relish size\n",
      "==========================================\n",
      "[(22680, 1), (172, 1), (28657, 1)]\n",
      "[(0, 0.62260449737274692), (1, 0.37739550262725319)]\n",
      "river service view\n",
      "==========================================\n",
      "[(6974, 1), (24741, 1)]\n",
      "[(0, 0.16667889896606281), (1, 0.83332110103393731)]\n",
      "pasta salad\n",
      "==========================================\n",
      "[(1012, 1), (18674, 1), (17169, 1), (6711, 1)]\n",
      "[(0, 0.70062324300573586), (1, 0.29937675699426414)]\n",
      "calzone pizzeria family ricotta\n",
      "==========================================\n",
      "[(4575, 1), (914, 1), (20420, 1), (15248, 1), (11927, 1), (15985, 1), (16330, 1)]\n",
      "[(0, 0.87572088121083458), (1, 0.12427911878916546)]\n",
      "restaurant experience place luigi trip fact pizza\n",
      "==========================================\n",
      "[(18859, 1), (25142, 1), (1228, 1), (16887, 1), (4204, 1)]\n",
      "[(0, 0.11360702116410924), (1, 0.88639297883589074)]\n",
      "money portion sock price flavor\n",
      "==========================================\n",
      "[(13583, 1), (15030, 1)]\n",
      "[(0, 0.49994626461893149), (1, 0.50005373538106856)]\n",
      "tea city\n",
      "==========================================\n",
      "[(13583, 1), (22319, 1), (9118, 1), (26701, 1), (24321, 1)]\n",
      "[(0, 0.74991317947305591), (1, 0.25008682052694403)]\n",
      "tea summer lemonade day event\n",
      "==========================================\n",
      "[(25332, 1), (25449, 1), (20272, 1), (2550, 1), (12289, 1)]\n",
      "[(0, 0.24973003487668907), (1, 0.7502699651233109)]\n",
      "spinach mushroom sourness omelet feta\n",
      "==========================================\n",
      "[(9949, 1), (9256, 1)]\n",
      "[(0, 0.50191915276201637), (1, 0.49808084723798363)]\n",
      "food diner\n",
      "==========================================\n",
      "[(9150, 1), (172, 1), (19642, 1)]\n",
      "[(0, 0.35416201502507277), (1, 0.64583798497492728)]\n",
      "personable service staff\n",
      "==========================================\n",
      "[(7872, 1), (14286, 1), (10360, 1), (6974, 1), (3292, 1), (992, 1)]\n",
      "[(0, 0.3569837435756783), (1, 0.6430162564243217)]\n",
      "clam member entree pasta party sauce\n",
      "==========================================\n",
      "[(5200, 1), (19642, 1)]\n",
      "[(0, 0.50058220811149312), (1, 0.49941779188850682)]\n",
      "doubt staff\n",
      "==========================================\n",
      "[(9949, 1), (5666, 1), (10360, 1), (4276, 1)]\n",
      "[(0, 0.10721462980730548), (1, 0.89278537019269455)]\n",
      "food level entree spice\n",
      "==========================================\n",
      "[(7160, 1)]\n",
      "[(0, 0.25000770006414813), (1, 0.74999229993585192)]\n",
      "wine\n",
      "==========================================\n",
      "[(17169, 1)]\n",
      "[(0, 0.74999532145762671), (1, 0.25000467854237335)]\n",
      "family\n",
      "==========================================\n",
      "[(24842, 1)]\n",
      "[(0, 0.25001634342210449), (1, 0.74998365657789545)]\n",
      "quality\n",
      "==========================================\n",
      "[(5581, 1)]\n",
      "[(0, 0.7413663269730959), (1, 0.2586336730269041)]\n",
      "dinner\n",
      "==========================================\n",
      "[(777, 1), (21181, 1), (4575, 1)]\n",
      "[(0, 0.87499547681849843), (1, 0.12500452318150163)]\n",
      "seating patron restaurant\n",
      "==========================================\n",
      "[(13062, 1), (14081, 1), (2696, 1), (17399, 1), (25481, 1), (17457, 1), (23217, 1), (19185, 1)]\n",
      "[(0, 0.055747696160353827), (1, 0.94425230383964609)]\n",
      "corn carrot szechuan eggplant vegetable assortment broccoli zucchini\n",
      "==========================================\n",
      "[(21670, 1), (23118, 1), (20420, 1)]\n",
      "[(0, 0.62807195363103674), (1, 0.37192804636896332)]\n",
      "takeout atmosphere place\n",
      "==========================================\n",
      "[(9949, 1), (27737, 1)]\n",
      "[(0, 0.50591072659244218), (1, 0.49408927340755787)]\n",
      "food review\n",
      "==========================================\n",
      "[(9949, 1), (8717, 1), (914, 1)]\n",
      "[(0, 0.12625839358929278), (1, 0.87374160641070719)]\n",
      "food taste experience\n",
      "==========================================\n",
      "[(26872, 1)]\n",
      "[(0, 0.25014684632729084), (1, 0.74985315367270911)]\n",
      "hoagie\n",
      "==========================================\n",
      "[(9949, 1), (15640, 1), (20420, 1), (15477, 1), (5718, 1)]\n",
      "[(0, 0.59323190275227666), (1, 0.40676809724772323)]\n",
      "food person place belief today\n",
      "==========================================\n",
      "[(28039, 1), (18244, 1)]\n",
      "[(0, 0.499908328251983), (1, 0.50009167174801694)]\n",
      "sandwich mins\n",
      "==========================================\n",
      "[(26872, 1)]\n",
      "[(0, 0.25014684629148543), (1, 0.74985315370851457)]\n",
      "hoagie\n",
      "==========================================\n",
      "[(14252, 2), (17117, 1), (8147, 1), (4380, 1), (2046, 1)]\n",
      "[(0, 0.92856231171920067), (1, 0.071437688280799314)]\n",
      "table peak number hour night\n",
      "==========================================\n",
      "[(4526, 1)]\n",
      "[(0, 0.74831491870157696), (1, 0.25168508129842304)]\n",
      "espresso\n",
      "==========================================\n",
      "[(23410, 1), (9501, 1), (27352, 1), (6091, 1), (190, 1), (14252, 2), (6604, 1)]\n",
      "[(0, 0.94442554831013537), (1, 0.055574451689864621)]\n",
      "work space laptop wifi friend table folk\n",
      "==========================================\n",
      "[(9949, 1)]\n",
      "[(0, 0.25120168725563063), (1, 0.74879831274436937)]\n",
      "food\n",
      "==========================================\n",
      "[(18696, 2), (7158, 1), (24741, 1), (28014, 1)]\n",
      "[(0, 0.24828400115231863), (1, 0.75171599884768125)]\n",
      "cheese wing salad stick\n",
      "==========================================\n",
      "[(18696, 1), (5581, 1), (28435, 1)]\n",
      "[(0, 0.31265483360552998), (1, 0.68734516639447008)]\n",
      "cheese dinner apple\n",
      "==========================================\n",
      "[(20501, 1), (26788, 1), (9949, 1), (7273, 1), (13062, 1), (19067, 1), (26805, 1)]\n",
      "[(0, 0.065527022747436436), (1, 0.93447297725256362)]\n",
      "pub-y selection food menu corn quesadilla bean\n",
      "==========================================\n",
      "[(21798, 1), (7158, 1)]\n",
      "[(0, 0.4994534910795958), (1, 0.5005465089204042)]\n",
      "dry wing\n",
      "==========================================\n",
      "[(9949, 1), (470, 1), (13947, 1)]\n",
      "[(0, 0.37782256304980277), (1, 0.62217743695019723)]\n",
      "food minute fast\n",
      "==========================================\n",
      "[(3021, 1), (18696, 1), (3855, 1), (11226, 1), (16036, 1), (12199, 1), (26689, 1), (22366, 1), (26805, 1), (21678, 1), (25726, 1), (18617, 1), (17666, 1), (770, 1), (24296, 1), (19515, 1), (992, 1)]\n",
      "[(0, 0.088406992424033742), (1, 0.91159300757596617)]\n",
      "pancake cheese rangoon string mien peanut dan favorite bean veggie soup mac crab world egg bing sauce\n",
      "==========================================\n",
      "[(244, 1), (7655, 1), (21181, 1), (24156, 1), (9949, 1), (19634, 1), (13098, 1), (11404, 1), (13918, 1)]\n",
      "[(0, 0.51000368305456445), (1, 0.48999631694543561)]\n",
      "plate container patron area food request heap carry nauseating\n",
      "==========================================\n"
     ]
    }
   ],
   "source": [
    "for bow in corpus[0:1000:10]:\n",
    "    print bow\n",
    "    print lda2.get_document_topics(bow)\n",
    "    print \" \".join([id2word[e[0]] for e in bow])\n",
    "    print \"==========================================\""
   ]
  },
  {
   "cell_type": "markdown",
   "metadata": {},
   "source": [
    "Interpret the topic 0 and the topic 1 in the cell below by looking at the probabilities above. Play with changing the stride and limits in the for loop above to get a clear idea of what Topic 0 and Topic 1 correspond to."
   ]
  },
  {
   "cell_type": "markdown",
   "metadata": {},
   "source": [
    "*your answer here*\n",
    "\n",
    "After looking at some exmaples:\n",
    "\n",
    "[(4846, 1), (20420, 1)]\n",
    "[(0, 0.83332986378493157), (1, 0.16667013621506835)]\n",
    "vibe place\n",
    "\n",
    "[(9949, 1), (4770, 1)]\n",
    "[(0, 0.16708065859181334), (1, 0.83291934140818658)]\n",
    "food dessert\n",
    "\n",
    "I would say that topic zero refers to things related to the restaurant; such as atmosphere, service, decoration, location, etc...; while topic 1 refers to things related strictly to the food."
   ]
  },
  {
   "cell_type": "markdown",
   "metadata": {},
   "source": [
    "## 3. Supervised sentiment analysis with Naive Bayes"
   ]
  },
  {
   "cell_type": "markdown",
   "metadata": {},
   "source": [
    "Now that we have found the \"topics\" of sentences in all our reviews, we turn our attention to the adjectives in the reviews. \n",
    "\n",
    "Remember that we created a \"responses\" column earlier? What we'll now do is combine all the adjectives in an *entire* review together and use these for sentiment analysis.\n",
    "\n",
    "Typically, such sentiment analysis is done using an external data set such as SentiWordNet. Indeed, such an external analysis typically will perform better, as out positive-negative (1-0) signal is a bit diffuse given the method we used to create it. However, we are trying to learn the techniques here, so it wont hurt us to use our own data set to do this."
   ]
  },
  {
   "cell_type": "markdown",
   "metadata": {},
   "source": [
    "### Getting the adjectives"
   ]
  },
  {
   "cell_type": "markdown",
   "metadata": {},
   "source": [
    "Now that we finished the topic modeling, we go on to do the sentiment analysis of the reviews. The first thing to do is to get the adjectives together. We can create a RDD in the same way that we did for the LDA."
   ]
  },
  {
   "cell_type": "code",
   "execution_count": 46,
   "metadata": {
    "collapsed": false
   },
   "outputs": [
    {
     "data": {
      "text/plain": [
       "[[[u'local'],\n",
       "  [u'great', u'little'],\n",
       "  [u'friendly', u'damn', u'good'],\n",
       "  [u'great', u'4-day'],\n",
       "  [u'daily'],\n",
       "  [u'special'],\n",
       "  [u'different'],\n",
       "  [u'regular'],\n",
       "  [u'awesome'],\n",
       "  [u'older', u'regular']],\n",
       " [[u'great', u'tasty', u'interesting'],\n",
       "  [u'refreshing', u'mixed', u'older', u'young'],\n",
       "  [u'overwhelming', u'short-staffed', u'positive', u'entire'],\n",
       "  [u'hooded'],\n",
       "  [u'white', u'large', u'flavorful', u'hot'],\n",
       "  [u'overall', u'delicious', u'unbearable', u'worst'],\n",
       "  [u'canned', u'canned'],\n",
       "  [u'worst'],\n",
       "  [u'entire', u'disgusting'],\n",
       "  [u'awesome',\n",
       "   u'random',\n",
       "   u'tasty',\n",
       "   u'great',\n",
       "   u'good',\n",
       "   u'decent',\n",
       "   u'average',\n",
       "   u'inferior']],\n",
       " [[u'old'],\n",
       "  [u'fond'],\n",
       "  [u'perfect', u'ancient'],\n",
       "  [u'clean', u'peaceful', u'little', u'oldest'],\n",
       "  [u'pretty', u'late'],\n",
       "  [u'good', u'closer']]]"
      ]
     },
     "execution_count": 46,
     "metadata": {},
     "output_type": "execute_result"
    }
   ],
   "source": [
    "nbdatardd=sc.parallelize([ele[1] for ele in parseout])\n",
    "nbdatardd.cache()\n",
    "nbdatardd.take(3)"
   ]
  },
  {
   "cell_type": "code",
   "execution_count": 47,
   "metadata": {
    "collapsed": false
   },
   "outputs": [
    {
     "data": {
      "text/plain": [
       "[[u'haunt', u'area'],\n",
       " [u'place'],\n",
       " [u'staff'],\n",
       " [u'vacation', u'game'],\n",
       " [u'sandwich', u'special']]"
      ]
     },
     "execution_count": 47,
     "metadata": {},
     "output_type": "execute_result"
    }
   ],
   "source": [
    "ldadatardd=sc.parallelize([ele[0] for ele in parseout]).flatMap(lambda l: l)\n",
    "ldadatardd.cache()\n",
    "ldadatardd.take(5)"
   ]
  },
  {
   "cell_type": "markdown",
   "metadata": {},
   "source": [
    "#### 3.1 Create the vocabulary of adjectives for the Naive Bayes Classifier."
   ]
  },
  {
   "cell_type": "markdown",
   "metadata": {},
   "source": [
    "In analogy with the case of the nouns, create a vocabulary for the adjectives, with the unique adjectives and an index. Store in `advocab` the dictionary with the key the adjective and the value the index."
   ]
  },
  {
   "cell_type": "code",
   "execution_count": 48,
   "metadata": {
    "collapsed": false
   },
   "outputs": [],
   "source": [
    "#your code here\n",
    "adjvocabtups = (nbdatardd.flatMap(lambda l: l).flatMap(lambda word: word)\n",
    "             .map(lambda word: (word, 1))\n",
    "             .reduceByKey(lambda a, b: a + b)\n",
    "             .map(lambda (x,y): x)\n",
    "             .zipWithIndex()\n",
    ").cache()\n",
    "adjvocab = adjvocabtups.collectAsMap()"
   ]
  },
  {
   "cell_type": "code",
   "execution_count": 49,
   "metadata": {
    "collapsed": false
   },
   "outputs": [
    {
     "data": {
      "text/plain": [
       "5250"
      ]
     },
     "execution_count": 49,
     "metadata": {},
     "output_type": "execute_result"
    }
   ],
   "source": [
    "adjvocab['delicious']"
   ]
  },
  {
   "cell_type": "code",
   "execution_count": 50,
   "metadata": {
    "collapsed": false
   },
   "outputs": [
    {
     "data": {
      "text/plain": [
       "19871"
      ]
     },
     "execution_count": 50,
     "metadata": {},
     "output_type": "execute_result"
    }
   ],
   "source": [
    "len(adjvocab)"
   ]
  },
  {
   "cell_type": "markdown",
   "metadata": {},
   "source": [
    "### Get the adjective \"features\" and responses, training and test sets"
   ]
  },
  {
   "cell_type": "markdown",
   "metadata": {},
   "source": [
    "There is a slight difference in how we want to deal with the adjective data compared to how we handled the nouns earlier. We want to flatten the list of sentences in a review down to a list of all the adjectives in the review. That is, instead of a list of nouns per sentence of the review, we create a single list of all adjectives for the whole review, summarizing over all its sentences. Then we'll just join these adjectives together into a fake document using whitespace."
   ]
  },
  {
   "cell_type": "code",
   "execution_count": 51,
   "metadata": {
    "collapsed": true
   },
   "outputs": [],
   "source": [
    "import itertools\n",
    "Xarraypre=nbdatardd.map(lambda l: \" \".join(list(itertools.chain.from_iterable(l))))\n",
    "Xarray=Xarraypre.collect()"
   ]
  },
  {
   "cell_type": "markdown",
   "metadata": {},
   "source": [
    "If you did these right, the length of these two arrays below should be equal. And any element of the array ought to be a whitespace separated list of adjectives"
   ]
  },
  {
   "cell_type": "code",
   "execution_count": 52,
   "metadata": {
    "collapsed": false
   },
   "outputs": [
    {
     "name": "stdout",
     "output_type": "stream",
     "text": [
      "91336 91336\n",
      "local great little friendly damn good great 4-day daily special different regular awesome older regular\n"
     ]
    }
   ],
   "source": [
    "print  len(Xarray), len(resparray)\n",
    "print Xarray[0]"
   ]
  },
  {
   "cell_type": "markdown",
   "metadata": {},
   "source": [
    "Now we are ready to do train our classifier. As usual, we create a mask to split things into a test and training set."
   ]
  },
  {
   "cell_type": "code",
   "execution_count": 53,
   "metadata": {
    "collapsed": false
   },
   "outputs": [],
   "source": [
    "from sklearn.cross_validation import train_test_split\n",
    "itrain, itest = train_test_split(xrange(len(Xarray)), train_size=0.7)\n",
    "mask=np.ones(len(Xarray), dtype='int')\n",
    "mask[itrain]=1\n",
    "mask[itest]=0\n",
    "mask = (mask==1)"
   ]
  },
  {
   "cell_type": "markdown",
   "metadata": {},
   "source": [
    "Since `Xarray` and `resparray` are regular python arrays output by Spark, we convert them into numpy arrays for use with `sklearn`. "
   ]
  },
  {
   "cell_type": "code",
   "execution_count": 54,
   "metadata": {
    "collapsed": false
   },
   "outputs": [],
   "source": [
    "X=np.array(Xarray)\n",
    "y=np.array(resparray)"
   ]
  },
  {
   "cell_type": "markdown",
   "metadata": {},
   "source": [
    "#### Transforming to Bag-Of-Words representation"
   ]
  },
  {
   "cell_type": "markdown",
   "metadata": {},
   "source": [
    "We use a vectorizer to transform the space separated adjectives we have to a bag-of-words representation. For the case of the nouns we wrote this vectorizer ourselves. For the adjectives we'll use a vectorizer from `sklearn` to do the jon (see lab 10 or hw3, cs109 2013 for examples, and the `CountVectorizer` documentation from `sklearn`). \n",
    "\n",
    "Here is a function which takes a `X-col` of word based documents and uses the vectorizer `vectorizer` to transform them into a feature matrix where the features are the vocabulary. We'll see how to do this in detail in a little bit."
   ]
  },
  {
   "cell_type": "code",
   "execution_count": 55,
   "metadata": {
    "collapsed": true
   },
   "outputs": [],
   "source": [
    "def make_xy(X_col, y_col, vectorizer):\n",
    "    X = vectorizer.fit_transform(X_col)\n",
    "    y = y_col\n",
    "    return X, y"
   ]
  },
  {
   "cell_type": "markdown",
   "metadata": {},
   "source": [
    "### Support code to run a Naive Bayes Classifier."
   ]
  },
  {
   "cell_type": "markdown",
   "metadata": {},
   "source": [
    "Do you remember how, in homework 3 we had an asymmetric classifier and dealt with it by creating ROC curves and picking the threshold on them?\n",
    "\n",
    "The approach was a good one, but we could have improved on it in two ways\n",
    "\n",
    "(a) we could have computed ROC curves on validation folds so that we could have error-bars on the ROC curves, rather than eating up the test set to do model comparison.\n",
    "\n",
    "(b) we had the ability to plug in a different score. We could have directly put in a cost, or another such score in the cross-validation process. Some of the theory behind this is covered in the Bayes 3 lab of lab 9. \n",
    "\n",
    "Here we do have a somewhat asymmetric set. So we'll use a different score, designed to maximize probability instead. In general any score that is convex is ok, as it is then guaranteed to have a global optimum.\n",
    "\n",
    "Instead of using accuracy as our cross-validation metric, we'll use log likelihood instead."
   ]
  },
  {
   "cell_type": "markdown",
   "metadata": {},
   "source": [
    "#### 3.2 Write a custom score function, log-likelihood"
   ]
  },
  {
   "cell_type": "markdown",
   "metadata": {},
   "source": [
    "Using clf.predict_logproba, write a function that computes the log-likelihood of a dataset"
   ]
  },
  {
   "cell_type": "code",
   "execution_count": 57,
   "metadata": {
    "collapsed": true
   },
   "outputs": [],
   "source": [
    "\"\"\"\n",
    "Function\n",
    "--------\n",
    "log_likelihood\n",
    "\n",
    "Compute the log likelihood of a dataset according to \n",
    "a Naive Bayes classifier. \n",
    "The Log Likelihood is defined by\n",
    "\n",
    "L = Sum_positive(logP(positive)) + Sum_negative(logP(negative))\n",
    "\n",
    "Where Sum_positive indicates a sum over all positive reviews, \n",
    "and Sum_negative indicates a sum over negative reviews\n",
    "    \n",
    "Parameters\n",
    "----------\n",
    "clf : Naive Bayes classifier\n",
    "x : (nexample, nfeature) array\n",
    "    The input data\n",
    "y : (nexample) integer array\n",
    "    Whether each review is Fresh\n",
    "\"\"\"\n",
    "#your code here\n",
    "def log_likelihood(clf,x,y):\n",
    "    prob = clf.predict_log_proba(x)\n",
    "    pos = y\n",
    "    neg = ~pos\n",
    "    return prob[neg, 0].sum() + prob[pos, 1].sum()   "
   ]
  },
  {
   "cell_type": "markdown",
   "metadata": {},
   "source": [
    "#### Cross-Validation"
   ]
  },
  {
   "cell_type": "markdown",
   "metadata": {},
   "source": [
    "Here's a function to estimate the cross-validated value of a scoring function, given a classifier and data. Why are we providing this function?\n",
    "\n",
    "Why not use `do_classify`? Indeed we could, but we also want to set up a parameter for the vectorization pre-processing step. We could use a pipeline for this purpose, and then use `do_classify`.\n",
    "\n",
    "Here we'll have you implement the pipeline yourself, since it has two steps. This way the process of setting up a pipeline becomes "
   ]
  },
  {
   "cell_type": "code",
   "execution_count": 58,
   "metadata": {
    "collapsed": true
   },
   "outputs": [],
   "source": [
    "from sklearn.cross_validation import KFold\n",
    "\n",
    "def cv_score(clf, x, y, score_func, nfold=5):\n",
    "    \"\"\"\n",
    "    Uses 5-fold cross validation to estimate a score of a classifier\n",
    "    \n",
    "    Inputs\n",
    "    ------\n",
    "    clf : Classifier object\n",
    "    x : Input feature vector\n",
    "    y : Input class labels\n",
    "    score_func : Function like log_likelihood, that takes (clf, x, y) as input,\n",
    "                 and returns a score\n",
    "                 \n",
    "    Returns\n",
    "    -------\n",
    "    The average score obtained by splitting (x, y) into 5 folds of training and \n",
    "    test sets, fitting on the training set, and evaluating score_func on the test set\n",
    "    \n",
    "    Examples\n",
    "    cv_score(clf, x, y, log_likelihood)\n",
    "    \"\"\"\n",
    "    result = 0\n",
    "    for train, test in KFold(y.size, nfold): # split data into train/test groups, 5 times\n",
    "        clf.fit(x[train], y[train]) # fit\n",
    "        result += score_func(clf, x[test], y[test]) # evaluate score function on held-out data\n",
    "    return result / nfold # average"
   ]
  },
  {
   "cell_type": "markdown",
   "metadata": {},
   "source": [
    "#### Calibration of a classifier"
   ]
  },
  {
   "cell_type": "markdown",
   "metadata": {},
   "source": [
    "This code is simply lifted from cs109 2013 hw 3 and labs 9 and 10. You always want to check the calibration of a probabilistic classifier:  -- that is, whether a prediction made with a confidence of x% is correct approximately x% of the time. We might say a model is over-confident if the positive fraction is usually closer to 0.5 than expected (that is, there is more uncertainty than the model predicted). Likewise, a model is under-confident if the probabilities are usually further away from 0.5. Here we provide code to make a calibration plot. See Lab 10 for a description of what this code does."
   ]
  },
  {
   "cell_type": "code",
   "execution_count": 59,
   "metadata": {
    "collapsed": true
   },
   "outputs": [],
   "source": [
    "def calibration_plot(clf, xtest, ytest):\n",
    "    prob = clf.predict_proba(xtest)[:, 1]\n",
    "    outcome = ytest\n",
    "    data = pd.DataFrame(dict(prob=prob, outcome=outcome))\n",
    "\n",
    "    #group outcomes into bins of similar probability\n",
    "    bins = np.linspace(0, 1, 20)\n",
    "    cuts = pd.cut(prob, bins)\n",
    "    binwidth = bins[1] - bins[0]\n",
    "    \n",
    "    #freshness ratio and number of examples in each bin\n",
    "    cal = data.groupby(cuts).outcome.agg(['mean', 'count'])\n",
    "    cal['pmid'] = (bins[:-1] + bins[1:]) / 2\n",
    "    cal['sig'] = np.sqrt(cal.pmid * (1 - cal.pmid) / cal['count'])\n",
    "        \n",
    "    #the calibration plot\n",
    "    ax = plt.subplot2grid((3, 1), (0, 0), rowspan=2)\n",
    "    p = plt.errorbar(cal.pmid, cal['mean'], cal['sig'])\n",
    "    plt.plot(cal.pmid, cal.pmid, linestyle='--', lw=1, color='k')\n",
    "    plt.ylabel(\"Empirical P(+)\")\n",
    "    \n",
    "    #the distribution of P(+)\n",
    "    ax = plt.subplot2grid((3, 1), (2, 0), sharex=ax)\n",
    "    \n",
    "    plt.bar(left=cal.pmid - binwidth / 2, height=cal['count'],\n",
    "            width=.95 * (bins[1] - bins[0]),\n",
    "            fc=p[0].get_color())\n",
    "    \n",
    "    plt.xlabel(\"Predicted P(+)\")\n",
    "    plt.ylabel(\"Number\")"
   ]
  },
  {
   "cell_type": "markdown",
   "metadata": {},
   "source": [
    "We are going to use a simple `CountVectorizer` here, along with a Multinomial Naive Bayes classifier."
   ]
  },
  {
   "cell_type": "code",
   "execution_count": 60,
   "metadata": {
    "collapsed": true
   },
   "outputs": [],
   "source": [
    "from sklearn.feature_extraction.text import CountVectorizer\n",
    "from sklearn.naive_bayes import MultinomialNB"
   ]
  },
  {
   "cell_type": "markdown",
   "metadata": {},
   "source": [
    "#### 3.3 Write a custom cross-validation loop"
   ]
  },
  {
   "cell_type": "markdown",
   "metadata": {},
   "source": [
    "Write a cross-validation loop that loops over the `min_df` parameter from `CountVectorizer` and `alpha` from `MultinomialNB`. \n",
    "\n",
    "- Use our adjective vocabulary `adjvocab` as an argument to `sklearn`'s CountVectorizer. This guarantees that the indices we set up will be used.\n",
    "- note that `min_df` affects this vectorization, and thus the vectorizer is created afresh at each point on the cross-validation grid.\n",
    "- `make_xy` thus needs to run for each hyper-parameter combination as well since the features are just slightly different. We use the same mask to make sure we are getting the same training samples\n",
    "- the cross-validation happens inside the `cv_score` function. Think of why this is ok...shouldnt feature creation happen inside the cross-validation loop? (answer this below your code)\n",
    "\n",
    "Output the best `alpha` in the variable `best_alpha` and `best_min_df` in the variable `best_min_df`."
   ]
  },
  {
   "cell_type": "code",
   "execution_count": 61,
   "metadata": {
    "collapsed": false
   },
   "outputs": [
    {
     "name": "stdout",
     "output_type": "stream",
     "text": [
      "CPU times: user 30.8 s, sys: 3.13 s, total: 33.9 s\n",
      "Wall time: 33.8 s\n"
     ]
    }
   ],
   "source": [
    "%%time\n",
    "#your code here\n",
    "# I used the code given in lab 10 and change it a bit\n",
    "\n",
    "#the grid of parameters to search over\n",
    "alphas = [0, .1, 1, 5, 10, 50]\n",
    "min_dfs = [1e-5, 1e-4, 1e-3, 1e-2, 1e-1]\n",
    "\n",
    "#Find the best value for alpha and min_df, and the best classifier\n",
    "best_alpha = None\n",
    "best_min_df = None\n",
    "max_loglike = -np.inf\n",
    "for alpha in alphas:\n",
    "    for min_df in min_dfs:         \n",
    "        vectorizer = CountVectorizer(min_df = min_df, vocabulary=adjvocab)       \n",
    "        Xi, Yi = make_xy(X[mask],y[mask], vectorizer)\n",
    "        Yi = Yi.ravel()\n",
    "        clf = MultinomialNB(alpha=alpha)\n",
    "        loglike = cv_score(clf, Xi, Yi, log_likelihood)\n",
    "        if loglike > max_loglike:\n",
    "            max_loglike = loglike\n",
    "            best_alpha, best_min_df = alpha, min_df"
   ]
  },
  {
   "cell_type": "code",
   "execution_count": 89,
   "metadata": {
    "collapsed": false
   },
   "outputs": [
    {
     "name": "stdout",
     "output_type": "stream",
     "text": [
      "alpha: 1.000000\n",
      "min_df: 0.000010\n"
     ]
    }
   ],
   "source": [
    "print \"alpha: %f\" % best_alpha\n",
    "print \"min_df: %f\" % best_min_df"
   ]
  },
  {
   "cell_type": "markdown",
   "metadata": {},
   "source": [
    "*your answer here*\n",
    "\n",
    "I believe that is ok because cv_score is already receiving a training set and there is no previous validation set defined, so is this function the one in charge of getting multiple training and validation sets and determining the scores. We don't have two separate sets, train and validation, inside loop (outside cv_score) so we don't have the necessary elements to make the validation outside cv_score."
   ]
  },
  {
   "cell_type": "markdown",
   "metadata": {},
   "source": [
    "#### 3.4 Test time!"
   ]
  },
  {
   "cell_type": "markdown",
   "metadata": {},
   "source": [
    "Now that you've determined values for alpha and min_df that optimize the cross-validated log-likelihood, repeat the CountVectorization and fitting to train a final classifier with these parameters, and draw calibration plots on the test set. Calculate the accuracy on the training and testing set. Comment on your results and the calibration."
   ]
  },
  {
   "cell_type": "code",
   "execution_count": 62,
   "metadata": {
    "collapsed": false
   },
   "outputs": [
    {
     "name": "stdout",
     "output_type": "stream",
     "text": [
      "Accuracy on training data: 0.74\n",
      "Accuracy on test data:     0.71\n"
     ]
    }
   ],
   "source": [
    "#your code here\n",
    "# Again, took this code from lab 10 and change it a bit\n",
    "vectorizer = CountVectorizer(min_df=best_min_df, vocabulary=adjvocab)\n",
    "Xi, Yi = make_xy(X,y, vectorizer)\n",
    "Yi = Yi.ravel()\n",
    "xtrain=Xi[mask]\n",
    "ytrain=Yi[mask]\n",
    "xtest=Xi[~mask]\n",
    "ytest=Yi[~mask]\n",
    "clf = MultinomialNB(alpha=best_alpha).fit(xtrain, ytrain)\n",
    "\n",
    "# Your code here. Print the accuracy on the test and training dataset\n",
    "training_accuracy = clf.score(xtrain, ytrain)\n",
    "test_accuracy = clf.score(xtest, ytest)\n",
    "\n",
    "print \"Accuracy on training data: %0.2f\" % (training_accuracy)\n",
    "print \"Accuracy on test data:     %0.2f\" % (test_accuracy)"
   ]
  },
  {
   "cell_type": "code",
   "execution_count": 63,
   "metadata": {
    "collapsed": false
   },
   "outputs": [
    {
     "name": "stderr",
     "output_type": "stream",
     "text": [
      "/Users/matiascuadracourt/anaconda/lib/python2.7/site-packages/matplotlib/collections.py:590: FutureWarning: elementwise comparison failed; returning scalar instead, but in the future will perform elementwise comparison\n",
      "  if self._edgecolors == str('face'):\n"
     ]
    },
    {
     "data": {
      "image/png": "[encoded data removed]",
      "text/plain": [
       "<matplotlib.figure.Figure at 0x132135f50>"
      ]
     },
     "metadata": {},
     "output_type": "display_data"
    }
   ],
   "source": [
    "calibration_plot(clf,xtest,ytest)"
   ]
  },
  {
   "cell_type": "markdown",
   "metadata": {},
   "source": [
    "*your answer here*\n",
    "\n",
    "We can highlight three main ideas from the above plot:\n",
    "\n",
    "+ There could be a sligth overfit, since the accuracy decays a by 3 pp from the training data to the test data, but the magnitude is not worrysome in my opinion.\n",
    "\n",
    "+ Empirical fractions for the a positives tend to be higher than the predicted probabilities under 0.4, and lower  above 0.4.\n",
    "\n",
    "+ Model is moderately conclusive, even when there are decent clusters around 0 and 1 there is also a big cluster around 0.6 and a lot of bins uniformly distributed between 0 and 0.6, bins have a an increasing behavior between 0.6 and 1.\n",
    "\n"
   ]
  },
  {
   "cell_type": "markdown",
   "metadata": {},
   "source": [
    "## 4. Putting topics and sentiment analysis together"
   ]
  },
  {
   "cell_type": "markdown",
   "metadata": {},
   "source": [
    "Now we have probabilities for which topic a sentence belongs to based on the nouns, and we have our Naive Bayes classifier which predicts the sentiment of a whole review based on its adjectives. We need to modify our sentiment analysis to work on the level of single sentences, like we did for the topic modeling. The basic idea is summed up in this diagram:\n",
    "\n",
    "<img src=\"process.jpg\" width=800 height=600/>\n",
    "\n",
    "which shows a bunch of sentiments for the topics T0 and T1."
   ]
  },
  {
   "cell_type": "markdown",
   "metadata": {},
   "source": [
    "### Naive Bayes Probabilities"
   ]
  },
  {
   "cell_type": "markdown",
   "metadata": {},
   "source": [
    "Our naive Bayes classifier computes $P(\\text{class}\\,|\\,\\text{review})$, where the _class_ is \"whether the review is positive or negative\" and the _review_ corresponds to a set of adjectives $\\{\\text{word}_1, \\text{word}_2, \\text{word}_3, ...\\}$. \n",
    "\n",
    "According to Bayes theoreme we have:\n",
    "$$P(\\text{class}\\,|\\,\\text{word}_1, \\text{word}_2, ...) = \\frac{P(\\text{word}_1. \\text{word}_2, ...\\,|\\,\\text{class})P(\\text{class})}{P(\\text{word}_1, \\text{word}_2, ...)}$$\n",
    "\n",
    "Remember that the Naive Bayes classifier assumes conditional independence, i.e. it assumes that \n",
    "\n",
    "$P(\\text{word}_1, \\text{word}_2, ... \\,|\\, \\text{class}) = P(\\text{word_1}\\,|\\,\\text{class}) \\cdot P(\\text{word_2}\\,|\\,\\text{class}) \\cdot ...$. \n",
    "\n",
    "This means that during training our classifier estimated $P(\\text{word}_i \\,|\\, \\text{class})$, so it is pretty straightforward to apply it to the words from single sentences instead of whole reviews. We have to be careful though, because sentences typically are much shorter than whole reviews this means that we need to re-calibrate our conditional probabilities."
   ]
  },
  {
   "cell_type": "markdown",
   "metadata": {},
   "source": [
    "#### 4.1 Obtain log-probabilities for the adjectives"
   ]
  },
  {
   "cell_type": "markdown",
   "metadata": {},
   "source": [
    "We want to compute all the class-conditional probabilities $P(\\text{word}_i \\,|\\, \\text{class})$ for every word in our adjective vocabulary. Use the vectorizer's `get_feature_names` function and the Naive Bayes classifier's `feature_log_prob_` (see the docs for `MultinomialNB`) to create two dictionaries.  One dictionary is for $\\log P(\\text{word}_i \\,|\\, \\text{class}=1)$ and the other is for $\\log P(\\text{word}_i \\,|\\, \\text{class}=0)$. Call the first dictionary `logpositives` and the second one `lognegatives` respectively. Thus the keys are the words themselves and the values are the log-probabilities\n",
    "\n",
    "Note that we are using the logarithm here. As we multiply probabilities, we can run into numerical problems if we have too many factors. In log space multiplications become sums and our computations is more stable. \n"
   ]
  },
  {
   "cell_type": "code",
   "execution_count": 64,
   "metadata": {
    "collapsed": false
   },
   "outputs": [],
   "source": [
    "#your code here\n",
    "logpositives = {}\n",
    "lognegatives = {}\n",
    "zipx = zip(vectorizer.get_feature_names(),clf.feature_log_prob_[0],clf.feature_log_prob_[1])\n",
    "for k,ln, lp in zipx:\n",
    "    logpositives[k] = lp\n",
    "    lognegatives[k] = ln"
   ]
  },
  {
   "cell_type": "markdown",
   "metadata": {},
   "source": [
    "#### 4.2 Write a function to compute the probability that a sentence is positive."
   ]
  },
  {
   "cell_type": "markdown",
   "metadata": {},
   "source": [
    "We've calculated all the $P(\\text{word}_i \\,|\\, \\text{class}=1)$ and $P(\\text{word}_i \\,|\\, \\text{class}=0)$ above as logs. This has been done for all the adjectives in each review.\n",
    "\n",
    "Now we wish to invert the question. We wish to ask: given a sentence $s$ of adjectives (since we stripped the nouns), whats the probability that this sentence is positive? \n",
    "\n",
    "We use Bayes theorem for this (+ is the class):\n",
    "\n",
    "$$P(+\\,|\\,s) = \\frac{P(s\\,|\\,+)P(+)}{P(s\\,|\\,+)P(+) + P(s\\,|\\,-)P(-)}$$\n",
    "\n",
    "Using the Naive Bayes assumption we find for the adjectives $\\text{word}_i$:\n",
    "\n",
    "$$P(s\\,|\\,+) = \\prod_i P(\\text{word}_i\\,|\\,+) \\implies log(P(s\\,|\\,+)) = \\sum_i log(P(\\text{word}_i\\,|\\,+))$$\n",
    "\n",
    "Use these two formulae to write a function `calc_pplus` which takes 5 arguments: a list of adjectives `adjlist` constituting a sentence, a dictionary of logpositives `lp`, a dictionary of lognegatives `ln`, the prior probability of a review being positive `pp`, and the prior probability of a review being negative `pn`; and outputs $P(s\\,|\\,+)$. (The prior probabilities were calculated earlier in this notebook)\n",
    "\n",
    "Here is the spec:\n",
    "`def calc_pplus(adjlist, lp, ln, pp,pn)`"
   ]
  },
  {
   "cell_type": "code",
   "execution_count": 82,
   "metadata": {
    "collapsed": true
   },
   "outputs": [],
   "source": [
    "#your code here\n",
    "def calc_pplus(adjlist, lp, ln, pp,pn):\n",
    "    pspos = 0\n",
    "    psneg = 0\n",
    "    for word in adjlist:\n",
    "        pspos = pspos + lp[word]\n",
    "        psneg = psneg + ln[word]\n",
    "    pspos = np.exp(pspos)\n",
    "    psneg = np.exp(psneg)\n",
    "    bayes = (pspos*pp)/(pspos*pp + psneg*pn)\n",
    "    return bayes     "
   ]
  },
  {
   "cell_type": "markdown",
   "metadata": {},
   "source": [
    "#### Compute the topic for a sentence"
   ]
  },
  {
   "cell_type": "markdown",
   "metadata": {},
   "source": [
    "Back to our LDA topics. First we do a sanity check. We obtain all the review ids, and check that the length of the `parseout` array is identical to that of the `reviews` array."
   ]
  },
  {
   "cell_type": "code",
   "execution_count": 83,
   "metadata": {
    "collapsed": true
   },
   "outputs": [],
   "source": [
    "reviews=subdf.map(lambda r: r.review_id).collect()"
   ]
  },
  {
   "cell_type": "code",
   "execution_count": 84,
   "metadata": {
    "collapsed": false
   },
   "outputs": [
    {
     "data": {
      "text/plain": [
       "(91336, 91336)"
      ]
     },
     "execution_count": 84,
     "metadata": {},
     "output_type": "execute_result"
    }
   ],
   "source": [
    "len(parseout),len(reviews)"
   ]
  },
  {
   "cell_type": "markdown",
   "metadata": {},
   "source": [
    "We write a function `choose_topic` which chooses which of the two LDA topics (clusters) we ought to pick for a sentence, given the bag of words for that sentence. This simply uses the higher probability cluster to make a choice. Sometimes `get_document_topics` only outputs one cluster if the probability is overwhelmingly high. So we need to handle this case."
   ]
  },
  {
   "cell_type": "code",
   "execution_count": 85,
   "metadata": {
    "collapsed": true
   },
   "outputs": [],
   "source": [
    "def choose_topic(ldamodel, bow):\n",
    "    tee = lda2.get_document_topics(bow)\n",
    "    if len(tee)==2:\n",
    "        t1,t2=tee\n",
    "        if t2[1] >= t1[1]:#get higher probability topic\n",
    "            topicis=t2[0]\n",
    "        else:\n",
    "            topicis=t1[0]\n",
    "    elif len(tee)==1:#if only one was provided its very high probability. Take it\n",
    "        teetuple=tee[0]\n",
    "        topicis=teetuple[0]\n",
    "    return topicis\n"
   ]
  },
  {
   "cell_type": "markdown",
   "metadata": {},
   "source": [
    "We now combine the functions `calc_pplus` and `choose_topic` in the loop below to obtain the sentence topic and calculate the sentiment of the sentence. Note how we use the length of the noun-list for each review from `parseout` to obtain the appropriate bag-of-words from our corpus. We store our output for each review in a dictionary with keys review-id and values a list of dictionaries, one for each sentence with the topic `topic` of the sentence and the probability `pplus` of it \"being\" or predicting positive. This loop will take a few minutes to run."
   ]
  },
  {
   "cell_type": "code",
   "execution_count": 86,
   "metadata": {
    "collapsed": false
   },
   "outputs": [],
   "source": [
    "counter=0\n",
    "reviewdict={}\n",
    "for i, rid in enumerate(reviews):\n",
    "    rlist=[]\n",
    "    nlist, alist = parseout[i]\n",
    "    ln=len(nlist)\n",
    "    localbow=corpus[counter:counter+ln]\n",
    "    for bow, adj, noun in zip(localbow, alist, nlist):\n",
    "        doc=\" \".join([id2word[e[0]] for e in bow])\n",
    "        pplus=calc_pplus(adj, logpositives, lognegatives, priorp, priorn)\n",
    "        topicis=choose_topic(lda2, bow)\n",
    "        ldict={\"topic\": topicis, 'pplus':pplus}\n",
    "        rlist.append(ldict)\n",
    "    reviewdict[rid]=rlist\n",
    "    counter=counter+ln\n"
   ]
  },
  {
   "cell_type": "markdown",
   "metadata": {},
   "source": [
    "####  Create a dataframe with all of this information"
   ]
  },
  {
   "cell_type": "markdown",
   "metadata": {},
   "source": [
    "We now write some Spark code to combine this dictionary with the original `subdf` dataframe to get a dataframe `completedf` which adds in the individual sentences for each review."
   ]
  },
  {
   "cell_type": "markdown",
   "metadata": {},
   "source": [
    "The function `extendit` takes a row from `subdf`, gets the `review_id`, uses it to lookup the `reviewdict` above, finds the list of sentence dictionaries there, makes a copy of the dictionaries, and augments them with information from `subdf`. So our output is a list of dicts, one for each sentence."
   ]
  },
  {
   "cell_type": "code",
   "execution_count": 87,
   "metadata": {
    "collapsed": true
   },
   "outputs": [],
   "source": [
    "def extendit(row):\n",
    "    outlist=[]\n",
    "    revs=reviewdict[row.review_id]\n",
    "    for r in revs:\n",
    "        r2=r.copy()\n",
    "        r2['business_id']=row.business_id\n",
    "        r2['user_id']=row.user_id\n",
    "        r2['review_id']=row.review_id\n",
    "        r2['stars']=row.stars\n",
    "        r2['user_avg']=row.user_avg\n",
    "        outlist.append(r2)\n",
    "    return outlist\n"
   ]
  },
  {
   "cell_type": "markdown",
   "metadata": {},
   "source": [
    "We use Spark `flatMap` to create a huge list of dictionaries, one per sentence in the review, and then combine these into a Pandas (_not_ Spark) dataframe `completedf`"
   ]
  },
  {
   "cell_type": "code",
   "execution_count": 88,
   "metadata": {
    "collapsed": false
   },
   "outputs": [
    {
     "name": "stdout",
     "output_type": "stream",
     "text": [
      "CPU times: user 24.7 s, sys: 2.1 s, total: 26.8 s\n",
      "Wall time: 27.8 s\n"
     ]
    }
   ],
   "source": [
    "%%time\n",
    "newdfin=subdf.flatMap(lambda r: extendit(r)).cache()"
   ]
  },
  {
   "cell_type": "code",
   "execution_count": 90,
   "metadata": {
    "collapsed": false
   },
   "outputs": [
    {
     "data": {
      "text/plain": [
       "[{'business_id': u'KayYbHCt-RkbGcPdGOThNg',\n",
       "  'pplus': 0.68840105353963144,\n",
       "  'review_id': u'v_uEDbK5fP1UJpkXNPwXpQ',\n",
       "  'stars': 4,\n",
       "  'topic': 0,\n",
       "  'user_avg': 3.6,\n",
       "  'user_id': u'ay9H1RpjbBkaiXGxfh7LaA'},\n",
       " {'business_id': u'KayYbHCt-RkbGcPdGOThNg',\n",
       "  'pplus': 0.7523675352754976,\n",
       "  'review_id': u'v_uEDbK5fP1UJpkXNPwXpQ',\n",
       "  'stars': 4,\n",
       "  'topic': 0,\n",
       "  'user_avg': 3.6,\n",
       "  'user_id': u'ay9H1RpjbBkaiXGxfh7LaA'}]"
      ]
     },
     "execution_count": 90,
     "metadata": {},
     "output_type": "execute_result"
    }
   ],
   "source": [
    "newdfin.take(2)"
   ]
  },
  {
   "cell_type": "code",
   "execution_count": 91,
   "metadata": {
    "collapsed": false
   },
   "outputs": [
    {
     "name": "stdout",
     "output_type": "stream",
     "text": [
      "CPU times: user 1.05 s, sys: 386 ms, total: 1.44 s\n",
      "Wall time: 50.7 s\n"
     ]
    }
   ],
   "source": [
    "%%time\n",
    "list_of_dicts=newdfin.collect()"
   ]
  },
  {
   "cell_type": "code",
   "execution_count": 92,
   "metadata": {
    "collapsed": false
   },
   "outputs": [
    {
     "data": {
      "text/html": [
       "<div>\n",
       "<table border=\"1\" class=\"dataframe\">\n",
       "  <thead>\n",
       "    <tr style=\"text-align: right;\">\n",
       "      <th></th>\n",
       "      <th>business_id</th>\n",
       "      <th>pplus</th>\n",
       "      <th>review_id</th>\n",
       "      <th>stars</th>\n",
       "      <th>topic</th>\n",
       "      <th>user_avg</th>\n",
       "      <th>user_id</th>\n",
       "    </tr>\n",
       "  </thead>\n",
       "  <tbody>\n",
       "    <tr>\n",
       "      <th>0</th>\n",
       "      <td>KayYbHCt-RkbGcPdGOThNg</td>\n",
       "      <td>0.688401</td>\n",
       "      <td>v_uEDbK5fP1UJpkXNPwXpQ</td>\n",
       "      <td>4</td>\n",
       "      <td>0</td>\n",
       "      <td>3.6</td>\n",
       "      <td>ay9H1RpjbBkaiXGxfh7LaA</td>\n",
       "    </tr>\n",
       "    <tr>\n",
       "      <th>1</th>\n",
       "      <td>KayYbHCt-RkbGcPdGOThNg</td>\n",
       "      <td>0.752368</td>\n",
       "      <td>v_uEDbK5fP1UJpkXNPwXpQ</td>\n",
       "      <td>4</td>\n",
       "      <td>0</td>\n",
       "      <td>3.6</td>\n",
       "      <td>ay9H1RpjbBkaiXGxfh7LaA</td>\n",
       "    </tr>\n",
       "    <tr>\n",
       "      <th>2</th>\n",
       "      <td>KayYbHCt-RkbGcPdGOThNg</td>\n",
       "      <td>0.759236</td>\n",
       "      <td>v_uEDbK5fP1UJpkXNPwXpQ</td>\n",
       "      <td>4</td>\n",
       "      <td>1</td>\n",
       "      <td>3.6</td>\n",
       "      <td>ay9H1RpjbBkaiXGxfh7LaA</td>\n",
       "    </tr>\n",
       "    <tr>\n",
       "      <th>3</th>\n",
       "      <td>KayYbHCt-RkbGcPdGOThNg</td>\n",
       "      <td>0.683288</td>\n",
       "      <td>v_uEDbK5fP1UJpkXNPwXpQ</td>\n",
       "      <td>4</td>\n",
       "      <td>0</td>\n",
       "      <td>3.6</td>\n",
       "      <td>ay9H1RpjbBkaiXGxfh7LaA</td>\n",
       "    </tr>\n",
       "    <tr>\n",
       "      <th>4</th>\n",
       "      <td>KayYbHCt-RkbGcPdGOThNg</td>\n",
       "      <td>0.721746</td>\n",
       "      <td>v_uEDbK5fP1UJpkXNPwXpQ</td>\n",
       "      <td>4</td>\n",
       "      <td>1</td>\n",
       "      <td>3.6</td>\n",
       "      <td>ay9H1RpjbBkaiXGxfh7LaA</td>\n",
       "    </tr>\n",
       "  </tbody>\n",
       "</table>\n",
       "</div>"
      ],
      "text/plain": [
       "              business_id     pplus               review_id  stars  topic  user_avg                 user_id\n",
       "0  KayYbHCt-RkbGcPdGOThNg  0.688401  v_uEDbK5fP1UJpkXNPwXpQ      4      0       3.6  ay9H1RpjbBkaiXGxfh7LaA\n",
       "1  KayYbHCt-RkbGcPdGOThNg  0.752368  v_uEDbK5fP1UJpkXNPwXpQ      4      0       3.6  ay9H1RpjbBkaiXGxfh7LaA\n",
       "2  KayYbHCt-RkbGcPdGOThNg  0.759236  v_uEDbK5fP1UJpkXNPwXpQ      4      1       3.6  ay9H1RpjbBkaiXGxfh7LaA\n",
       "3  KayYbHCt-RkbGcPdGOThNg  0.683288  v_uEDbK5fP1UJpkXNPwXpQ      4      0       3.6  ay9H1RpjbBkaiXGxfh7LaA\n",
       "4  KayYbHCt-RkbGcPdGOThNg  0.721746  v_uEDbK5fP1UJpkXNPwXpQ      4      1       3.6  ay9H1RpjbBkaiXGxfh7LaA"
      ]
     },
     "execution_count": 92,
     "metadata": {},
     "output_type": "execute_result"
    }
   ],
   "source": [
    "completedf=pd.DataFrame(list_of_dicts)\n",
    "completedf.head()"
   ]
  },
  {
   "cell_type": "markdown",
   "metadata": {},
   "source": [
    "We see this is a bigger dataframe:"
   ]
  },
  {
   "cell_type": "code",
   "execution_count": 93,
   "metadata": {
    "collapsed": false
   },
   "outputs": [
    {
     "data": {
      "text/plain": [
       "(466186, 7)"
      ]
     },
     "execution_count": 93,
     "metadata": {},
     "output_type": "execute_result"
    }
   ],
   "source": [
    "completedf.shape"
   ]
  },
  {
   "cell_type": "markdown",
   "metadata": {},
   "source": [
    "#### 4.3 Get the stats"
   ]
  },
  {
   "cell_type": "markdown",
   "metadata": {},
   "source": [
    "We are now going to group by `review_id` and `topic` to calculate statistics on all the sentences that belong to a particular review, and to a particular topic: \n",
    "\n",
    "`completedf.groupby(['review_id', 'topic'])`\n",
    "\n",
    "For each group in this group-by we will apply a function `get_stats` which takes the group as an argument and returns a one-row dataframe with columns:\n",
    "\n",
    "- `min`: minimum value of column `pplus`\n",
    "- `max`: maximum value of column `pplus`\n",
    "- `rid`: restaurant_id for the review\n",
    "- `uavg`: average user rating for user doing this review\n",
    "- `count`: number of sentences\n",
    "- `var`: variance of column `pplus` calculated with `ddof=1`. If the sample variance is NAN when there is only 1 sentence in a review (which happens quite often) set the variance to 0\n",
    "- `mean`: the mean of the column `pplus`\n",
    "- `stars`: the number of stars for the review.\n",
    "\n",
    "Set the index of this one line dataframe to the restaurant id (`rid`).\n",
    "\n",
    "What this function does is that it gives us review and topic specific statistics, computed on the sentences in the review.\n",
    "\n",
    "The spec of this function is:\n",
    "\n",
    "`def get_stats(group)`"
   ]
  },
  {
   "cell_type": "code",
   "execution_count": 94,
   "metadata": {
    "collapsed": false
   },
   "outputs": [],
   "source": [
    "# toy group\n",
    "groups = dict(list(completedf.groupby(['review_id', 'topic'])))\n",
    "toygroup = groups[(u'uFD9MVRBs7-Fixb2ZOuxZQ', 1)]"
   ]
  },
  {
   "cell_type": "code",
   "execution_count": 95,
   "metadata": {
    "collapsed": false
   },
   "outputs": [],
   "source": [
    "#your code here\n",
    "def get_stats(group):\n",
    "    data = pd.DataFrame(columns=('min','max','rid','uavg','count','var','mean','stars'))\n",
    "    index = group.business_id.iloc[0]\n",
    "    var =0     \n",
    "    if len(group)>1:\n",
    "        var = np.var(group.pplus,ddof=1)\n",
    "    # I'm using business_id as index, Im not pretty sure why\n",
    "    data.loc[index] = pd.Series({'min':min(group.pplus),\n",
    "                                 'max':max(group.pplus),\n",
    "                                 'rid':group.business_id.iloc[0],\n",
    "                                 'uavg':group.user_avg.iloc[0],\n",
    "                                 'count':len(group),\n",
    "                                 'var':var,\n",
    "                                 'mean':np.mean(group.pplus),\n",
    "                                 'stars':group.stars.iloc[0]})\n",
    "    return data"
   ]
  },
  {
   "cell_type": "code",
   "execution_count": 96,
   "metadata": {
    "collapsed": false
   },
   "outputs": [
    {
     "data": {
      "text/html": [
       "<div>\n",
       "<table border=\"1\" class=\"dataframe\">\n",
       "  <thead>\n",
       "    <tr style=\"text-align: right;\">\n",
       "      <th></th>\n",
       "      <th>min</th>\n",
       "      <th>max</th>\n",
       "      <th>rid</th>\n",
       "      <th>uavg</th>\n",
       "      <th>count</th>\n",
       "      <th>var</th>\n",
       "      <th>mean</th>\n",
       "      <th>stars</th>\n",
       "    </tr>\n",
       "  </thead>\n",
       "  <tbody>\n",
       "    <tr>\n",
       "      <th>KlT-sy8AvL8zq3nPVjMPUA</th>\n",
       "      <td>0.404111</td>\n",
       "      <td>0.82104</td>\n",
       "      <td>KlT-sy8AvL8zq3nPVjMPUA</td>\n",
       "      <td>3.058824</td>\n",
       "      <td>4</td>\n",
       "      <td>0.029722</td>\n",
       "      <td>0.627027</td>\n",
       "      <td>2</td>\n",
       "    </tr>\n",
       "  </tbody>\n",
       "</table>\n",
       "</div>"
      ],
      "text/plain": [
       "                             min      max                     rid      uavg  count       var      mean  stars\n",
       "KlT-sy8AvL8zq3nPVjMPUA  0.404111  0.82104  KlT-sy8AvL8zq3nPVjMPUA  3.058824      4  0.029722  0.627027      2"
      ]
     },
     "execution_count": 96,
     "metadata": {},
     "output_type": "execute_result"
    }
   ],
   "source": [
    "# toy result\n",
    "get_stats(toygroup)"
   ]
  },
  {
   "cell_type": "markdown",
   "metadata": {},
   "source": [
    "We now run the code on the `completedf`. The group-by will automatically concatenate these one-row dataframes for us. This is a slow function, taking about 5 mins on my computer."
   ]
  },
  {
   "cell_type": "code",
   "execution_count": 97,
   "metadata": {
    "collapsed": false
   },
   "outputs": [
    {
     "name": "stdout",
     "output_type": "stream",
     "text": [
      "CPU times: user 11min 45s, sys: 3.55 s, total: 11min 49s\n",
      "Wall time: 11min 51s\n"
     ]
    }
   ],
   "source": [
    "%%time\n",
    "dftouse=completedf.groupby(['review_id', 'topic']).apply(get_stats).reset_index()"
   ]
  },
  {
   "cell_type": "markdown",
   "metadata": {},
   "source": [
    "We can see the shape of `dftouse` and what it looks like."
   ]
  },
  {
   "cell_type": "code",
   "execution_count": 98,
   "metadata": {
    "collapsed": false,
    "scrolled": true
   },
   "outputs": [
    {
     "name": "stdout",
     "output_type": "stream",
     "text": [
      "(151802, 11)\n"
     ]
    },
    {
     "data": {
      "text/html": [
       "<div>\n",
       "<table border=\"1\" class=\"dataframe\">\n",
       "  <thead>\n",
       "    <tr style=\"text-align: right;\">\n",
       "      <th></th>\n",
       "      <th>review_id</th>\n",
       "      <th>topic</th>\n",
       "      <th>min</th>\n",
       "      <th>max</th>\n",
       "      <th>rid</th>\n",
       "      <th>uavg</th>\n",
       "      <th>count</th>\n",
       "      <th>var</th>\n",
       "      <th>mean</th>\n",
       "      <th>stars</th>\n",
       "    </tr>\n",
       "  </thead>\n",
       "  <tbody>\n",
       "    <tr>\n",
       "      <th>0</th>\n",
       "      <td>---DgD3WlOJXFnTQP6H23A</td>\n",
       "      <td>0</td>\n",
       "      <td>0.393060</td>\n",
       "      <td>0.586130</td>\n",
       "      <td>7U8TYNW4Mvx6m3zexsO0sg</td>\n",
       "      <td>1.000000</td>\n",
       "      <td>2</td>\n",
       "      <td>0.018638</td>\n",
       "      <td>0.489595</td>\n",
       "      <td>1</td>\n",
       "    </tr>\n",
       "    <tr>\n",
       "      <th>1</th>\n",
       "      <td>---gFan7_-hicaSgAi86Hg</td>\n",
       "      <td>1</td>\n",
       "      <td>0.555060</td>\n",
       "      <td>0.664556</td>\n",
       "      <td>btay-zbv6GGEp6c3Wg2MSw</td>\n",
       "      <td>3.333333</td>\n",
       "      <td>3</td>\n",
       "      <td>0.003000</td>\n",
       "      <td>0.608927</td>\n",
       "      <td>3</td>\n",
       "    </tr>\n",
       "    <tr>\n",
       "      <th>2</th>\n",
       "      <td>---vqj3j1bChTHS9eE_V3g</td>\n",
       "      <td>0</td>\n",
       "      <td>0.425332</td>\n",
       "      <td>0.744646</td>\n",
       "      <td>fM1IIa5mRAVoS10l0aFT1w</td>\n",
       "      <td>3.391304</td>\n",
       "      <td>5</td>\n",
       "      <td>0.013938</td>\n",
       "      <td>0.607477</td>\n",
       "      <td>3</td>\n",
       "    </tr>\n",
       "    <tr>\n",
       "      <th>3</th>\n",
       "      <td>---vqj3j1bChTHS9eE_V3g</td>\n",
       "      <td>1</td>\n",
       "      <td>0.509026</td>\n",
       "      <td>0.804941</td>\n",
       "      <td>fM1IIa5mRAVoS10l0aFT1w</td>\n",
       "      <td>3.391304</td>\n",
       "      <td>7</td>\n",
       "      <td>0.013803</td>\n",
       "      <td>0.662191</td>\n",
       "      <td>3</td>\n",
       "    </tr>\n",
       "    <tr>\n",
       "      <th>4</th>\n",
       "      <td>--2Ylq1M_Toj6e0hy_C2XA</td>\n",
       "      <td>0</td>\n",
       "      <td>0.546530</td>\n",
       "      <td>0.782424</td>\n",
       "      <td>e9er1p-8RMyRa9IKUzKE-w</td>\n",
       "      <td>3.500000</td>\n",
       "      <td>3</td>\n",
       "      <td>0.017890</td>\n",
       "      <td>0.628061</td>\n",
       "      <td>4</td>\n",
       "    </tr>\n",
       "  </tbody>\n",
       "</table>\n",
       "</div>"
      ],
      "text/plain": [
       "                review_id  topic       min       max                     rid      uavg  count       var      mean  stars\n",
       "0  ---DgD3WlOJXFnTQP6H23A      0  0.393060  0.586130  7U8TYNW4Mvx6m3zexsO0sg  1.000000      2  0.018638  0.489595      1\n",
       "1  ---gFan7_-hicaSgAi86Hg      1  0.555060  0.664556  btay-zbv6GGEp6c3Wg2MSw  3.333333      3  0.003000  0.608927      3\n",
       "2  ---vqj3j1bChTHS9eE_V3g      0  0.425332  0.744646  fM1IIa5mRAVoS10l0aFT1w  3.391304      5  0.013938  0.607477      3\n",
       "3  ---vqj3j1bChTHS9eE_V3g      1  0.509026  0.804941  fM1IIa5mRAVoS10l0aFT1w  3.391304      7  0.013803  0.662191      3\n",
       "4  --2Ylq1M_Toj6e0hy_C2XA      0  0.546530  0.782424  e9er1p-8RMyRa9IKUzKE-w  3.500000      3  0.017890  0.628061      4"
      ]
     },
     "execution_count": 98,
     "metadata": {},
     "output_type": "execute_result"
    }
   ],
   "source": [
    "print dftouse.shape\n",
    "del dftouse['level_2']\n",
    "dftouse.head()#note not all reviews will have both topics."
   ]
  },
  {
   "cell_type": "markdown",
   "metadata": {},
   "source": [
    "And finally we save it. This ends the Spark part of the homework. Save the csv file, store it somewhere safe first, and only then shut down your Vagrant/AWS cluster/Spark."
   ]
  },
  {
   "cell_type": "code",
   "execution_count": 99,
   "metadata": {
    "collapsed": true
   },
   "outputs": [],
   "source": [
    "dftouse.to_csv(\"dftouse.csv\", index=False)"
   ]
  },
  {
   "cell_type": "markdown",
   "metadata": {},
   "source": [
    "Include `dftouse.csv` in your homework submission. Q5 is in `hw5part2.ipynb`."
   ]
  }
 ],
 "metadata": {
  "kernelspec": {
   "display_name": "Python 2",
   "language": "python",
   "name": "python2"
  },
  "language_info": {
   "codemirror_mode": {
    "name": "ipython",
    "version": 2
   },
   "file_extension": ".py",
   "mimetype": "text/x-python",
   "name": "python",
   "nbconvert_exporter": "python",
   "pygments_lexer": "ipython2",
   "version": "2.7.10"
  }
 },
 "nbformat": 4,
 "nbformat_minor": 0
}
