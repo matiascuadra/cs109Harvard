{
 "cells": [
  {
   "cell_type": "markdown",
   "metadata": {},
   "source": [
    "# HW1: Who is the best singer ever? Rihanna or Mariah?\n",
    "### cambio 1\n",
    "### cambio 2\n",
    "### cambio 3\n"
   ]
  },
  {
   "cell_type": "markdown",
   "metadata": {},
   "source": [
    "<img width=600 height=400 src=\"http://static.idolator.com/uploads/2015/02/rihanna-mariah.jpg\"/>\n",
    "\n",
    "Billboard Magazine puts out a top 100 list of \"singles\" every week. Information from this list, as well as that from music sales, radio, and other sources is used to determine a top-100 \"singles\" of the year list. A **single** is typically one song, but sometimes can be two songs which are on one \"single\" record.\n",
    "\n",
    "In this homework you will scrape both Wikipedia and Billboard Magazine to try to understand how the public's taste in music has evolved. You will do this by learning about the best singers and groups from each year (distinguishing between the two groups) as determined by the Billboard top 100 charts. You will have to scrape the web pages, clean the data, and visualize the performance of the artists and their songs. Finally, you'll find some \"features\" which might predict performance on the year end charts from the weekly ones.\n",
    "\n",
    "(Image credit: http://www.idolator.com/7579645/rihanna-mariah-carey-vision-of-love-made-her-want-to-do-music)"
   ]
  },
  {
   "cell_type": "markdown",
   "metadata": {},
   "source": [
    "## **This homework is due Thursday 24th September, at 11:59PM.**"
   ]
  },
  {
   "cell_type": "markdown",
   "metadata": {},
   "source": [
    "We will use the **LAST COMMIT** BEFORE 11:59PM on Thursday Sep 24th 2015, on the **hw1** branch, of your repository `cs109-students/githubusername-2015hw` as your submission."
   ]
  },
  {
   "cell_type": "markdown",
   "metadata": {},
   "source": [
    "The homework will help develop your skills in:\n",
    "\n",
    "- web page scraping\n",
    "- data cleaning and manipulation\n",
    "- pandas\n",
    "- simple exploratory data visualization\n",
    "- thinking about data and what features might be used to make predictions\n",
    "\n",
    "You should have worked through Lab 1 (the pandas and python parts) and Lab 2. \n",
    "\n",
    "The table of contents below shows youthe structure of the homework. The headings with numbers like 1.2 and 3.2 are the ones that need to be answered. At lot of code is provided for you in this homework. DO NOT simply run it. Understand it. I promise that if you dont, you will have trouble in the parts that you have to code.\n",
    "\n",
    "Finally, start soon. This is not a very long homework, but we are at the point in the semester that logistical issues like git flow and python running might hold you up."
   ]
  },
  {
   "cell_type": "markdown",
   "metadata": {},
   "source": [
    "#Table of Contents\n",
    "* [HW1: Who is the best singer ever? Rihanna or Mariah?](#HW1:-Who-is-the-best-singer-ever?-Rihanna-or-Mariah?)\n",
    "\t* [**This homework is due Thursday 24th September, at 11:59PM.**](#**This-homework-is-due-Thursday-24th-September,-at-11:59PM.**)\n",
    "\t* [Q1. Scraping Wikipedia for Billboard Top 100.](#Q1.-Scraping-Wikipedia-for-Billboard-Top-100.)\n",
    "\t\t* [Scraping Wikipedia for Billboard singles](#Scraping-Wikipedia-for-Billboard-singles)\n",
    "\t\t\t* [Parsing the Billboard Wikipedia page for 1970](#Parsing-the-Billboard-Wikipedia-page-for-1970)\n",
    "\t\t\t* [1.1 Generalize the previous: Scrape wikipedia from 1992 to 2014](#1.1-Generalize-the-previous:-Scrape-wikipedia-from-1992-to-2014)\n",
    "\t\t\t* [1.2 Clean data and save a json file of information from the scraped files](#1.2-Clean-data-and-save-a-json-file-of-information-from-the-scraped-files)\n",
    "\t\t* [Construct a year-song-singer dataframe from the yearly information](#Construct-a-year-song-singer-dataframe-from-the-yearly-information)\n",
    "\t\t\t* [Construct a panel and flatten it](#Construct-a-panel-and-flatten-it)\n",
    "\t\t\t* [Cleaning data: the correct datatypes](#Cleaning-data:-the-correct-datatypes)\n",
    "\t* [Q2. Scraping and Constructing: Information about Artists, Bands and Genres from Wikipedia](#Q2.-Scraping-and-Constructing:-Information-about-Artists,-Bands-and-Genres-from-Wikipedia)\n",
    "\t\t* [Scrape information about artists from wikipedia](#Scrape-information-about-artists-from-wikipedia)\n",
    "\t\t\t* [Pulling and saving the data](#Pulling-and-saving-the-data)\n",
    "\t\t\t* [2.1 Extract information about singers and bands](#2.1-Extract-information-about-singers-and-bands)\n",
    "\t\t\t* [Merging this information in](#Merging-this-information-in)\n",
    "\t\t\t* [2.2 Split out the genres](#2.2-Split-out-the-genres)\n",
    "\t* [Q3. Exploratory Data Analysis (EDA)](#Q3.-Exploratory-Data-Analysis-%28EDA%29)\n",
    "\t\t* [What has been the trajectory of various genres in the popular zeitgeist?](#What-has-been-the-trajectory-of-various-genres-in-the-popular-zeitgeist?)\n",
    "\t\t\t* [3.1 Plot a horizontal bar chart of the top 30 genres](#3.1-Plot-a-horizontal-bar-chart-of-the-top-30-genres)\n",
    "\t\t\t* [3.2 Make a small multiples plot of the 24 most popular genres](#3.2-Make-a-small-multiples-plot-of-the-24-most-popular-genres)\n",
    "\t\t* [Who are the highest quality singers?](#Who-are-the-highest-quality-singers?)\n",
    "\t\t\t* [3.3 What if we used a different metric?](#3.3-What-if-we-used-a-different-metric?)\n",
    "\t\t\t* [The age at which singers achieve their top ranking.](#The-age-at-which-singers-achieve-their-top-ranking.)\n",
    "\t\t\t* [3.4 At what year since inception do bands reach their top rankings?](#3.4-At-what-year-since-inception-do-bands-reach-their-top-rankings?)\n",
    "\t* [Q4: Billboard Magazine: year end results from weekly results](#Q4:-Billboard-Magazine:-year-end-results-from-weekly-results)\n",
    "\t\t* [Get the end year results, and results from all saturdays of the year.](#Get-the-end-year-results,-and-results-from-all-saturdays-of-the-year.)\n",
    "\t\t\t* [Get the data](#Get-the-data)\n",
    "\t\t\t* [4.1 Parse the HTML and save the song information](#4.1-Parse-the-HTML-and-save-the-song-information)\n",
    "\t\t* [Get winning songs, and see how they do in all these weeks](#Get-winning-songs,-and-see-how-they-do-in-all-these-weeks)\n",
    "\t\t\t* [4.2 Plot the mean rank(y axis) against the final, year-end rank(x-axis)](#4.2-Plot-the-mean-rank%28y-axis%29-against-the-final,-year-end-rank%28x-axis%29)\n",
    "\t\t* [Add losers in and see what features may be used to distinguish winners from losers](#Add-losers-in-and-see-what-features-may-be-used-to-distinguish-winners-from-losers)\n",
    "\t\t\t* [4.3 Make a scatterplot matrix of these features, color coded by winners/losers](#4.3-Make-a-scatterplot-matrix-of-these-features,-color-coded-by-winners/losers)\n"
   ]
  },
  {
   "cell_type": "markdown",
   "metadata": {},
   "source": [
    "---"
   ]
  },
  {
   "cell_type": "markdown",
   "metadata": {},
   "source": [
    "Python depends on packages for most of its functionality; these can be either built-in (such as sys), or third-party (like all the packages below). Either way you need to import the packages you need before using them."
   ]
  },
  {
   "cell_type": "code",
   "execution_count": 1,
   "metadata": {
    "collapsed": true
   },
   "outputs": [],
   "source": [
    "# Installing missing libraries, run only once\n",
    "#!pip install BeautifulSoup seaborn pyquery"
   ]
  },
  {
   "cell_type": "code",
   "execution_count": 2,
   "metadata": {
    "collapsed": false,
    "scrolled": false
   },
   "outputs": [],
   "source": [
    "# The %... is an iPython thing, and is not part of the Python language.\n",
    "# In this case we're just telling the plotting library to draw things on\n",
    "# the notebook, instead of on a separate window.\n",
    "%matplotlib inline\n",
    "# See all the \"as ...\" contructs? They're just aliasing the package names.\n",
    "# That way we can call methods like plt.plot() instead of matplotlib.pyplot.plot().\n",
    "import numpy as np\n",
    "import scipy as sp\n",
    "import matplotlib as mpl\n",
    "import matplotlib.cm as cm\n",
    "import matplotlib.pyplot as plt\n",
    "import pandas as pd\n",
    "import time\n",
    "pd.set_option('display.width', 500)\n",
    "pd.set_option('display.max_columns', 100)\n",
    "pd.set_option('display.notebook_repr_html', True)\n",
    "import seaborn as sns\n",
    "sns.set_style(\"whitegrid\")\n",
    "sns.set_context(\"poster\")"
   ]
  },
  {
   "cell_type": "markdown",
   "metadata": {},
   "source": [
    "We use [Seaborn](http://stanford.edu/~mwaskom/software/seaborn/) to give us a nicer default color palette, with our plots being of large (`poster`) size and with a white-grid background. (see the code above)."
   ]
  },
  {
   "cell_type": "markdown",
   "metadata": {},
   "source": [
    "## Q1. Scraping Wikipedia for Billboard Top 100."
   ]
  },
  {
   "cell_type": "markdown",
   "metadata": {},
   "source": [
    "In this question you will scrape wikipedia for Billboard's top 100. You may use any python scraping software you like. We especially recommend Beautiful Soup and PyQuery."
   ]
  },
  {
   "cell_type": "markdown",
   "metadata": {},
   "source": [
    "### Scraping Wikipedia for Billboard singles"
   ]
  },
  {
   "cell_type": "markdown",
   "metadata": {},
   "source": [
    "We'll be using one of two libraries to transform HTML content into Python data structures. One is [BeautifulSoup](http://www.crummy.com/software/BeautifulSoup/) and the other is [PyQuery](https://pythonhosted.org/pyquery/).\n",
    "\n",
    "You can choose which one you want to use.\n",
    "\n",
    "PyQuery is recommended for people who have used [jQuery](https://jquery.com/) before, or who feel more comfortable using CSS selectors. BeautifulSoup on the other hand might be a better  fit for people who are familiar with Python. Either package will make the job of parsing HTML documents easier."
   ]
  },
  {
   "cell_type": "code",
   "execution_count": 3,
   "metadata": {
    "collapsed": false,
    "scrolled": false
   },
   "outputs": [],
   "source": [
    "from pyquery import PyQuery as pq\n",
    "from bs4 import BeautifulSoup\n",
    "# The \"requests\" library makes working with HTTP requests easier\n",
    "# than the built-in urllib libraries.\n",
    "import requests"
   ]
  },
  {
   "cell_type": "markdown",
   "metadata": {},
   "source": [
    "#### Parsing the Billboard Wikipedia page for 1970"
   ]
  },
  {
   "cell_type": "markdown",
   "metadata": {},
   "source": [
    "We'll use python's `requests` module to obtain the web page at http://en.wikipedia.org/wiki/Billboard_Year-End_Hot_100_singles_of_1970. From this web page we'll extract the top 100 singles and their rankings. We'll then create a list of [dictionaries](https://docs.python.org/2/tutorial/datastructures.html#dictionaries), 100 of them to be precise, with entries like `{'url': '/wiki/Sugarloaf_(band)', 'ranking': 30, 'band_singer': 'Sugarloaf', 'title': 'Green-Eyed Lady'}`. If you look at that web page, you will see that there is a link for every song, from which you can get the `url` of the singer or band. We will use these links later to scrape information about the singer or band. From the listing we can also get the band or singer name `band_singer`, and `title` of the song.\n",
    "\n",
    "We start by making a [GET](http://www.w3schools.com/tags/ref_httpmethods.asp) request to pull in the Billboard page from Wikipedia. This is the equivalent of using your browser to visit the page.\n",
    "\n",
    "In fact, you should visit the link above right now and [look at the source code of the page in the developer tools](http://wickedlysmart.com/hfhtml5/devtools.html), so you can follow what we'll be doing in the next few lines (Hint: in Chrome you can just hit F12 to get the developer tools)."
   ]
  },
  {
   "cell_type": "code",
   "execution_count": 9,
   "metadata": {
    "collapsed": false
   },
   "outputs": [],
   "source": [
    "# here we access the webpage and download the content using requests\n",
    "t1970=requests.get(\"http://en.wikipedia.org/wiki/Billboard_Year-End_Hot_100_singles_of_1992\")"
   ]
  },
  {
   "cell_type": "markdown",
   "metadata": {},
   "source": [
    "Next we will need to look for the HTML _tr_ (table row) element, but only the one that has a CSS class of _wikitable_. If you look at the page source, you'll see a construct like __class=wikitable__ on the table in question. But you will also notice that none of the _tr_ elements actually have the __class__ attribute set directly on them.\n",
    "\n",
    "A full depth treatment of [CSS](http://www.w3schools.com/css/) [selectors](http://www.w3schools.com/cssref/css_selectors.asp) are beyond the scope of this course, but you just need to learn enough to enable you to scrape. For now you can think of it this way: children (embedded) elements inherit style properties from their parents, unless they have the property explicitly reset on their tag attributes.\n",
    "\n",
    "Here is a screenshot of that page with the developer tools opened in Safari. I clicked Inspect and then the word \"Title\" to make this appear.\n",
    "\n",
    "![1970 songs](wikipage.png)\n"
   ]
  },
  {
   "cell_type": "markdown",
   "metadata": {},
   "source": [
    "**_Read this if you would like to use pyquery_** . Otherwise, skip down a bit to the part where we use beautifulSoup.\n",
    "\n",
    "When you request a web page, the HTTP server on the other side of the connection sends a lot of meta-information along with the page content your browser renders. Because we are only interested in the page content (i.e. the HTML elements), we request the _text_ property of the request result (the lack of parenthesis after _text_ is a hint that we're asking the object for a property, and not calling a method).\n"
   ]
  },
  {
   "cell_type": "code",
   "execution_count": 8,
   "metadata": {
    "collapsed": false,
    "scrolled": true
   },
   "outputs": [
    {
     "name": "stdout",
     "output_type": "stream",
     "text": [
      "<html lang=\"en\" dir=\"ltr\" class=\"client-nojs\">\n",
      "<head>\n",
      "<meta charset=\"UTF-8\"/>\n",
      "<title>Billboard Year-End Hot 100 singles of 1970 - Wikipedia, the free encyclopedia</title>\n",
      "<script>document.documentElement.className = document.documentElement.className.replace( /(^|\\s)client-nojs(\\s|$)/, \"$1client-js$2\" );</script>\n",
      "<script>window.RLQ = window.RLQ || []; window.RLQ.push( function () {\n",
      "mw.config.set({\"wgCanonicalNamespace\":\"\",\"wgCanonicalSpecialPageName\":!1,\"wgNamespaceNumber\":0,\"wgPageName\":\"Billboard_Year-End_Hot_100_singles_of_1970\",\"wgTitle\":\"Billboard Year-End Hot 100 singles of 1970\",\"wgCurRevisionId\":625177658,\"wgRevisionId\":625177658,\"wgArticleId\":30302961,\"wgIsArticle\":!0,\"wgIsRedirect\":!1,\"wgAction\":\"view\",\"wgUserName\":null,\"wgUserGroups\":[\"*\"],\"wgCategories\":[\"1970 record charts\",\"Billboard charts\"],\"wgBreakFrames\":!1,\"wgPageContentLanguage\":\"en\",\"wgPageContentModel\":\"wikitext\",\"wgSeparatorTransformTable\":[\"\",\"\"],\"wgDigitTransformTable\":[\"\",\"\"],\"wgDefaultDateFormat\":\"dmy\",\"wgMonthNames\":[\"\",\"January\",\"February\",\"March\",\"April\",\"May\",\"June\",\"July\",\"August\",\"September\",\"October\",\"November\",\"December\"],\"wgMonthNamesShort\":[\"\",\"Jan\",\"Feb\",\"Mar\",\"Apr\",\"May\",\"Jun\",\"Jul\",\"Aug\",\"Sep\",\"Oct\",\"Nov\",\"Dec\"],\"wgRelevantPageName\":\"Billboard_Year-End_Hot_100_singles_of_1970\",\"wgRelevantArticleId\":30302961,\"wgIsProbablyEditable\":!0,\"wgRestrictionEdit\":[],\n",
      "\"wgRestrictionMove\":[],\"wgMediaViewerOnClick\":!0,\"wgMediaViewerEnabledByDefault\":!0,\"wikilove-recipient\":\"\",\"wikilove-anon\":0,\"wgWikiEditorEnabledModules\":{\"toolbar\":!0,\"dialogs\":!0,\"preview\":!1,\"publish\":!1},\"wgBetaFeaturesFeatures\":[],\"wgVisualEditor\":{\"pageLanguageCode\":\"en\",\"pageLanguageDir\":\"ltr\",\"usePageImages\":!0,\"usePageDescriptions\":!0},\"wgGatherShouldShowTutorial\":!0,\"wgULSAcceptLanguageList\":[\"en-us\",\"en\"],\"wgULSCurrentAutonym\":\"English\",\"wgFlaggedRevsParams\":{\"tags\":{\"status\":{\"levels\":1,\"quality\":2,\"pristine\":3}}},\"wgStableRevisionId\":null,\"wgCategoryTreePageCategoryOptions\":\"{\\\"mode\\\":0,\\\"hideprefix\\\":20,\\\"showcount\\\":true,\\\"namespaces\\\":false}\",\"wgNoticeProject\":\"wikipedia\",\"wgWikibaseItemId\":\"Q4270340\",\"wgVisualEditorToolbarScrollOffset\":0});mw.loader.implement(\"user.options\",function($,jQuery){mw.user.options.set({\"variant\":\"en\"});});mw.loader.implement(\"user.tokens\",function($,jQuery){mw.user.tokens.set({\"editToken\":\"+\\\\\",\"patrolToken\":\"+\\\\\",\"watchToken\":\"+\\\\\"});});mw.loader.load([\"mediawiki.page.startup\",\"mediawiki.legacy.wikibits\",\"ext.centralauth.centralautologin\",\"ext.gadget.WatchlistBase\",\"ext.gadget.WatchlistGreenIndicators\",\"ext.visualEditor.desktopArticleTarget.init\",\"ext.uls.init\",\"ext.uls.interface\",\"ext.centralNotice.bannerController\",\"skins.vector.js\"]);\n",
      "} );</script>\n",
      "<link rel=\"stylesheet\" href=\"https://en.wikipedia.org/w/load.php?debug=false&amp;lang=en&amp;modules=ext.gadget.WatchlistBase%2CWatchlistGreenIndicators%7Cext.uls.nojs%7Cext.visualEditor.desktopArticleTarget.noscript%7Cmediawiki.legacy.shared%7Cmediawiki.sectionAnchor%7Cmediawiki.skinning.interface%7Cskins.vector.styles%7Cwikibase.client.init&amp;only=styles&amp;skin=vector\"/>\n",
      "<link rel=\"stylesheet\" href=\"https://en.wikipedia.org/w/load.php?debug=false&amp;lang=en&amp;modules=mediawiki.legacy.commonPrint&amp;only=styles&amp;skin=vector\" media=\"print\"/>\n",
      "<meta name=\"ResourceLoaderDynamicStyles\" content=\"\"/>\n",
      "<link rel=\"stylesheet\" href=\"https://en.wikipedia.org/w/load.php?debug=false&amp;lang=en&amp;modules=site&amp;only=styles&amp;skin=vector\"/>\n",
      "<style>a:lang(ar),a:lang(kk-arab),a:lang(mzn),a:lang(ps),a:lang(ur){text-decoration:none}</style>\n",
      "<script async=\"\" src=\"https://en.wikipedia.org/w/load.php?debug=false&amp;lang=en&amp;modules=startup&amp;only=scripts&amp;skin=vector\"/>\n",
      "<meta name=\"generator\" content=\"MediaWiki 1.26wmf22\"/>\n",
      "<link rel=\"alternate\" href=\"android-app://org.wikipedia/http/en.m.wikipedia.org/wiki/Billboard_Year-End_Hot_100_singles_of_1970\"/>\n",
      "<link rel=\"alternate\" type=\"application/x-wiki\" title=\"Edit this page\" href=\"/w/index.php?title=Billboard_Year-End_Hot_100_singles_of_1970&amp;action=edit\"/>\n",
      "<link rel=\"edit\" title=\"Edit this page\" href=\"/w/index.php?title=Billboard_Year-End_Hot_100_singles_of_1970&amp;action=edit\"/>\n",
      "<link rel=\"apple-touch-icon\" href=\"/static/apple-touch/wikipedia.png\"/>\n",
      "<link rel=\"shortcut icon\" href=\"/static/favicon/wikipedia.ico\"/>\n",
      "<link rel=\"search\" type=\"application/opensearchdescription+xml\" href=\"/w/opensearch_desc.php\" title=\"Wikipedia (en)\"/>\n",
      "<link rel=\"EditURI\" type=\"application/rsd+xml\" href=\"//en.wikipedia.org/w/api.php?action=rsd\"/>\n",
      "<link rel=\"copyright\" href=\"//creativecommons.org/licenses/by-sa/3.0/\"/>\n",
      "<link rel=\"alternate\" type=\"application/atom+xml\" title=\"Wikipedia Atom feed\" href=\"/w/index.php?title=Special:RecentChanges&amp;feed=atom\"/>\n",
      "<link rel=\"canonical\" href=\"https://en.wikipedia.org/wiki/Billboard_Year-End_Hot_100_singles_of_1970\"/>\n",
      "<link rel=\"dns-prefetch\" href=\"//meta.wikimedia.org\"/>\n",
      "<!--[if lt IE 7]><style type=\"text/css\">body{behavior:url(\"/w/static/1.26wmf22/skins/Vector/csshover.min.htc\")}</style><![endif]-->\n",
      "</head>\n",
      "<body class=\"mediawiki ltr sitedir-ltr ns-0 ns-subject page-Billboard_Year-End_Hot_100_singles_of_1970 skin-vector action-view\">\n",
      "\t\t<div id=\"mw-page-base\" class=\"noprint\"/>\n",
      "\t\t<div id=\"mw-head-base\" class=\"noprint\"/>\n",
      "\t\t<div id=\"content\" class=\"mw-body\" role=\"main\">\n",
      "\t\t\t<a id=\"top\"/>\n",
      "\n",
      "\t\t\t\t\t\t\t<div id=\"siteNotice\"><!-- CentralNotice --></div>\n",
      "\t\t\t\t\t\t<div class=\"mw-indicators\">\n",
      "</div>\n",
      "\t\t\t<h1 id=\"firstHeading\" class=\"firstHeading\" lang=\"en\"><i>Billboard</i> Year-End Hot 100 singles of 1970</h1>\n",
      "\t\t\t\t\t\t\t\t\t<div id=\"bodyContent\" class=\"mw-body-content\">\n",
      "\t\t\t\t\t\t\t\t\t<div id=\"siteSub\">From Wikipedia, the free encyclopedia</div>\n",
      "\t\t\t\t\t\t\t\t<div id=\"contentSub\"/>\n",
      "\t\t\t\t\t\t\t\t\t\t\t\t<div id=\"jump-to-nav\" class=\"mw-jump\">\n",
      "\t\t\t\t\tJump to:\t\t\t\t\t<a href=\"#mw-head\">navigation</a>, \t\t\t\t\t<a href=\"#p-search\">search</a>\n",
      "\t\t\t\t</div>\n",
      "\t\t\t\t<div id=\"mw-content-text\" lang=\"en\" dir=\"ltr\" class=\"mw-content-ltr\"><p>This is a list of <i><a href=\"/wiki/Billboard_(magazine)\" title=\"Billboard (magazine)\">Billboard</a></i> magazine's Top <b><a href=\"/wiki/Billboard_Hot_100\" title=\"Billboard Hot 100\">Hot 100</a></b> songs of <a href=\"/wiki/1970_in_music\" title=\"1970 in music\">1970</a>.<sup id=\"cite_ref-1\" class=\"reference\"><a href=\"#cite_note-1\"><span>[</span>1<span>]</span></a></sup></p>\n",
      "<table class=\"wikitable sortable\" style=\"text-align: center\">\n",
      "<tr>\n",
      "<th scope=\"col\" style=\"background:#dde;\">&#8470;</th>\n",
      "<th scope=\"col\" style=\"background:#dde;\">Title</th>\n",
      "<th scope=\"col\" style=\"background:#dde;\">Artist(s)</th>\n",
      "</tr>\n",
      "<tr>\n",
      "<td>1</td>\n",
      "<td>\"<a href=\"/wiki/Bridge_over_Troubled_Water_(song)\" title=\"Bridge over Troubled Water (song)\">Bridge over Troubled Water</a>\"</td>\n",
      "<td><a href=\"/wiki/Simon_%26_Garfunkel\" title=\"Simon &amp; Garfunkel\">Simon &amp; Garfunkel</a></td>\n",
      "</tr>\n",
      "<tr>\n",
      "<td>2</td>\n",
      "<td>\"<a href=\"/wiki/(They_Long_to_Be)_Close_to_You\" title=\"(They Long to Be) Close to You\">(They Long to Be) Close to You</a>\"</td>\n",
      "<td><a href=\"/wiki/The_Carpenters\" title=\"The Carpenters\">The Carpenters</a></td>\n",
      "</tr>\n",
      "<tr>\n",
      "<td>3</td>\n",
      "<td>\"<a href=\"/wiki/American_Woman_(song)\" title=\"American Woman (song)\">American Woman</a>\"</td>\n",
      "<td><a href=\"/wiki/The_Guess_Who\" title=\"The Guess Who\">The Guess Who</a></td>\n",
      "</tr>\n",
      "<tr>\n",
      "<td>4</td>\n",
      "<td>\"<a href=\"/wiki/Raindrops_Keep_Fallin%27_on_My_Head\" title=\"Raindrops Keep Fallin' on My Head\">Raindrops Keep Fallin' on My Head</a>\"</td>\n",
      "<td><a href=\"/wiki/B.J._Thomas\" title=\"B.J. Thomas\" class=\"mw-redirect\">B.J. Thomas</a></td>\n",
      "</tr>\n",
      "<tr>\n",
      "<td>5</td>\n",
      "<td>\"<a href=\"/wiki/War_(Edwin_Starr_song)\" title=\"War (Edwin Starr song)\">War</a>\"</td>\n",
      "<td><a href=\"/wiki/Edwin_Starr\" title=\"Edwin Starr\">Edwin Starr</a></td>\n",
      "</tr>\n",
      "<tr>\n",
      "<td>6</td>\n",
      "<td>\"<a href=\"/wiki/Ain%27t_No_Mountain_High_Enough\" title=\"Ain't No Mountain High Enough\">Ain't No Mountain High Enough</a>\"</td>\n",
      "<td><a href=\"/wiki/Diana_Ross\" title=\"Diana Ross\">Diana Ross</a></td>\n",
      "</tr>\n",
      "<tr>\n",
      "<td>7</td>\n",
      "<td>\"<a href=\"/wiki/I%27ll_Be_There_(The_Jackson_5_song)\" title=\"I'll Be There (The Jackson 5 song)\">I'll Be There</a>\"</td>\n",
      "<td><a href=\"/wiki/The_Jackson_5\" title=\"The Jackson 5\">The Jackson 5</a></td>\n",
      "</tr>\n",
      "<tr>\n",
      "<td>8</td>\n",
      "<td>\"<a href=\"/wiki/Get_Ready_(The_Temptations_song)#Rare_Earth_version\" title=\"Get Ready (The Temptations song)\">Get Ready</a>\"</td>\n",
      "<td><a href=\"/wiki/Rare_Earth_(band)\" title=\"Rare Earth (band)\">Rare Earth</a></td>\n",
      "</tr>\n",
      "<tr>\n",
      "<td>9</td>\n",
      "<td>\"<a href=\"/wiki/Let_It_Be_(song)\" title=\"Let It Be (song)\">Let It Be</a>\"</td>\n",
      "<td><a href=\"/wiki/The_Beatles\" title=\"The Beatles\">The Beatles</a></td>\n",
      "</tr>\n",
      "<tr>\n",
      "<td>10</td>\n",
      "<td>\"<a href=\"/wiki/Band_of_Gold_(Freda_Payne_song)\" title=\"Band of Gold (Freda Payne song)\">Band of Gold</a>\"</td>\n",
      "<td><a href=\"/wiki/Freda_Payne\" title=\"Freda Payne\">Freda Payne</a></td>\n",
      "</tr>\n",
      "<tr>\n",
      "<td>11</td>\n",
      "<td>\"<a href=\"/wiki/Mama_Told_Me_Not_to_Come\" title=\"Mama Told Me Not to Come\">Mama Told Me (Not to Come)</a>\"</td>\n",
      "<td><a href=\"/wiki/Three_Dog_Night\" title=\"Three Dog Night\">Three Dog Night</a></td>\n",
      "</tr>\n",
      "<tr>\n",
      "<td>12</td>\n",
      "<td>\"<a href=\"/wiki/Everything_Is_Beautiful\" title=\"Everything Is Beautiful\">Everything Is Beautiful</a>\"</td>\n",
      "<td><a href=\"/wiki/Ray_Stevens\" title=\"Ray Stevens\">Ray Stevens</a></td>\n",
      "</tr>\n",
      "<tr>\n",
      "<td>13</td>\n",
      "<td>\"<a href=\"/wiki/Make_It_with_You\" title=\"Make It with You\">Make It with You</a>\"</td>\n",
      "<td><a href=\"/wiki/Bread_(band)\" title=\"Bread (band)\">Bread</a></td>\n",
      "</tr>\n",
      "<tr>\n",
      "<td>14</td>\n",
      "<td>\"<a href=\"/wiki/Hitchin%27_a_Ride_(Vanity_Fare_song)\" title=\"Hitchin' a Ride (Vanity Fare song)\">Hitchin' a Ride</a>\"</td>\n",
      "<td><a href=\"/wiki/Vanity_Fare\" title=\"Vanity Fare\">Vanity Fare</a></td>\n",
      "</tr>\n",
      "<tr>\n",
      "<td>15</td>\n",
      "<td>\"<a href=\"/wiki/ABC_(song)\" title=\"ABC (song)\" class=\"mw-redirect\">ABC</a>\"</td>\n",
      "<td><a href=\"/wiki/The_Jackson_5\" title=\"The Jackson 5\">The Jackson 5</a></td>\n",
      "</tr>\n",
      "<tr>\n",
      "<td>16</td>\n",
      "<td>\"<a href=\"/wiki/The_Love_You_Save\" title=\"The Love You Save\">The Love You Save</a>\"</td>\n",
      "<td><a href=\"/wiki/The_Jackson_5\" title=\"The Jackson 5\">The Jackson 5</a></td>\n",
      "</tr>\n",
      "<tr>\n",
      "<td>17</td>\n",
      "<td>\"<a href=\"/wiki/Cracklin%27_Rosie\" title=\"Cracklin' Rosie\">Cracklin' Rosie</a>\"</td>\n",
      "<td><a href=\"/wiki/Neil_Diamond\" title=\"Neil Diamond\">Neil Diamond</a></td>\n",
      "</tr>\n",
      "<tr>\n",
      "<td>18</td>\n",
      "<td>\"<a href=\"/wiki/Candida_(song)\" title=\"Candida (song)\">Candida</a>\"</td>\n",
      "<td><a href=\"/wiki/Tony_Orlando_and_Dawn\" title=\"Tony Orlando and Dawn\">Dawn</a></td>\n",
      "</tr>\n",
      "<tr>\n",
      "<td>19</td>\n",
      "<td>\"<a href=\"/wiki/Thank_You_(Falettinme_Be_Mice_Elf_Agin)\" title=\"Thank You (Falettinme Be Mice Elf Agin)\">Thank You (Falettinme Be Mice Elf Agin)</a>\"</td>\n",
      "<td><a href=\"/wiki/Sly_%26_the_Family_Stone\" title=\"Sly &amp; the Family Stone\" class=\"mw-redirect\">Sly &amp; the Family Stone</a></td>\n",
      "</tr>\n",
      "<tr>\n",
      "<td>20</td>\n",
      "<td>\"<a href=\"/wiki/Spill_the_Wine\" title=\"Spill the Wine\">Spill the Wine</a>\"</td>\n",
      "<td><a href=\"/wiki/Eric_Burdon\" title=\"Eric Burdon\">Eric Burdon</a> &amp; <a href=\"/wiki/War_(band)\" title=\"War (band)\">War</a></td>\n",
      "</tr>\n",
      "<tr>\n",
      "<td>21</td>\n",
      "<td>\"<a href=\"/wiki/O-o-h_Child\" title=\"O-o-h Child\">O-o-h Child</a>\"</td>\n",
      "<td><a href=\"/wiki/Five_Stairsteps\" title=\"Five Stairsteps\">Five Stairsteps</a></td>\n",
      "</tr>\n",
      "<tr>\n",
      "<td>22</td>\n",
      "<td>\"<a href=\"/wiki/Spirit_in_the_Sky\" title=\"Spirit in the Sky\">Spirit in the Sky</a>\"</td>\n",
      "<td><a href=\"/wiki/Norman_Greenbaum\" title=\"Norman Greenbaum\">Norman Greenbaum</a></td>\n",
      "</tr>\n",
      "<tr>\n",
      "<td>23</td>\n",
      "<td>\"<a href=\"/wiki/Lay_Down_(Candles_in_the_Rain)\" title=\"Lay Down (Candles in the Rain)\">Lay Down (Candles in the Rain)</a>\"</td>\n",
      "<td><a href=\"/wiki/Melanie_Safka\" title=\"Melanie Safka\">Melanie</a></td>\n",
      "</tr>\n",
      "<tr>\n",
      "<td>24</td>\n",
      "<td>\"<a href=\"/wiki/Ball_of_Confusion_(That%27s_What_the_World_Is_Today)\" title=\"Ball of Confusion (That's What the World Is Today)\">Ball of Confusion (That's What the World Is Today)</a>\"</td>\n",
      "<td><a href=\"/wiki/The_Temptations\" title=\"The Temptations\">The Temptations</a></td>\n",
      "</tr>\n",
      "<tr>\n",
      "<td>25</td>\n",
      "<td>\"<a href=\"/wiki/Love_on_a_Two-Way_Street\" title=\"Love on a Two-Way Street\">Love on a Two-Way Street</a>\"</td>\n",
      "<td><a href=\"/wiki/Ray,_Goodman_%26_Brown\" title=\"Ray, Goodman &amp; Brown\">The Moments</a></td>\n",
      "</tr>\n",
      "<tr>\n",
      "<td>26</td>\n",
      "<td>\"Which Way You Goin' Billy?\"</td>\n",
      "<td><a href=\"/wiki/The_Poppy_Family\" title=\"The Poppy Family\">The Poppy Family</a></td>\n",
      "</tr>\n",
      "<tr>\n",
      "<td>27</td>\n",
      "<td>\"<a href=\"/wiki/All_Right_Now\" title=\"All Right Now\">All Right Now</a>\"</td>\n",
      "<td><a href=\"/wiki/Free_(band)\" title=\"Free (band)\">Free</a></td>\n",
      "</tr>\n",
      "<tr>\n",
      "<td>28</td>\n",
      "<td>\"<a href=\"/wiki/I_Want_You_Back\" title=\"I Want You Back\">I Want You Back</a>\"</td>\n",
      "<td><a href=\"/wiki/The_Jackson_5\" title=\"The Jackson 5\">The Jackson 5</a></td>\n",
      "</tr>\n",
      "<tr>\n",
      "<td>29</td>\n",
      "<td>\"Julie (Do Ya Love Me)\"</td>\n",
      "<td><a href=\"/wiki/Bobby_Sherman\" title=\"Bobby Sherman\">Bobby Sherman</a></td>\n",
      "</tr>\n",
      "<tr>\n",
      "<td>30</td>\n",
      "<td>\"<a href=\"/wiki/Green-Eyed_Lady\" title=\"Green-Eyed Lady\">Green-Eyed Lady</a>\"</td>\n",
      "<td><a href=\"/wiki/Sugarloaf_(band)\" title=\"Sugarloaf (band)\">Sugarloaf</a></td>\n",
      "</tr>\n",
      "<tr>\n",
      "<td>31</td>\n",
      "<td>\"<a href=\"/wiki/Signed,_Sealed,_Delivered_I%27m_Yours\" title=\"Signed, Sealed, Delivered I'm Yours\">Signed, Sealed, Delivered I'm Yours</a>\"</td>\n",
      "<td><a href=\"/wiki/Stevie_Wonder\" title=\"Stevie Wonder\">Stevie Wonder</a></td>\n",
      "</tr>\n",
      "<tr>\n",
      "<td>32</td>\n",
      "<td>\"<a href=\"/wiki/Ride_Captain_Ride\" title=\"Ride Captain Ride\">Ride Captain Ride</a>\"</td>\n",
      "<td><a href=\"/wiki/Blues_Image\" title=\"Blues Image\">Blues Image</a></td>\n",
      "</tr>\n",
      "<tr>\n",
      "<td>33</td>\n",
      "<td>\"<a href=\"/wiki/Venus_(Shocking_Blue_song)\" title=\"Venus (Shocking Blue song)\">Venus</a>\"</td>\n",
      "<td><a href=\"/wiki/Shocking_Blue\" title=\"Shocking Blue\">Shocking Blue</a></td>\n",
      "</tr>\n",
      "<tr>\n",
      "<td>34</td>\n",
      "<td>\"<a href=\"/wiki/Instant_Karma!\" title=\"Instant Karma!\">Instant Karma!</a>\"</td>\n",
      "<td><a href=\"/wiki/John_Lennon\" title=\"John Lennon\">John Lennon</a></td>\n",
      "</tr>\n",
      "<tr>\n",
      "<td>35</td>\n",
      "<td>\"Patches\"</td>\n",
      "<td><a href=\"/wiki/Clarence_Carter\" title=\"Clarence Carter\">Clarence Carter</a></td>\n",
      "</tr>\n",
      "<tr>\n",
      "<td>36</td>\n",
      "<td>\"<a href=\"/wiki/Lookin%27_out_My_Back_Door\" title=\"Lookin' out My Back Door\" class=\"mw-redirect\">Lookin' out My Back Door</a>\"</td>\n",
      "<td><a href=\"/wiki/Creedence_Clearwater_Revival\" title=\"Creedence Clearwater Revival\">Creedence Clearwater Revival</a></td>\n",
      "</tr>\n",
      "<tr>\n",
      "<td>37</td>\n",
      "<td>\"<a href=\"/wiki/Rainy_Night_in_Georgia\" title=\"Rainy Night in Georgia\">Rainy Night in Georgia</a>\"</td>\n",
      "<td><a href=\"/wiki/Brook_Benton\" title=\"Brook Benton\">Brook Benton</a></td>\n",
      "</tr>\n",
      "<tr>\n",
      "<td>38</td>\n",
      "<td>\"Something's Burning\"</td>\n",
      "<td><a href=\"/wiki/Kenny_Rogers\" title=\"Kenny Rogers\">Kenny Rogers</a> &amp; <a href=\"/wiki/The_First_Edition_(band)\" title=\"The First Edition (band)\" class=\"mw-redirect\">The First Edition</a></td>\n",
      "</tr>\n",
      "<tr>\n",
      "<td>39</td>\n",
      "<td>\"<a href=\"/wiki/Give_Me_Just_a_Little_More_Time\" title=\"Give Me Just a Little More Time\">Give Me Just a Little More Time</a>\"</td>\n",
      "<td><a href=\"/wiki/Chairmen_of_the_Board\" title=\"Chairmen of the Board\">Chairmen of the Board</a></td>\n",
      "</tr>\n",
      "<tr>\n",
      "<td>40</td>\n",
      "<td>\"<a href=\"/wiki/Love_Grows_(Where_My_Rosemary_Goes)\" title=\"Love Grows (Where My Rosemary Goes)\">Love Grows (Where My Rosemary Goes)</a>\"</td>\n",
      "<td><a href=\"/wiki/Edison_Lighthouse\" title=\"Edison Lighthouse\">Edison Lighthouse</a></td>\n",
      "</tr>\n",
      "<tr>\n",
      "<td>41</td>\n",
      "<td>\"<a href=\"/wiki/The_Long_and_Winding_Road\" title=\"The Long and Winding Road\">The Long and Winding Road</a>\"</td>\n",
      "<td><a href=\"/wiki/The_Beatles\" title=\"The Beatles\">The Beatles</a></td>\n",
      "</tr>\n",
      "<tr>\n",
      "<td>42</td>\n",
      "<td>\"<a href=\"/wiki/Snowbird_(song)\" title=\"Snowbird (song)\">Snowbird</a>\"</td>\n",
      "<td><a href=\"/wiki/Anne_Murray\" title=\"Anne Murray\">Anne Murray</a></td>\n",
      "</tr>\n",
      "<tr>\n",
      "<td>43</td>\n",
      "<td>\"<a href=\"/wiki/Reflections_of_My_Life\" title=\"Reflections of My Life\">Reflections of My Life</a>\"</td>\n",
      "<td><a href=\"/wiki/Marmalade_(band)\" title=\"Marmalade (band)\">Marmalade</a></td>\n",
      "</tr>\n",
      "<tr>\n",
      "<td>44</td>\n",
      "<td>\"<a href=\"/wiki/Hey_There_Lonely_Girl\" title=\"Hey There Lonely Girl\">Hey There Lonely Girl</a>\"</td>\n",
      "<td><a href=\"/wiki/Eddie_Holman\" title=\"Eddie Holman\">Eddie Holman</a></td>\n",
      "</tr>\n",
      "<tr>\n",
      "<td>45</td>\n",
      "<td>\"<a href=\"/wiki/The_Rapper\" title=\"The Rapper\">The Rapper</a>\"</td>\n",
      "<td><a href=\"/wiki/The_Jaggerz\" title=\"The Jaggerz\">The Jaggerz</a></td>\n",
      "</tr>\n",
      "<tr>\n",
      "<td>46</td>\n",
      "<td>\"<a href=\"/wiki/He_Ain%27t_Heavy,_He%27s_My_Brother\" title=\"He Ain't Heavy, He's My Brother\">He Ain't Heavy, He's My Brother</a>\"</td>\n",
      "<td><a href=\"/wiki/The_Hollies\" title=\"The Hollies\">The Hollies</a></td>\n",
      "</tr>\n",
      "<tr>\n",
      "<td>47</td>\n",
      "<td>\"Tighter, Tighter\"</td>\n",
      "<td><a href=\"/wiki/Alive_N_Kickin%27\" title=\"Alive N Kickin'\">Alive N Kickin'</a></td>\n",
      "</tr>\n",
      "<tr>\n",
      "<td>48</td>\n",
      "<td>\"<a href=\"/wiki/Come_and_Get_It_(Badfinger_song)\" title=\"Come and Get It (Badfinger song)\">Come and Get It</a>\"</td>\n",
      "<td><a href=\"/wiki/Badfinger\" title=\"Badfinger\">Badfinger</a></td>\n",
      "</tr>\n",
      "<tr>\n",
      "<td>49</td>\n",
      "<td>\"<a href=\"/wiki/Cecilia_(Simon_%26_Garfunkel_song)\" title=\"Cecilia (Simon &amp; Garfunkel song)\">Cecilia</a>\"</td>\n",
      "<td><a href=\"/wiki/Simon_%26_Garfunkel\" title=\"Simon &amp; Garfunkel\">Simon &amp; Garfunkel</a></td>\n",
      "</tr>\n",
      "<tr>\n",
      "<td>50</td>\n",
      "<td>\"Love Land\"</td>\n",
      "<td><a href=\"/wiki/Charles_Wright_%26_the_Watts_103rd_Street_Rhythm_Band\" title=\"Charles Wright &amp; the Watts 103rd Street Rhythm Band\">Charles Wright &amp; the Watts 103rd Street Rhythm Band</a></td>\n",
      "</tr>\n",
      "<tr>\n",
      "<td>51</td>\n",
      "<td>\"<a href=\"/wiki/Turn_Back_the_Hands_of_Time_(song)\" title=\"Turn Back the Hands of Time (song)\" class=\"mw-redirect\">Turn Back the Hands of Time</a>\"</td>\n",
      "<td><a href=\"/wiki/Tyrone_Davis\" title=\"Tyrone Davis\">Tyrone Davis</a></td>\n",
      "</tr>\n",
      "<tr>\n",
      "<td>52</td>\n",
      "<td>\"<a href=\"/wiki/Lola_(song)\" title=\"Lola (song)\">Lola</a>\"</td>\n",
      "<td><a href=\"/wiki/The_Kinks\" title=\"The Kinks\">The Kinks</a></td>\n",
      "</tr>\n",
      "<tr>\n",
      "<td>53</td>\n",
      "<td>\"<a href=\"/wiki/In_the_Summertime_(Mungo_Jerry_song)\" title=\"In the Summertime (Mungo Jerry song)\">In the Summertime</a>\"</td>\n",
      "<td><a href=\"/wiki/Mungo_Jerry\" title=\"Mungo Jerry\">Mungo Jerry</a></td>\n",
      "</tr>\n",
      "<tr>\n",
      "<td>54</td>\n",
      "<td>\"<a href=\"/wiki/Indiana_Wants_Me\" title=\"Indiana Wants Me\">Indiana Wants Me</a>\"</td>\n",
      "<td><a href=\"/wiki/R._Dean_Taylor\" title=\"R. Dean Taylor\">R. Dean Taylor</a></td>\n",
      "</tr>\n",
      "<tr>\n",
      "<td>55</td>\n",
      "<td>\"<a href=\"/wiki/(I_Know)_I%27m_Losing_You\" title=\"(I Know) I'm Losing You\">(I Know) I'm Losing You</a>\"</td>\n",
      "<td><a href=\"/wiki/Rare_Earth_(band)\" title=\"Rare Earth (band)\">Rare Earth</a></td>\n",
      "</tr>\n",
      "<tr>\n",
      "<td>56</td>\n",
      "<td>\"Easy Come, Easy Go\"</td>\n",
      "<td><a href=\"/wiki/Bobby_Sherman\" title=\"Bobby Sherman\">Bobby Sherman</a></td>\n",
      "</tr>\n",
      "<tr>\n",
      "<td>57</td>\n",
      "<td>\"Express Yourself\"</td>\n",
      "<td><a href=\"/wiki/Charles_Wright_%26_the_Watts_103rd_Street_Rhythm_Band\" title=\"Charles Wright &amp; the Watts 103rd Street Rhythm Band\">Charles Wright &amp; the Watts 103rd Street Rhythm Band</a></td>\n",
      "</tr>\n",
      "<tr>\n",
      "<td>58</td>\n",
      "<td>\"<a href=\"/wiki/Still_Water_(Love)\" title=\"Still Water (Love)\">Still Water (Love)</a>\"</td>\n",
      "<td><a href=\"/wiki/The_Four_Tops\" title=\"The Four Tops\" class=\"mw-redirect\">The Four Tops</a></td>\n",
      "</tr>\n",
      "<tr>\n",
      "<td>59</td>\n",
      "<td>\"<a href=\"/wiki/Make_Me_Smile\" title=\"Make Me Smile\">Make Me Smile</a>\"</td>\n",
      "<td><a href=\"/wiki/Chicago_(band)\" title=\"Chicago (band)\">Chicago</a></td>\n",
      "</tr>\n",
      "<tr>\n",
      "<td>60</td>\n",
      "<td>\"<a href=\"/wiki/The_House_of_the_Rising_Sun\" title=\"The House of the Rising Sun\">The House of the Rising Sun</a>\"</td>\n",
      "<td><a href=\"/wiki/Frijid_Pink\" title=\"Frijid Pink\">Frijid Pink</a></td>\n",
      "</tr>\n",
      "<tr>\n",
      "<td>61</td>\n",
      "<td>\"<a href=\"/wiki/25_or_6_to_4\" title=\"25 or 6 to 4\">25 or 6 to 4</a>\"</td>\n",
      "<td><a href=\"/wiki/Chicago_(band)\" title=\"Chicago (band)\">Chicago</a></td>\n",
      "</tr>\n",
      "<tr>\n",
      "<td>62</td>\n",
      "<td>\"<a href=\"/wiki/My_Baby_Loves_Lovin%27\" title=\"My Baby Loves Lovin'\">My Baby Loves Lovin'</a>\"</td>\n",
      "<td><a href=\"/wiki/White_Plains_(band)\" title=\"White Plains (band)\">White Plains</a></td>\n",
      "</tr>\n",
      "<tr>\n",
      "<td>63</td>\n",
      "<td>\"<a href=\"/wiki/Love_or_Let_Me_Be_Lonely\" title=\"Love or Let Me Be Lonely\">Love or Let Me Be Lonely</a>\"</td>\n",
      "<td><a href=\"/wiki/The_Friends_of_Distinction\" title=\"The Friends of Distinction\">The Friends of Distinction</a></td>\n",
      "</tr>\n",
      "<tr>\n",
      "<td>64</td>\n",
      "<td>\"<a href=\"/wiki/United_We_Stand_(song)\" title=\"United We Stand (song)\">United We Stand</a>\"</td>\n",
      "<td><a href=\"/wiki/The_Brotherhood_of_Man\" title=\"The Brotherhood of Man\" class=\"mw-redirect\">The Brotherhood of Man</a></td>\n",
      "</tr>\n",
      "<tr>\n",
      "<td>65</td>\n",
      "<td>\"<a href=\"/wiki/We%27ve_Only_Just_Begun\" title=\"We've Only Just Begun\">We've Only Just Begun</a>\"</td>\n",
      "<td><a href=\"/wiki/The_Carpenters\" title=\"The Carpenters\">The Carpenters</a></td>\n",
      "</tr>\n",
      "<tr>\n",
      "<td>66</td>\n",
      "<td>\"Arizona\"</td>\n",
      "<td><a href=\"/wiki/Mark_Lindsay\" title=\"Mark Lindsay\">Mark Lindsay</a></td>\n",
      "</tr>\n",
      "<tr>\n",
      "<td>67</td>\n",
      "<td>\"<a href=\"/wiki/Fire_and_Rain\" title=\"Fire and Rain\" class=\"mw-redirect\">Fire and Rain</a>\"</td>\n",
      "<td><a href=\"/wiki/James_Taylor\" title=\"James Taylor\">James Taylor</a></td>\n",
      "</tr>\n",
      "<tr>\n",
      "<td>68</td>\n",
      "<td>\"<a href=\"/wiki/Groovy_Situation\" title=\"Groovy Situation\">Groovy Situation</a>\"</td>\n",
      "<td><a href=\"/wiki/Gene_Chandler\" title=\"Gene Chandler\">Gene Chandler</a></td>\n",
      "</tr>\n",
      "<tr>\n",
      "<td>69</td>\n",
      "<td>\"<a href=\"/wiki/Evil_Ways\" title=\"Evil Ways\">Evil Ways</a>\"</td>\n",
      "<td><a href=\"/wiki/Santana_(band)\" title=\"Santana (band)\">Santana</a></td>\n",
      "</tr>\n",
      "<tr>\n",
      "<td>70</td>\n",
      "<td>\"<a href=\"/wiki/No_Time_(The_Guess_Who_song)\" title=\"No Time (The Guess Who song)\">No Time</a>\"</td>\n",
      "<td><a href=\"/wiki/The_Guess_Who\" title=\"The Guess Who\">The Guess Who</a></td>\n",
      "</tr>\n",
      "<tr>\n",
      "<td>71</td>\n",
      "<td>\"<a href=\"/wiki/Didn%27t_I_(Blow_Your_Mind_This_Time)\" title=\"Didn't I (Blow Your Mind This Time)\">Didn't I (Blow Your Mind This Time)</a>\"</td>\n",
      "<td><a href=\"/wiki/The_Delfonics\" title=\"The Delfonics\">The Delfonics</a></td>\n",
      "</tr>\n",
      "<tr>\n",
      "<td>72</td>\n",
      "<td>\"<a href=\"/wiki/The_Wonder_of_You\" title=\"The Wonder of You\">The Wonder of You</a>\"</td>\n",
      "<td><a href=\"/wiki/Elvis_Presley\" title=\"Elvis Presley\">Elvis Presley</a></td>\n",
      "</tr>\n",
      "<tr>\n",
      "<td>73</td>\n",
      "<td>\"<a href=\"/wiki/Up_Around_the_Bend\" title=\"Up Around the Bend\">Up Around the Bend</a>\"</td>\n",
      "<td><a href=\"/wiki/Creedence_Clearwater_Revival\" title=\"Creedence Clearwater Revival\">Creedence Clearwater Revival</a></td>\n",
      "</tr>\n",
      "<tr>\n",
      "<td>74</td>\n",
      "<td>\"(If You Let Me Make Love To You Then) Why Can't I Touch You?\"</td>\n",
      "<td><a href=\"/wiki/Ronnie_Dyson\" title=\"Ronnie Dyson\">Ronnie Dyson</a></td>\n",
      "</tr>\n",
      "<tr>\n",
      "<td>75</td>\n",
      "<td>\"<a href=\"/wiki/I_Just_Can%27t_Help_Believing\" title=\"I Just Can't Help Believing\">I Just Can't Help Believing</a>\"</td>\n",
      "<td><a href=\"/wiki/B.J._Thomas\" title=\"B.J. Thomas\" class=\"mw-redirect\">B.J. Thomas</a></td>\n",
      "</tr>\n",
      "<tr>\n",
      "<td>76</td>\n",
      "<td>\"<a href=\"/wiki/It%27s_a_Shame_(The_Spinners_song)\" title=\"It's a Shame (The Spinners song)\">It's a Shame</a>\"</td>\n",
      "<td><a href=\"/wiki/The_Spinners_(American_band)\" title=\"The Spinners (American band)\" class=\"mw-redirect\">The Spinners</a></td>\n",
      "</tr>\n",
      "<tr>\n",
      "<td>77</td>\n",
      "<td>\"<a href=\"/wiki/For_the_Love_of_Him\" title=\"For the Love of Him\">For the Love of Him</a>\"</td>\n",
      "<td><a href=\"/wiki/Bobbi_Martin\" title=\"Bobbi Martin\">Bobbi Martin</a></td>\n",
      "</tr>\n",
      "<tr>\n",
      "<td>78</td>\n",
      "<td>\"<a href=\"/wiki/Mississippi_Queen\" title=\"Mississippi Queen\">Mississippi Queen</a>\"</td>\n",
      "<td><a href=\"/wiki/Mountain_(band)\" title=\"Mountain (band)\">Mountain</a></td>\n",
      "</tr>\n",
      "<tr>\n",
      "<td>79</td>\n",
      "<td>\"<a href=\"/wiki/I_Want_to_Take_You_Higher\" title=\"I Want to Take You Higher\">I Want to Take You Higher</a>\"</td>\n",
      "<td><a href=\"/wiki/Ike_%26_Tina_Turner\" title=\"Ike &amp; Tina Turner\">Ike &amp; Tina Turner</a></td>\n",
      "</tr>\n",
      "<tr>\n",
      "<td>80</td>\n",
      "<td>\"<a href=\"/wiki/The_Letter_(The_Box_Tops_song)\" title=\"The Letter (The Box Tops song)\">The Letter</a>\"</td>\n",
      "<td><a href=\"/wiki/Joe_Cocker\" title=\"Joe Cocker\">Joe Cocker</a></td>\n",
      "</tr>\n",
      "<tr>\n",
      "<td>81</td>\n",
      "<td>\"<a href=\"/wiki/Ma_Belle_Amie\" title=\"Ma Belle Amie\">Ma Belle Amie</a>\"</td>\n",
      "<td><a href=\"/wiki/Tee_Set\" title=\"Tee Set\">Tee Set</a></td>\n",
      "</tr>\n",
      "<tr>\n",
      "<td>82</td>\n",
      "<td>\"<a href=\"/wiki/The_Bells_(The_Originals_song)\" title=\"The Bells (The Originals song)\">The Bells</a>\"</td>\n",
      "<td><a href=\"/wiki/The_Originals\" title=\"The Originals\" class=\"mw-redirect\">The Originals</a></td>\n",
      "</tr>\n",
      "<tr>\n",
      "<td>83</td>\n",
      "<td>\"<a href=\"/wiki/Yellow_River_(song)\" title=\"Yellow River (song)\">Yellow River</a>\"</td>\n",
      "<td><a href=\"/wiki/Christie_(band)\" title=\"Christie (band)\">Christie</a></td>\n",
      "</tr>\n",
      "<tr>\n",
      "<td>84</td>\n",
      "<td>\"Somebody's Been Sleeping\"</td>\n",
      "<td><a href=\"/wiki/100_Proof_(Aged_in_Soul)\" title=\"100 Proof (Aged in Soul)\">100 Proof (Aged in Soul)</a></td>\n",
      "</tr>\n",
      "<tr>\n",
      "<td>85</td>\n",
      "<td>\"Vehicle\"</td>\n",
      "<td><a href=\"/wiki/The_Ides_of_March_(band)\" title=\"The Ides of March (band)\">The Ides of March</a></td>\n",
      "</tr>\n",
      "<tr>\n",
      "<td>86</td>\n",
      "<td>\"<a href=\"/wiki/Gimme_Dat_Ding_(song)\" title=\"Gimme Dat Ding (song)\" class=\"mw-redirect\">Gimme Dat Ding</a>\"</td>\n",
      "<td><a href=\"/wiki/The_Pipkins\" title=\"The Pipkins\">The Pipkins</a></td>\n",
      "</tr>\n",
      "<tr>\n",
      "<td>87</td>\n",
      "<td>\"Lay a Little Lovin' On Me\"</td>\n",
      "<td><a href=\"/wiki/Robin_McNamara\" title=\"Robin McNamara\">Robin McNamara</a></td>\n",
      "</tr>\n",
      "<tr>\n",
      "<td>88</td>\n",
      "<td>\"<a href=\"/wiki/Up_the_Ladder_to_the_Roof\" title=\"Up the Ladder to the Roof\">Up the Ladder to the Roof</a>\"</td>\n",
      "<td><a href=\"/wiki/The_Supremes\" title=\"The Supremes\">The Supremes</a></td>\n",
      "</tr>\n",
      "<tr>\n",
      "<td>89</td>\n",
      "<td>\"<a href=\"/wiki/Travelin%27_Band\" title=\"Travelin' Band\">Travelin' Band</a>\"</td>\n",
      "<td><a href=\"/wiki/Creedence_Clearwater_Revival\" title=\"Creedence Clearwater Revival\">Creedence Clearwater Revival</a></td>\n",
      "</tr>\n",
      "<tr>\n",
      "<td>90</td>\n",
      "<td>\"<a href=\"/wiki/Come_Saturday_Morning_(song)\" title=\"Come Saturday Morning (song)\">Come Saturday Morning</a>\"</td>\n",
      "<td><a href=\"/wiki/The_Sandpipers\" title=\"The Sandpipers\">The Sandpipers</a></td>\n",
      "</tr>\n",
      "<tr>\n",
      "<td>91</td>\n",
      "<td>\"<a href=\"/wiki/Psychedelic_Shack_(song)\" title=\"Psychedelic Shack (song)\">Psychedelic Shack</a>\"</td>\n",
      "<td><a href=\"/wiki/The_Temptations\" title=\"The Temptations\">The Temptations</a></td>\n",
      "</tr>\n",
      "<tr>\n",
      "<td>92</td>\n",
      "<td>\"<a href=\"/wiki/Without_Love_(There_Is_Nothing)\" title=\"Without Love (There Is Nothing)\" class=\"mw-redirect\">Without Love (There Is Nothing)</a>\"</td>\n",
      "<td><a href=\"/wiki/Tom_Jones_(singer)\" title=\"Tom Jones (singer)\">Tom Jones</a></td>\n",
      "</tr>\n",
      "<tr>\n",
      "<td>93</td>\n",
      "<td>\"Are You Ready?\"</td>\n",
      "<td><a href=\"/wiki/Pacific_Gas_%26_Electric_(band)\" title=\"Pacific Gas &amp; Electric (band)\">Pacific Gas &amp; Electric</a></td>\n",
      "</tr>\n",
      "<tr>\n",
      "<td>94</td>\n",
      "<td>\"<a href=\"/wiki/Woodstock_(song)\" title=\"Woodstock (song)\">Woodstock</a>\"</td>\n",
      "<td><a href=\"/wiki/Crosby,_Stills,_Nash_%26_Young\" title=\"Crosby, Stills, Nash &amp; Young\">Crosby, Stills, Nash &amp; Young</a></td>\n",
      "</tr>\n",
      "<tr>\n",
      "<td>95</td>\n",
      "<td>\"<a href=\"/wiki/I%27ll_Never_Fall_in_Love_Again\" title=\"I'll Never Fall in Love Again\">I'll Never Fall in Love Again</a>\"</td>\n",
      "<td><a href=\"/wiki/Dionne_Warwick\" title=\"Dionne Warwick\">Dionne Warwick</a></td>\n",
      "</tr>\n",
      "<tr>\n",
      "<td>96</td>\n",
      "<td>\"Look What They've Done to My Song Ma\"</td>\n",
      "<td><a href=\"/wiki/The_New_Seekers\" title=\"The New Seekers\">The New Seekers</a></td>\n",
      "</tr>\n",
      "<tr>\n",
      "<td>97</td>\n",
      "<td>\"<a href=\"/wiki/Walk_A_Mile_In_My_Shoes\" title=\"Walk A Mile In My Shoes\" class=\"mw-redirect\">Walk A Mile In My Shoes</a>\"</td>\n",
      "<td><a href=\"/wiki/Joe_South\" title=\"Joe South\">Joe South</a></td>\n",
      "</tr>\n",
      "<tr>\n",
      "<td>98</td>\n",
      "<td>\"<a href=\"/wiki/The_Thrill_Is_Gone_(1951_song)\" title=\"The Thrill Is Gone (1951 song)\" class=\"mw-redirect\">The Thrill Is Gone</a>\"</td>\n",
      "<td><a href=\"/wiki/B.B._King\" title=\"B.B. King\">B.B. King</a></td>\n",
      "</tr>\n",
      "<tr>\n",
      "<td>99</td>\n",
      "<td>\"<a href=\"/wiki/It%27s_Only_Make_Believe\" title=\"It's Only Make Believe\">It's Only Make Believe</a>\"</td>\n",
      "<td><a href=\"/wiki/Glen_Campbell\" title=\"Glen Campbell\">Glen Campbell</a></td>\n",
      "</tr>\n",
      "<tr>\n",
      "<td>100</td>\n",
      "<td>\"<a href=\"/wiki/Call_Me_(Aretha_Franklin_song)\" title=\"Call Me (Aretha Franklin song)\">Call Me</a>\"</td>\n",
      "<td><a href=\"/wiki/Aretha_Franklin\" title=\"Aretha Franklin\">Aretha Franklin</a></td>\n",
      "</tr>\n",
      "</table>\n",
      "<h2><span class=\"mw-headline\" id=\"See_also\">See also</span><span class=\"mw-editsection\"><span class=\"mw-editsection-bracket\">[</span><a href=\"/w/index.php?title=Billboard_Year-End_Hot_100_singles_of_1970&amp;action=edit&amp;section=1\" title=\"Edit section: See also\">edit</a><span class=\"mw-editsection-bracket\">]</span></span></h2>\n",
      "<ul>\n",
      "<li><a href=\"/wiki/1970_in_music\" title=\"1970 in music\">1970 in music</a></li>\n",
      "<li><a href=\"/wiki/List_of_Hot_100_number-one_singles_of_1970_(U.S.)\" title=\"List of Hot 100 number-one singles of 1970 (U.S.)\" class=\"mw-redirect\">List of Hot 100 number-one singles of 1970 (U.S.)</a></li>\n",
      "</ul>\n",
      "<h2><span class=\"mw-headline\" id=\"References\">References</span><span class=\"mw-editsection\"><span class=\"mw-editsection-bracket\">[</span><a href=\"/w/index.php?title=Billboard_Year-End_Hot_100_singles_of_1970&amp;action=edit&amp;section=2\" title=\"Edit section: References\">edit</a><span class=\"mw-editsection-bracket\">]</span></span></h2>\n",
      "<div class=\"reflist\" style=\"list-style-type: decimal;\">\n",
      "<ol class=\"references\">\n",
      "<li id=\"cite_note-1\"><span class=\"mw-cite-backlink\"><b><a href=\"#cite_ref-1\">^</a></b></span> <span class=\"reference-text\"><span class=\"citation web\"><a rel=\"nofollow\" class=\"external text\" href=\"http://longboredsurfer.com/charts/1970.php\">\"Billboard Top 100 - 1970\"</a><span class=\"reference-accessdate\">. Retrieved <span class=\"nowrap\">2011-01-03</span></span>.</span><span title=\"ctx_ver=Z39.88-2004&amp;rfr_id=info%3Asid%2Fen.wikipedia.org%3ABillboard+Year-End+Hot+100+singles+of+1970&amp;rft.btitle=Billboard+Top+100+-+1970&amp;rft.genre=book&amp;rft_id=http%3A%2F%2Flongboredsurfer.com%2Fcharts%2F1970.php&amp;rft_val_fmt=info%3Aofi%2Ffmt%3Akev%3Amtx%3Abook\" class=\"Z3988\"><span style=\"display:none;\">&#160;</span></span></span></li>\n",
      "</ol>\n",
      "</div>\n",
      "<table class=\"navbox\" style=\"border-spacing:0\">\n",
      "<tr>\n",
      "<td style=\"padding:2px\">\n",
      "<table class=\"nowraplinks collapsible autocollapse navbox-inner\" style=\"border-spacing:0;background:transparent;color:inherit\">\n",
      "<tr>\n",
      "<th scope=\"col\" class=\"navbox-title\" colspan=\"2\">\n",
      "<div class=\"plainlinks hlist navbar mini\">\n",
      "<ul>\n",
      "<li class=\"nv-view\"><a href=\"/wiki/Template:Hot_100_year-end_charts\" title=\"Template:Hot 100 year-end charts\"><span title=\"View this template\" style=\";;background:none transparent;border:none;\">v</span></a></li>\n",
      "<li class=\"nv-talk\"><a href=\"/wiki/Template_talk:Hot_100_year-end_charts\" title=\"Template talk:Hot 100 year-end charts\"><span title=\"Discuss this template\" style=\";;background:none transparent;border:none;\">t</span></a></li>\n",
      "<li class=\"nv-edit\"><a class=\"external text\" href=\"//en.wikipedia.org/w/index.php?title=Template:Hot_100_year-end_charts&amp;action=edit\"><span title=\"Edit this template\" style=\";;background:none transparent;border:none;\">e</span></a></li>\n",
      "</ul>\n",
      "</div>\n",
      "<div style=\"font-size:114%\"><a href=\"/wiki/Billboard_(magazine)\" title=\"Billboard (magazine)\"><i>Billboard</i></a> <a href=\"/wiki/Billboard_Year-End\" title=\"Billboard Year-End\">Year-End charts</a></div>\n",
      "</th>\n",
      "</tr>\n",
      "<tr style=\"height:2px\">\n",
      "<td colspan=\"2\"/>\n",
      "</tr>\n",
      "<tr>\n",
      "<th scope=\"row\" class=\"navbox-group\">1951&#8211;1969</th>\n",
      "<td class=\"navbox-list navbox-odd hlist\" style=\"text-align:left;border-left-width:2px;border-left-style:solid;width:100%;padding:0px\">\n",
      "<div style=\"padding:0em 0.25em\">\n",
      "<ul>\n",
      "<li><a href=\"/wiki/Billboard_year-end_top_30_singles_of_1951\" title=\"Billboard year-end top 30 singles of 1951\">1951</a></li>\n",
      "<li><a href=\"/wiki/Billboard_year-end_top_30_singles_of_1952\" title=\"Billboard year-end top 30 singles of 1952\">1952</a></li>\n",
      "<li><a href=\"/wiki/Billboard_year-end_top_30_singles_of_1953\" title=\"Billboard year-end top 30 singles of 1953\">1953</a></li>\n",
      "<li><a href=\"/wiki/Billboard_year-end_top_30_singles_of_1954\" title=\"Billboard year-end top 30 singles of 1954\">1954</a></li>\n",
      "<li><a href=\"/wiki/Billboard_year-end_top_30_singles_of_1955\" title=\"Billboard year-end top 30 singles of 1955\">1955</a></li>\n",
      "<li><a href=\"/wiki/Billboard_year-end_top_100_singles_of_1956\" title=\"Billboard year-end top 100 singles of 1956\">1956</a></li>\n",
      "<li><a href=\"/wiki/Billboard_year-end_top_100_singles_of_1957\" title=\"Billboard year-end top 100 singles of 1957\">1957</a></li>\n",
      "<li><a href=\"/wiki/Billboard_year-end_top_100_singles_of_1958\" title=\"Billboard year-end top 100 singles of 1958\">1958</a></li>\n",
      "<li><a href=\"/wiki/Billboard_Year-End_Hot_100_singles_of_1959\" title=\"Billboard Year-End Hot 100 singles of 1959\">1959</a></li>\n",
      "<li><a href=\"/wiki/Billboard_Year-End_Hot_100_singles_of_1960\" title=\"Billboard Year-End Hot 100 singles of 1960\">1960</a></li>\n",
      "<li><a href=\"/wiki/Billboard_Year-End_Hot_100_singles_of_1961\" title=\"Billboard Year-End Hot 100 singles of 1961\">1961</a></li>\n",
      "<li><a href=\"/wiki/Billboard_Year-End_Hot_100_singles_of_1962\" title=\"Billboard Year-End Hot 100 singles of 1962\">1962</a></li>\n",
      "<li><a href=\"/wiki/Billboard_Year-End_Hot_100_singles_of_1963\" title=\"Billboard Year-End Hot 100 singles of 1963\">1963</a></li>\n",
      "<li><a href=\"/wiki/Billboard_Year-End_Hot_100_singles_of_1964\" title=\"Billboard Year-End Hot 100 singles of 1964\">1964</a></li>\n",
      "<li><a href=\"/wiki/Billboard_Year-End_Hot_100_singles_of_1965\" title=\"Billboard Year-End Hot 100 singles of 1965\">1965</a></li>\n",
      "<li><a href=\"/wiki/Billboard_Year-End_Hot_100_singles_of_1966\" title=\"Billboard Year-End Hot 100 singles of 1966\">1966</a></li>\n",
      "<li><a href=\"/wiki/Billboard_Year-End_Hot_100_singles_of_1967\" title=\"Billboard Year-End Hot 100 singles of 1967\">1967</a></li>\n",
      "<li><a href=\"/wiki/Billboard_Year-End_Hot_100_singles_of_1968\" title=\"Billboard Year-End Hot 100 singles of 1968\">1968</a></li>\n",
      "<li><a href=\"/wiki/Billboard_Year-End_Hot_100_singles_of_1969\" title=\"Billboard Year-End Hot 100 singles of 1969\">1969</a></li>\n",
      "</ul>\n",
      "</div>\n",
      "</td>\n",
      "</tr>\n",
      "<tr style=\"height:2px\">\n",
      "<td colspan=\"2\"/>\n",
      "</tr>\n",
      "<tr>\n",
      "<th scope=\"row\" class=\"navbox-group\">1970&#8211;1989</th>\n",
      "<td class=\"navbox-list navbox-even hlist\" style=\"text-align:left;border-left-width:2px;border-left-style:solid;width:100%;padding:0px\">\n",
      "<div style=\"padding:0em 0.25em\">\n",
      "<ul>\n",
      "<li><strong class=\"selflink\">1970</strong></li>\n",
      "<li><a href=\"/wiki/Billboard_Year-End_Hot_100_singles_of_1971\" title=\"Billboard Year-End Hot 100 singles of 1971\">1971</a></li>\n",
      "<li><a href=\"/wiki/Billboard_Year-End_Hot_100_singles_of_1972\" title=\"Billboard Year-End Hot 100 singles of 1972\">1972</a></li>\n",
      "<li><a href=\"/wiki/Billboard_Year-End_Hot_100_singles_of_1973\" title=\"Billboard Year-End Hot 100 singles of 1973\">1973</a></li>\n",
      "<li><a href=\"/wiki/Billboard_Year-End_Hot_100_singles_of_1974\" title=\"Billboard Year-End Hot 100 singles of 1974\">1974</a></li>\n",
      "<li><a href=\"/wiki/Billboard_Year-End_Hot_100_singles_of_1975\" title=\"Billboard Year-End Hot 100 singles of 1975\">1975</a></li>\n",
      "<li><a href=\"/wiki/Billboard_Year-End_Hot_100_singles_of_1976\" title=\"Billboard Year-End Hot 100 singles of 1976\">1976</a></li>\n",
      "<li><a href=\"/wiki/Billboard_Year-End_Hot_100_singles_of_1977\" title=\"Billboard Year-End Hot 100 singles of 1977\">1977</a></li>\n",
      "<li><a href=\"/wiki/Billboard_Year-End_Hot_100_singles_of_1978\" title=\"Billboard Year-End Hot 100 singles of 1978\">1978</a></li>\n",
      "<li><a href=\"/wiki/Billboard_Year-End_Hot_100_singles_of_1979\" title=\"Billboard Year-End Hot 100 singles of 1979\">1979</a></li>\n",
      "<li><a href=\"/wiki/Billboard_Year-End_Hot_100_singles_of_1980\" title=\"Billboard Year-End Hot 100 singles of 1980\">1980</a></li>\n",
      "<li><a href=\"/wiki/Billboard_Year-End_Hot_100_singles_of_1981\" title=\"Billboard Year-End Hot 100 singles of 1981\">1981</a></li>\n",
      "<li><a href=\"/wiki/Billboard_Year-End_Hot_100_singles_of_1982\" title=\"Billboard Year-End Hot 100 singles of 1982\">1982</a></li>\n",
      "<li><a href=\"/wiki/Billboard_Year-End_Hot_100_singles_of_1983\" title=\"Billboard Year-End Hot 100 singles of 1983\">1983</a></li>\n",
      "<li><a href=\"/wiki/Billboard_Year-End_Hot_100_singles_of_1984\" title=\"Billboard Year-End Hot 100 singles of 1984\">1984</a></li>\n",
      "<li><a href=\"/wiki/Billboard_Year-End_Hot_100_singles_of_1985\" title=\"Billboard Year-End Hot 100 singles of 1985\">1985</a></li>\n",
      "<li><a href=\"/wiki/Billboard_Year-End_Hot_100_singles_of_1986\" title=\"Billboard Year-End Hot 100 singles of 1986\">1986</a></li>\n",
      "<li><a href=\"/wiki/Billboard_Year-End_Hot_100_singles_of_1987\" title=\"Billboard Year-End Hot 100 singles of 1987\">1987</a></li>\n",
      "<li><a href=\"/wiki/Billboard_Year-End_Hot_100_singles_of_1988\" title=\"Billboard Year-End Hot 100 singles of 1988\">1988</a></li>\n",
      "<li><a href=\"/wiki/Billboard_Year-End_Hot_100_singles_of_1989\" title=\"Billboard Year-End Hot 100 singles of 1989\">1989</a></li>\n",
      "</ul>\n",
      "</div>\n",
      "</td>\n",
      "</tr>\n",
      "<tr style=\"height:2px\">\n",
      "<td colspan=\"2\"/>\n",
      "</tr>\n",
      "<tr>\n",
      "<th scope=\"row\" class=\"navbox-group\">1990&#8211;2009</th>\n",
      "<td class=\"navbox-list navbox-odd hlist\" style=\"text-align:left;border-left-width:2px;border-left-style:solid;width:100%;padding:0px\">\n",
      "<div style=\"padding:0em 0.25em\">\n",
      "<ul>\n",
      "<li><a href=\"/wiki/Billboard_Year-End_Hot_100_singles_of_1990\" title=\"Billboard Year-End Hot 100 singles of 1990\">1990</a></li>\n",
      "<li><a href=\"/wiki/Billboard_Year-End_Hot_100_singles_of_1991\" title=\"Billboard Year-End Hot 100 singles of 1991\">1991</a></li>\n",
      "<li><a href=\"/wiki/Billboard_Year-End_Hot_100_singles_of_1992\" title=\"Billboard Year-End Hot 100 singles of 1992\">1992</a></li>\n",
      "<li><a href=\"/wiki/Billboard_Year-End_Hot_100_singles_of_1993\" title=\"Billboard Year-End Hot 100 singles of 1993\">1993</a></li>\n",
      "<li><a href=\"/wiki/Billboard_Year-End_Hot_100_singles_of_1994\" title=\"Billboard Year-End Hot 100 singles of 1994\">1994</a></li>\n",
      "<li><a href=\"/wiki/Billboard_Year-End_Hot_100_singles_of_1995\" title=\"Billboard Year-End Hot 100 singles of 1995\">1995</a></li>\n",
      "<li><a href=\"/wiki/Billboard_Year-End_Hot_100_singles_of_1996\" title=\"Billboard Year-End Hot 100 singles of 1996\">1996</a></li>\n",
      "<li><a href=\"/wiki/Billboard_Year-End_Hot_100_singles_of_1997\" title=\"Billboard Year-End Hot 100 singles of 1997\">1997</a></li>\n",
      "<li><a href=\"/wiki/Billboard_Year-End_Hot_100_singles_of_1998\" title=\"Billboard Year-End Hot 100 singles of 1998\">1998</a></li>\n",
      "<li><a href=\"/wiki/Billboard_Year-End_Hot_100_singles_of_1999\" title=\"Billboard Year-End Hot 100 singles of 1999\">1999</a></li>\n",
      "<li><a href=\"/wiki/Billboard_Year-End_Hot_100_singles_of_2000\" title=\"Billboard Year-End Hot 100 singles of 2000\">2000</a></li>\n",
      "<li><a href=\"/wiki/Billboard_Year-End_Hot_100_singles_of_2001\" title=\"Billboard Year-End Hot 100 singles of 2001\">2001</a></li>\n",
      "<li><a href=\"/wiki/Billboard_Year-End_Hot_100_singles_of_2002\" title=\"Billboard Year-End Hot 100 singles of 2002\">2002</a></li>\n",
      "<li><a href=\"/wiki/Billboard_Year-End_Hot_100_singles_of_2003\" title=\"Billboard Year-End Hot 100 singles of 2003\">2003</a></li>\n",
      "<li><a href=\"/wiki/Billboard_Year-End_Hot_100_singles_of_2004\" title=\"Billboard Year-End Hot 100 singles of 2004\">2004</a></li>\n",
      "<li><a href=\"/wiki/Billboard_Year-End_Hot_100_singles_of_2005\" title=\"Billboard Year-End Hot 100 singles of 2005\">2005</a></li>\n",
      "<li><a href=\"/wiki/Billboard_Year-End_Hot_100_singles_of_2006\" title=\"Billboard Year-End Hot 100 singles of 2006\">2006</a></li>\n",
      "<li><a href=\"/wiki/Billboard_Year-End_Hot_100_singles_of_2007\" title=\"Billboard Year-End Hot 100 singles of 2007\">2007</a></li>\n",
      "<li><a href=\"/wiki/Billboard_Year-End_Hot_100_singles_of_2008\" title=\"Billboard Year-End Hot 100 singles of 2008\">2008</a></li>\n",
      "<li><a href=\"/wiki/Billboard_Year-End_Hot_100_singles_of_2009\" title=\"Billboard Year-End Hot 100 singles of 2009\">2009</a></li>\n",
      "</ul>\n",
      "</div>\n",
      "</td>\n",
      "</tr>\n",
      "<tr style=\"height:2px\">\n",
      "<td colspan=\"2\"/>\n",
      "</tr>\n",
      "<tr>\n",
      "<th scope=\"row\" class=\"navbox-group\">2010&#8211;present</th>\n",
      "<td class=\"navbox-list navbox-even hlist\" style=\"text-align:left;border-left-width:2px;border-left-style:solid;width:100%;padding:0px\">\n",
      "<div style=\"padding:0em 0.25em\">\n",
      "<ul>\n",
      "<li><a href=\"/wiki/Billboard_Year-End_Hot_100_singles_of_2010\" title=\"Billboard Year-End Hot 100 singles of 2010\">2010</a></li>\n",
      "<li><a href=\"/wiki/Billboard_Year-End_Hot_100_singles_of_2011\" title=\"Billboard Year-End Hot 100 singles of 2011\">2011</a></li>\n",
      "<li><a href=\"/wiki/Billboard_Year-End_Hot_100_singles_of_2012\" title=\"Billboard Year-End Hot 100 singles of 2012\">2012</a></li>\n",
      "<li><a href=\"/wiki/Billboard_Year-End_Hot_100_singles_of_2013\" title=\"Billboard Year-End Hot 100 singles of 2013\">2013</a></li>\n",
      "<li><a href=\"/wiki/Billboard_Year-End_Hot_100_singles_of_2014\" title=\"Billboard Year-End Hot 100 singles of 2014\">2014</a></li>\n",
      "</ul>\n",
      "</div>\n",
      "</td>\n",
      "</tr>\n",
      "</table>\n",
      "</td>\n",
      "</tr>\n",
      "</table>\n",
      "\n",
      "\n",
      "<!-- \n",
      "NewPP limit report\n",
      "Parsed by mw1175\n",
      "Cached time: 20150907140032\n",
      "Cache expiry: 2592000\n",
      "Dynamic content: false\n",
      "CPU time usage: 0.112 seconds\n",
      "Real time usage: 0.133 seconds\n",
      "Preprocessor visited node count: 522/1000000\n",
      "Preprocessor generated node count: 0/1500000\n",
      "Post&#8208;expand include size: 17969/2097152 bytes\n",
      "Template argument size: 0/2097152 bytes\n",
      "Highest expansion depth: 4/40\n",
      "Expensive parser function count: 0/500\n",
      "Lua time usage: 0.025/10.000 seconds\n",
      "Lua memory usage: 1.29 MB/50 MB\n",
      "Number of Wikibase entities loaded: 0-->\n",
      "\n",
      "<!-- \n",
      "Transclusion expansion time report (%,ms,calls,template)\n",
      "100.00%   72.459      1 - -total\n",
      " 66.92%   48.489      1 - Template:Reflist\n",
      " 57.69%   41.803      1 - Template:Cite_web\n",
      " 32.92%   23.850      1 - Template:Top_Hot_100_Hits\n",
      " 26.08%   18.894      1 - Template:Navbox\n",
      "-->\n",
      "\n",
      "<!-- Saved in parser cache with key enwiki:pcache:idhash:30302961-0!*!0!!*!*!* and timestamp 20150907140032 and revision id 625177658\n",
      " -->\n",
      "<noscript><img src=\"//en.wikipedia.org/wiki/Special:CentralAutoLogin/start?type=1x1\" alt=\"\" title=\"\" width=\"1\" height=\"1\" style=\"border: none; position: absolute;\"/></noscript></div>\t\t\t\t\t<div class=\"printfooter\">\n",
      "\t\t\t\t\t\tRetrieved from \"<a dir=\"ltr\" href=\"https://en.wikipedia.org/w/index.php?title=Billboard_Year-End_Hot_100_singles_of_1970&amp;oldid=625177658\">https://en.wikipedia.org/w/index.php?title=Billboard_Year-End_Hot_100_singles_of_1970&amp;oldid=625177658</a>\"\t\t\t\t\t</div>\n",
      "\t\t\t\t<div id=\"catlinks\" class=\"catlinks\"><div id=\"mw-normal-catlinks\" class=\"mw-normal-catlinks\"><a href=\"/wiki/Help:Category\" title=\"Help:Category\">Categories</a>: <ul><li><a href=\"/wiki/Category:1970_record_charts\" title=\"Category:1970 record charts\">1970 record charts</a></li><li><a href=\"/wiki/Category:Billboard_charts\" title=\"Category:Billboard charts\">Billboard charts</a></li></ul></div></div>\t\t\t\t<div class=\"visualClear\"/>\n",
      "\t\t\t\t\t\t\t</div>\n",
      "\t\t</div>\n",
      "\t\t<div id=\"mw-navigation\">\n",
      "\t\t\t<h2>Navigation menu</h2>\n",
      "\n",
      "\t\t\t<div id=\"mw-head\">\n",
      "\t\t\t\t\t\t\t\t\t<div id=\"p-personal\" role=\"navigation\" class=\"\" aria-labelledby=\"p-personal-label\">\n",
      "\t\t\t\t\t\t<h3 id=\"p-personal-label\">Personal tools</h3>\n",
      "\t\t\t\t\t\t<ul>\n",
      "\t\t\t\t\t\t\t<li id=\"pt-createaccount\"><a href=\"/w/index.php?title=Special:UserLogin&amp;returnto=Billboard+Year-End+Hot+100+singles+of+1970&amp;type=signup\" title=\"You are encouraged to create an account and log in; however, it is not mandatory\">Create account</a></li><li id=\"pt-login\"><a href=\"/w/index.php?title=Special:UserLogin&amp;returnto=Billboard+Year-End+Hot+100+singles+of+1970\" title=\"You're encouraged to log in; however, it's not mandatory. [o]\" accesskey=\"o\">Log in</a></li>\t\t\t\t\t\t</ul>\n",
      "\t\t\t\t\t</div>\n",
      "\t\t\t\t\t\t\t\t\t<div id=\"left-navigation\">\n",
      "\t\t\t\t\t\t\t\t\t\t<div id=\"p-namespaces\" role=\"navigation\" class=\"vectorTabs\" aria-labelledby=\"p-namespaces-label\">\n",
      "\t\t\t\t\t\t<h3 id=\"p-namespaces-label\">Namespaces</h3>\n",
      "\t\t\t\t\t\t<ul>\n",
      "\t\t\t\t\t\t\t\t\t\t\t\t\t\t\t<li id=\"ca-nstab-main\" class=\"selected\"><span><a href=\"/wiki/Billboard_Year-End_Hot_100_singles_of_1970\" title=\"View the content page [c]\" accesskey=\"c\">Article</a></span></li>\n",
      "\t\t\t\t\t\t\t\t\t\t\t\t\t\t\t<li id=\"ca-talk\"><span><a href=\"/wiki/Talk:Billboard_Year-End_Hot_100_singles_of_1970\" title=\"Discussion about the content page [t]\" accesskey=\"t\" rel=\"discussion\">Talk</a></span></li>\n",
      "\t\t\t\t\t\t\t\t\t\t\t\t\t</ul>\n",
      "\t\t\t\t\t</div>\n",
      "\t\t\t\t\t\t\t\t\t\t<div id=\"p-variants\" role=\"navigation\" class=\"vectorMenu emptyPortlet\" aria-labelledby=\"p-variants-label\">\n",
      "\t\t\t\t\t\t\t\t\t\t\t\t<h3 id=\"p-variants-label\">\n",
      "\t\t\t\t\t\t\t<span>Variants</span><a href=\"#\"/>\n",
      "\t\t\t\t\t\t</h3>\n",
      "\n",
      "\t\t\t\t\t\t<div class=\"menu\">\n",
      "\t\t\t\t\t\t\t<ul>\n",
      "\t\t\t\t\t\t\t\t\t\t\t\t\t\t\t</ul>\n",
      "\t\t\t\t\t\t</div>\n",
      "\t\t\t\t\t</div>\n",
      "\t\t\t\t\t\t\t\t\t</div>\n",
      "\t\t\t\t<div id=\"right-navigation\">\n",
      "\t\t\t\t\t\t\t\t\t\t<div id=\"p-views\" role=\"navigation\" class=\"vectorTabs\" aria-labelledby=\"p-views-label\">\n",
      "\t\t\t\t\t\t<h3 id=\"p-views-label\">Views</h3>\n",
      "\t\t\t\t\t\t<ul>\n",
      "\t\t\t\t\t\t\t\t\t\t\t\t\t\t\t<li id=\"ca-view\" class=\"selected\"><span><a href=\"/wiki/Billboard_Year-End_Hot_100_singles_of_1970\">Read</a></span></li>\n",
      "\t\t\t\t\t\t\t\t\t\t\t\t\t\t\t<li id=\"ca-edit\"><span><a href=\"/w/index.php?title=Billboard_Year-End_Hot_100_singles_of_1970&amp;action=edit\" title=\"Edit this page [e]\" accesskey=\"e\">Edit</a></span></li>\n",
      "\t\t\t\t\t\t\t\t\t\t\t\t\t\t\t<li id=\"ca-history\" class=\"collapsible\"><span><a href=\"/w/index.php?title=Billboard_Year-End_Hot_100_singles_of_1970&amp;action=history\" title=\"Past revisions of this page [h]\" accesskey=\"h\">View history</a></span></li>\n",
      "\t\t\t\t\t\t\t\t\t\t\t\t\t</ul>\n",
      "\t\t\t\t\t</div>\n",
      "\t\t\t\t\t\t\t\t\t\t<div id=\"p-cactions\" role=\"navigation\" class=\"vectorMenu emptyPortlet\" aria-labelledby=\"p-cactions-label\">\n",
      "\t\t\t\t\t\t<h3 id=\"p-cactions-label\"><span>More</span><a href=\"#\"/></h3>\n",
      "\n",
      "\t\t\t\t\t\t<div class=\"menu\">\n",
      "\t\t\t\t\t\t\t<ul>\n",
      "\t\t\t\t\t\t\t\t\t\t\t\t\t\t\t</ul>\n",
      "\t\t\t\t\t\t</div>\n",
      "\t\t\t\t\t</div>\n",
      "\t\t\t\t\t\t\t\t\t\t<div id=\"p-search\" role=\"search\">\n",
      "\t\t\t\t\t\t<h3>\n",
      "\t\t\t\t\t\t\t<label for=\"searchInput\">Search</label>\n",
      "\t\t\t\t\t\t</h3>\n",
      "\n",
      "\t\t\t\t\t\t<form action=\"/w/index.php\" id=\"searchform\">\n",
      "\t\t\t\t\t\t\t<div id=\"simpleSearch\">\n",
      "\t\t\t\t\t\t\t<input type=\"search\" name=\"search\" placeholder=\"Search\" title=\"Search Wikipedia [f]\" accesskey=\"f\" id=\"searchInput\"/><input type=\"hidden\" value=\"Special:Search\" name=\"title\"/><input type=\"submit\" name=\"fulltext\" value=\"Search\" title=\"Search Wikipedia for this text\" id=\"mw-searchButton\" class=\"searchButton mw-fallbackSearchButton\"/><input type=\"submit\" name=\"go\" value=\"Go\" title=\"Go to a page with this exact name if it exists\" id=\"searchButton\" class=\"searchButton\"/>\t\t\t\t\t\t\t</div>\n",
      "\t\t\t\t\t\t</form>\n",
      "\t\t\t\t\t</div>\n",
      "\t\t\t\t\t\t\t\t\t</div>\n",
      "\t\t\t</div>\n",
      "\t\t\t<div id=\"mw-panel\">\n",
      "\t\t\t\t<div id=\"p-logo\" role=\"banner\"><a class=\"mw-wiki-logo\" href=\"/wiki/Main_Page\" title=\"Visit the main page\"/></div>\n",
      "\t\t\t\t\t\t<div class=\"portal\" role=\"navigation\" id=\"p-navigation\" aria-labelledby=\"p-navigation-label\">\n",
      "\t\t\t<h3 id=\"p-navigation-label\">Navigation</h3>\n",
      "\n",
      "\t\t\t<div class=\"body\">\n",
      "\t\t\t\t\t\t\t\t\t<ul>\n",
      "\t\t\t\t\t\t<li id=\"n-mainpage-description\"><a href=\"/wiki/Main_Page\" title=\"Visit the main page [z]\" accesskey=\"z\">Main page</a></li><li id=\"n-contents\"><a href=\"/wiki/Portal:Contents\" title=\"Guides to browsing Wikipedia\">Contents</a></li><li id=\"n-featuredcontent\"><a href=\"/wiki/Portal:Featured_content\" title=\"Featured content &#8211; the best of Wikipedia\">Featured content</a></li><li id=\"n-currentevents\"><a href=\"/wiki/Portal:Current_events\" title=\"Find background information on current events\">Current events</a></li><li id=\"n-randompage\"><a href=\"/wiki/Special:Random\" title=\"Load a random article [x]\" accesskey=\"x\">Random article</a></li><li id=\"n-sitesupport\"><a href=\"https://donate.wikimedia.org/wiki/Special:FundraiserRedirector?utm_source=donate&amp;utm_medium=sidebar&amp;utm_campaign=C13_en.wikipedia.org&amp;uselang=en\" title=\"Support us\">Donate to Wikipedia</a></li><li id=\"n-shoplink\"><a href=\"//shop.wikimedia.org\" title=\"Visit the Wikipedia store\">Wikipedia store</a></li>\t\t\t\t\t</ul>\n",
      "\t\t\t\t\t\t\t</div>\n",
      "\t\t</div>\n",
      "\t\t\t<div class=\"portal\" role=\"navigation\" id=\"p-interaction\" aria-labelledby=\"p-interaction-label\">\n",
      "\t\t\t<h3 id=\"p-interaction-label\">Interaction</h3>\n",
      "\n",
      "\t\t\t<div class=\"body\">\n",
      "\t\t\t\t\t\t\t\t\t<ul>\n",
      "\t\t\t\t\t\t<li id=\"n-help\"><a href=\"/wiki/Help:Contents\" title=\"Guidance on how to use and edit Wikipedia\">Help</a></li><li id=\"n-aboutsite\"><a href=\"/wiki/Wikipedia:About\" title=\"Find out about Wikipedia\">About Wikipedia</a></li><li id=\"n-portal\"><a href=\"/wiki/Wikipedia:Community_portal\" title=\"About the project, what you can do, where to find things\">Community portal</a></li><li id=\"n-recentchanges\"><a href=\"/wiki/Special:RecentChanges\" title=\"A list of recent changes in the wiki [r]\" accesskey=\"r\">Recent changes</a></li><li id=\"n-contactpage\"><a href=\"//en.wikipedia.org/wiki/Wikipedia:Contact_us\">Contact page</a></li>\t\t\t\t\t</ul>\n",
      "\t\t\t\t\t\t\t</div>\n",
      "\t\t</div>\n",
      "\t\t\t<div class=\"portal\" role=\"navigation\" id=\"p-tb\" aria-labelledby=\"p-tb-label\">\n",
      "\t\t\t<h3 id=\"p-tb-label\">Tools</h3>\n",
      "\n",
      "\t\t\t<div class=\"body\">\n",
      "\t\t\t\t\t\t\t\t\t<ul>\n",
      "\t\t\t\t\t\t<li id=\"t-whatlinkshere\"><a href=\"/wiki/Special:WhatLinksHere/Billboard_Year-End_Hot_100_singles_of_1970\" title=\"List of all English Wikipedia pages containing links to this page [j]\" accesskey=\"j\">What links here</a></li><li id=\"t-recentchangeslinked\"><a href=\"/wiki/Special:RecentChangesLinked/Billboard_Year-End_Hot_100_singles_of_1970\" title=\"Recent changes in pages linked from this page [k]\" accesskey=\"k\">Related changes</a></li><li id=\"t-upload\"><a href=\"/wiki/Wikipedia:File_Upload_Wizard\" title=\"Upload files [u]\" accesskey=\"u\">Upload file</a></li><li id=\"t-specialpages\"><a href=\"/wiki/Special:SpecialPages\" title=\"A list of all special pages [q]\" accesskey=\"q\">Special pages</a></li><li id=\"t-permalink\"><a href=\"/w/index.php?title=Billboard_Year-End_Hot_100_singles_of_1970&amp;oldid=625177658\" title=\"Permanent link to this revision of the page\">Permanent link</a></li><li id=\"t-info\"><a href=\"/w/index.php?title=Billboard_Year-End_Hot_100_singles_of_1970&amp;action=info\" title=\"More information about this page\">Page information</a></li><li id=\"t-wikibase\"><a href=\"//www.wikidata.org/wiki/Q4270340\" title=\"Link to connected data repository item [g]\" accesskey=\"g\">Wikidata item</a></li><li id=\"t-cite\"><a href=\"/w/index.php?title=Special:CiteThisPage&amp;page=Billboard_Year-End_Hot_100_singles_of_1970&amp;id=625177658\" title=\"Information on how to cite this page\">Cite this page</a></li>\t\t\t\t\t</ul>\n",
      "\t\t\t\t\t\t\t</div>\n",
      "\t\t</div>\n",
      "\t\t\t<div class=\"portal\" role=\"navigation\" id=\"p-coll-print_export\" aria-labelledby=\"p-coll-print_export-label\">\n",
      "\t\t\t<h3 id=\"p-coll-print_export-label\">Print/export</h3>\n",
      "\n",
      "\t\t\t<div class=\"body\">\n",
      "\t\t\t\t\t\t\t\t\t<ul>\n",
      "\t\t\t\t\t\t<li id=\"coll-create_a_book\"><a href=\"/w/index.php?title=Special:Book&amp;bookcmd=book_creator&amp;referer=Billboard+Year-End+Hot+100+singles+of+1970\">Create a book</a></li><li id=\"coll-download-as-rdf2latex\"><a href=\"/w/index.php?title=Special:Book&amp;bookcmd=render_article&amp;arttitle=Billboard+Year-End+Hot+100+singles+of+1970&amp;oldid=625177658&amp;writer=rdf2latex\">Download as PDF</a></li><li id=\"t-print\"><a href=\"/w/index.php?title=Billboard_Year-End_Hot_100_singles_of_1970&amp;printable=yes\" title=\"Printable version of this page [p]\" accesskey=\"p\">Printable version</a></li>\t\t\t\t\t</ul>\n",
      "\t\t\t\t\t\t\t</div>\n",
      "\t\t</div>\n",
      "\t\t\t<div class=\"portal\" role=\"navigation\" id=\"p-lang\" aria-labelledby=\"p-lang-label\">\n",
      "\t\t\t<h3 id=\"p-lang-label\">Languages</h3>\n",
      "\n",
      "\t\t\t<div class=\"body\">\n",
      "\t\t\t\t\t\t\t\t\t<ul>\n",
      "\t\t\t\t\t\t<li class=\"interlanguage-link interwiki-ru\"><a href=\"//ru.wikipedia.org/wiki/%D0%9B%D1%83%D1%87%D1%88%D0%B8%D0%B5_%D1%81%D0%B8%D0%BD%D0%B3%D0%BB%D1%8B_%D0%A1%D0%A8%D0%90_1970_%D0%B3%D0%BE%D0%B4%D0%B0_%D0%BF%D0%BE_%D0%B2%D0%B5%D1%80%D1%81%D0%B8%D0%B8_Billboard\" title=\"&#1051;&#1091;&#1095;&#1096;&#1080;&#1077; &#1089;&#1080;&#1085;&#1075;&#1083;&#1099; &#1057;&#1064;&#1040; 1970 &#1075;&#1086;&#1076;&#1072; &#1087;&#1086; &#1074;&#1077;&#1088;&#1089;&#1080;&#1080; Billboard &#8211; Russian\" lang=\"ru\" hreflang=\"ru\">&#1056;&#1091;&#1089;&#1089;&#1082;&#1080;&#1081;</a></li><li class=\"uls-p-lang-dummy\"><a href=\"#\"/></li>\t\t\t\t\t</ul>\n",
      "\t\t\t\t<div class=\"after-portlet after-portlet-lang\"><span class=\"wb-langlinks-edit wb-langlinks-link\"><a href=\"//www.wikidata.org/wiki/Q4270340#sitelinks-wikipedia\" title=\"Edit interlanguage links\" class=\"wbc-editpage\">Edit links</a></span></div>\t\t\t</div>\n",
      "\t\t</div>\n",
      "\t\t\t\t</div>\n",
      "\t\t</div>\n",
      "\t\t<div id=\"footer\" role=\"contentinfo\">\n",
      "\t\t\t\t\t\t\t<ul id=\"footer-info\">\n",
      "\t\t\t\t\t\t\t\t\t\t\t<li id=\"footer-info-lastmod\"> This page was last modified on 12 September 2014, at 01:47.</li>\n",
      "\t\t\t\t\t\t\t\t\t\t\t<li id=\"footer-info-copyright\">Text is available under the <a rel=\"license\" href=\"//en.wikipedia.org/wiki/Wikipedia:Text_of_Creative_Commons_Attribution-ShareAlike_3.0_Unported_License\">Creative Commons Attribution-ShareAlike License</a><a rel=\"license\" href=\"//creativecommons.org/licenses/by-sa/3.0/\" style=\"display:none;\"/>;\n",
      "additional terms may apply.  By using this site, you agree to the <a href=\"//wikimediafoundation.org/wiki/Terms_of_Use\">Terms of Use</a> and <a href=\"//wikimediafoundation.org/wiki/Privacy_policy\">Privacy Policy</a>. Wikipedia&#174; is a registered trademark of the <a href=\"//www.wikimediafoundation.org/\">Wikimedia Foundation, Inc.</a>, a non-profit organization.</li>\n",
      "\t\t\t\t\t\t\t\t\t</ul>\n",
      "\t\t\t\t\t\t\t<ul id=\"footer-places\">\n",
      "\t\t\t\t\t\t\t\t\t\t\t<li id=\"footer-places-privacy\"><a href=\"//wikimediafoundation.org/wiki/Privacy_policy\" title=\"wikimedia:Privacy policy\">Privacy policy</a></li>\n",
      "\t\t\t\t\t\t\t\t\t\t\t<li id=\"footer-places-about\"><a href=\"/wiki/Wikipedia:About\" title=\"Wikipedia:About\">About Wikipedia</a></li>\n",
      "\t\t\t\t\t\t\t\t\t\t\t<li id=\"footer-places-disclaimer\"><a href=\"/wiki/Wikipedia:General_disclaimer\" title=\"Wikipedia:General disclaimer\">Disclaimers</a></li>\n",
      "\t\t\t\t\t\t\t\t\t\t\t<li id=\"footer-places-contact\"><a href=\"//en.wikipedia.org/wiki/Wikipedia:Contact_us\">Contact Wikipedia</a></li>\n",
      "\t\t\t\t\t\t\t\t\t\t\t<li id=\"footer-places-developers\"><a href=\"https://www.mediawiki.org/wiki/Special:MyLanguage/How_to_contribute\">Developers</a></li>\n",
      "\t\t\t\t\t\t\t\t\t\t\t<li id=\"footer-places-mobileview\"><a href=\"//en.m.wikipedia.org/w/index.php?title=Billboard_Year-End_Hot_100_singles_of_1970&amp;mobileaction=toggle_view_mobile\" class=\"noprint stopMobileRedirectToggle\">Mobile view</a></li>\n",
      "\t\t\t\t\t\t\t\t\t</ul>\n",
      "\t\t\t\t\t\t\t\t\t\t<ul id=\"footer-icons\" class=\"noprint\">\n",
      "\t\t\t\t\t\t\t\t\t\t\t<li id=\"footer-copyrightico\">\n",
      "\t\t\t\t\t\t\t<a href=\"//wikimediafoundation.org/\"><img src=\"/static/images/wikimedia-button.png\" srcset=\"/static/images/wikimedia-button-1.5x.png 1.5x, /static/images/wikimedia-button-2x.png 2x\" width=\"88\" height=\"31\" alt=\"Wikimedia Foundation\"/></a>\t\t\t\t\t\t</li>\n",
      "\t\t\t\t\t\t\t\t\t\t\t<li id=\"footer-poweredbyico\">\n",
      "\t\t\t\t\t\t\t<a href=\"//www.mediawiki.org/\"><img src=\"https://en.wikipedia.org/static/1.26wmf22/resources/assets/poweredby_mediawiki_88x31.png\" alt=\"Powered by MediaWiki\" srcset=\"https://en.wikipedia.org/static/1.26wmf22/resources/assets/poweredby_mediawiki_132x47.png 1.5x, https://en.wikipedia.org/static/1.26wmf22/resources/assets/poweredby_mediawiki_176x62.png 2x\" width=\"88\" height=\"31\"/></a>\t\t\t\t\t\t</li>\n",
      "\t\t\t\t\t\t\t\t\t</ul>\n",
      "\t\t\t\t\t\t<div style=\"clear:both\"/>\n",
      "\t\t</div>\n",
      "\t\t<script>window.RLQ = window.RLQ || []; window.RLQ.push( function () {\n",
      "mw.loader.state({\"ext.globalCssJs.site\":\"ready\",\"ext.globalCssJs.user\":\"ready\",\"user\":\"ready\",\"user.groups\":\"ready\"});\n",
      "} );</script>\n",
      "<link rel=\"stylesheet\" href=\"https://en.wikipedia.org/w/load.php?debug=false&amp;lang=en&amp;modules=ext.cite.styles%7Cext.gadget.DRN-wizard%2CReferenceTooltips%2Ccharinsert%2Cfeatured-articles-links%2CrefToolbar%2Cswitcher%2Cteahouse%7Cext.wikimediaBadges&amp;only=styles&amp;skin=vector\"/>\n",
      "<script>window.RLQ = window.RLQ || []; window.RLQ.push( function () {\n",
      "mw.loader.load([\"ext.cite.a11y\",\"mediawiki.action.view.postEdit\",\"site\",\"mediawiki.user\",\"mediawiki.hidpi\",\"mediawiki.page.ready\",\"mediawiki.searchSuggest\",\"ext.cirrusSearch.loggingSchema\",\"ext.eventLogging.subscriber\",\"ext.wikimediaEvents\",\"ext.wikimediaEvents.statsd\",\"ext.wikimediaEvents.geoFeatures\",\"ext.navigationTiming\",\"ext.gadget.teahouse\",\"ext.gadget.ReferenceTooltips\",\"ext.gadget.DRN-wizard\",\"ext.gadget.charinsert\",\"ext.gadget.refToolbar\",\"ext.gadget.switcher\",\"ext.gadget.featured-articles-links\",\"ext.visualEditor.targetLoader\",\"schema.UniversalLanguageSelector\",\"ext.uls.eventlogger\",\"ext.uls.interlanguage\"]);\n",
      "} );</script><script>window.RLQ = window.RLQ || []; window.RLQ.push( function () {\n",
      "mw.config.set({\"wgBackendResponseTime\":94,\"wgHostname\":\"mw1034\"});\n",
      "} );</script>\n",
      "\t</body>\n",
      "</html>\n"
     ]
    }
   ],
   "source": [
    "d_=pq(t1970.text)\n",
    "print(d_)"
   ]
  },
  {
   "cell_type": "markdown",
   "metadata": {},
   "source": [
    "That text is then parsed by PyQuery (which was aliased as pq) and the result is bound to the _d\\__ variable. The naming choice here is to mimic jQuery's \\$ variable. Python is very flexible with identifier names for variables, functions, etc. They can't start with numbers, and underscores at the start and end of the name are somewhat special, but otherwise you have a lot of freedom naming them. Python is case sensitive, so my_var is different from My_var, which is different from MY_VAR, etc. Also, don't use Python [keywords](https://docs.python.org/2/reference/lexical_analysis.html#keywords) or built-in function names for your variables and functions. Weird things can happen if you do...\n",
    "\n",
    "The construct below generates a list like structure of _tr_ elements. The __[1:]__ part at the end means that we are only interested elements from the second position to the end of the list (in Python, indexes start at zero); that is because the first _tr_ element actually holds the table header."
   ]
  },
  {
   "cell_type": "code",
   "execution_count": 10,
   "metadata": {
    "collapsed": true,
    "scrolled": true
   },
   "outputs": [],
   "source": [
    "d_rows=pq(d_('.wikitable tr')[1:])"
   ]
  },
  {
   "cell_type": "markdown",
   "metadata": {},
   "source": [
    "Next we'll be calling the _text_ method of the PyQuery object, which will return the text between the opening and closing _tr_ tags. Note that as with the _requests_ response, this object contains a lot more information about the elements than just the text, which is why we need to explicitly tell it we only want the latter.\n",
    "\n",
    "You might have noticed that when we wanted the text content of the HTTP request we accessed its _text_ property, but this time we called the _text_ method (the parenthesis after the property name show that we're making a method call). Libraries are created by different people and are not always consistent. Please refer to the package documentation when in doubt.\n",
    "\n",
    "We will now parse the elements inside the _tr_ tags to get the data we need. I'll switch to inline comments to make it easier to follow the logic."
   ]
  },
  {
   "cell_type": "code",
   "execution_count": 11,
   "metadata": {
    "collapsed": false,
    "scrolled": false
   },
   "outputs": [],
   "source": [
    "# Start by creating an empty list.\n",
    "songs=[]\n",
    "\n",
    "# Iterate over the elements of d_rows. In this case \"r\" will\n",
    "# receive each value from \"d_rows\" in turn.\n",
    "for r in d_rows:\n",
    "    # Extract the \"td\" element from the current value of r.\n",
    "    d_td=pq(r)('td')\n",
    "    # Get the text from the first (index zero) \"td\" element, and convert\n",
    "    # it to an integer. If you have the page open, this is the value on\n",
    "    # the first column of the row (i.e. the song position on the chart).\n",
    "    ranking = int(pq(d_td[0]).text())\n",
    "    # The second column holds an \"a\" element, so we need to extract that\n",
    "    # before getting the text data. This is the song title.\n",
    "    title=pq(d_td[1])('a').text()\n",
    "    # We then get the singer name, which is the text of the third column.\n",
    "    band_singer=pq(d_td[2])('a').text()\n",
    "    # Along with the singer name, we also want to get the URL to her Wikipedia page,\n",
    "    # which is held on the \"href\" attribute of the a element.\n",
    "    # Notice that we are still looking the same element we used to get the name (index 2).\n",
    "    band_singer_url=pq(d_td[2])('a').attr.href\n",
    "    # Next we'll place all this information on a dictionary (also called\n",
    "    # a map, an associative array, a hash, etc.). We will use dictionaries\n",
    "    # a lot, so it's worth to do some quick research on this versatil Python\n",
    "    # structure.\n",
    "    songdict=dict(ranking=ranking, title=title, band_singer=band_singer, url=band_singer_url)\n",
    "    # Here we're just printing the dicitonary that was created during this iteration.\n",
    "    # Lastly, we add the dictionary with the row information to the list we\n",
    "    # created in the begining of the cell.\n",
    "    # Lists will also be used extensively during the course, \n",
    "    # so you might as well do some reserach on it too.\n",
    "    songs.append(songdict)"
   ]
  },
  {
   "cell_type": "markdown",
   "metadata": {},
   "source": [
    "You should now have a nice list of dictionaries with all the information you needed from the Wikipedia page."
   ]
  },
  {
   "cell_type": "code",
   "execution_count": 12,
   "metadata": {
    "collapsed": false,
    "scrolled": true
   },
   "outputs": [
    {
     "data": {
      "text/plain": [
       "[{'band_singer': 'The Guess Who',\n",
       "  'ranking': 3,\n",
       "  'title': 'American Woman',\n",
       "  'url': '/wiki/The_Guess_Who'},\n",
       " {'band_singer': 'B.J. Thomas',\n",
       "  'ranking': 4,\n",
       "  'title': \"Raindrops Keep Fallin' on My Head\",\n",
       "  'url': '/wiki/B.J._Thomas'}]"
      ]
     },
     "execution_count": 12,
     "metadata": {},
     "output_type": "execute_result"
    }
   ],
   "source": [
    "# By the way, indexes are open on the upper bound.\n",
    "# So songs[2:4] will give us the third and fourth elements, but not the fifth.\n",
    "songs[2:4]"
   ]
  },
  {
   "cell_type": "markdown",
   "metadata": {},
   "source": [
    "---\n",
    "\n",
    "**_Read this if you would like to use Beautiful Soup_**\n",
    "\n",
    "We will now show how to accomplish the same thing with BeautifulSoup. We will also take the opportunity to showcase a programming style called Functional Programming. This style is very useful to data manipulation, and it involves encapsulating your code into small, well contained functions which call each other. My way of working is to usually write my code first, after which I **refactor** pieces of code into functions which I can then reuse in the future. Functional programming is very useful and great to know, but can get some time to get used to. It is absolutely not a requirement for this class, but we would like you to know about it, and even if you don't write in this style yourself, to be able to understand your team mates code. \n",
    "\n",
    "If you find the following constructs confusing, feel free to ignore them for now. It should be noted that Python is not a functional language, but it does have some attributes that allow semi-functional programs to be created.\n",
    "\n",
    "If you want to read more about the `BeautifulSoup` functions we use, please have a look at the [documentation](http://www.crummy.com/software/BeautifulSoup/bs4/doc/).\n",
    "\n",
    "The construct in the line `rows = soup.find...` below generates a list like structure of _tr_ elements. The __[1:]__ part at the end means that we are only interested elements from the second position to the end of the list (in Python, indexes start at zero); that is because the first _tr_ element actually holds the table header."
   ]
  },
  {
   "cell_type": "code",
   "execution_count": 2,
   "metadata": {
    "collapsed": false,
    "scrolled": true
   },
   "outputs": [],
   "source": [
    "# We'll just reuse the request object that was previously created to create a BeautifulSoup element.\n",
    "# The latter will be the equivalent of the \"d_\" object we created before.\n",
    "soup = BeautifulSoup(t1970.text, \"html.parser\")\n",
    "\n",
    "# In this line we are looking for a single \"table\" element with a class of wikitable;\n",
    "# and then looking for all the \"tr\" elements on that table (notice the find vs find_all calls).\n",
    "# Even though the syntax is very different from PyQuery, the end result is similar.\n",
    "rows = soup.find(\"table\", attrs={\"class\": \"wikitable\"}).find_all(\"tr\")[1:]\n",
    "\n",
    "# We then define an anonymous (lambda) function whose job it is to act on\n",
    "#each column's element in each row in the table. Lambda functions are very\n",
    "# handy for functional programming, and the one below should be easy to follow.\n",
    "# The function processes each field of the parameter r accordingly. It starts by\n",
    "# transforming the first column into an integer; it then proceeds to getting the text\n",
    "# from the second and third elements, and finally it gets the HTTP link of the third\n",
    "# element, and returns all that in a list (notice the surrounding brackets).\n",
    "# The function is then bound to the cleaner variable so it can be referenced later.\n",
    "cleaner = lambda r: [int(r[0].get_text()), r[1].get_text(), r[2].get_text(), r[2].find(\"a\").get(\"href\")]\n",
    "\n",
    "#lambda functions are also excellent for defining one line math functions.\n",
    "#e.g. radius = lambda x,y: np.sqrt(x*x + y*y)\n",
    "\n",
    "# Next we'll create a list of names that will be used as dictionary keys.\n",
    "fields = [\"ranking\", \"title\", \"band_singer\", \"url\"]\n",
    "\n",
    "# We now use the lambda function to process each \"td\" element on a given row.\n",
    "# the [... for ... in ...] construct is a list comprehension. They look weird at\n",
    "# first but are amazingly useful and worth spending some time to learn.\n",
    "# At a high level, thing of it as a one line \"for loop\" that aggregates the result\n",
    "# of each iteration into a list. So once this line finished running, we will have a list\n",
    "# of something.\n",
    "#\n",
    "# The dict function is another way to create a dictionary. One neat thing about it\n",
    "# is that it accepts a list of key/value pairs that will be used to create said dictionary.\n",
    "#\n",
    "# But where are these key/value pairs coming from in here? From the zip function!\n",
    "# The zip function will take multiple iterables (things that can be treated as a sequence)\n",
    "# and combine them. An example might make it clearer:\n",
    "#\n",
    "# zip([\"a\", \"b\", \"c\"], [1, 2, 3]) evaluates to [(\"a\", 1), (\"b\", 2), (\"c\", 3)]. It's like a zipper!!!\n",
    "#\n",
    "# Anyway, never mind the parenthesis around the pairs; they just show that the elements\n",
    "# are grouped into tuples, which you can think of as lists that are immutable (they can't grow or shrink).\n",
    "#\n",
    "# So to recap: the zip function creates a list of pairs; which the dict function then uses\n",
    "# to create a dictionary, using the first element of the pair as the key and the second as\n",
    "# the value; and finally, the list comprehension iterates over each row element, and puts\n",
    "# the result of each iteration on a list, which is then bound to the songs variable.\n",
    "songs = [dict(zip(fields, cleaner(row.find_all(\"td\")))) for row in rows]"
   ]
  },
  {
   "cell_type": "markdown",
   "metadata": {},
   "source": [
    "The cell above has a lot of comments, but only 5 lines of Python code. Functional programs have a tendency to be more concise and, once you get the gist of it, easier to understand."
   ]
  },
  {
   "cell_type": "code",
   "execution_count": 13,
   "metadata": {
    "collapsed": false,
    "scrolled": true
   },
   "outputs": [],
   "source": [
    "songs[2:4]"
   ]
  },
  {
   "cell_type": "markdown",
   "metadata": {},
   "source": [
    "In the end, we have a list with the same contents as the one created by the PyQuery version. On the next section you will have to parse the tables for multiple years. Pick one of the approaches presented above and adapt it to solve that problem. Or come up with your own solution!"
   ]
  },
  {
   "cell_type": "markdown",
   "metadata": {},
   "source": [
    "#### 1.1 Generalize the previous: Scrape wikipedia from 1992 to 2014"
   ]
  },
  {
   "cell_type": "markdown",
   "metadata": {},
   "source": [
    "By visiting the urls similar to the ones for 1970, we can obtain the billboard top 100 for the years 1992 to 2014. Download these using `requests` and store the text from those requests in a dictionary called `yearstext`. This dictionary ought to have as its keys the years (as integers from 1992 to 2014), and as values corresponding to these keys the text of the page being fetched.\n",
    "\n",
    "You ought to sleep a second at the very least in-between fetching each web page: you do not want Wikipedia to think you are a marauding bot attempting to mount a denial-of-service attack."
   ]
  },
  {
   "cell_type": "markdown",
   "metadata": {},
   "source": [
    "*Here are some notes for how you may do this*:\n",
    "\n",
    "You can start by using [`range`](https://docs.python.org/2/library/functions.html#range) to create a list of numbers from 1992 to 2014 (in its simplest form the `range` function returns a list of numbers from 0 to the argument given minus one). On a side note, if you need to generate a huge list of numbers (over thousands of numbers), use the _xrange_ function instead.\n",
    "\n",
    "You can then use [string interpolation](https://docs.python.org/2/library/stdtypes.html#string-formatting) to request the page for each year from 1992 to 2014. These pages are added to a dictionary with the year as the key and the page text as the value.\n",
    "\n",
    "The `time.sleep` function can be used to wait one second between requests, otherwise Wikipedia might get mad at us.\n",
    "\n",
    "At the end of the cell below, the dictionary `yearstext` **must** be defined."
   ]
  },
  {
   "cell_type": "code",
   "execution_count": 14,
   "metadata": {
    "collapsed": false,
    "scrolled": false
   },
   "outputs": [],
   "source": [
    "#your code here\n"
   ]
  },
  {
   "cell_type": "markdown",
   "metadata": {},
   "source": [
    "#### 1.2 Clean data and save a json file of information from the scraped files"
   ]
  },
  {
   "cell_type": "markdown",
   "metadata": {},
   "source": [
    "Remember the code you wrote to get data from 1970 which produces a list of dictionaries, one corresponding to each single? Write a function `parse_year(year, yeartextdict)` which takes the year, prints it out, gets the text for the year from the just created year text dictionary, and return a list of dictionaries for that year, with one dictionary for each single.\n",
    "\n",
    "The dictionaries **must** be of this form:\n",
    "\n",
    "```\n",
    "{'band_singer': ['Brandy', 'Monica'],\n",
    "  'ranking': 2,\n",
    "  'song': ['The Boy Is Mine'],\n",
    "  'songurl': ['/wiki/The_Boy_Is_Mine_(song)'],\n",
    "  'titletext': '\" The Boy Is Mine \"',\n",
    "  'url': ['/wiki/Brandy_Norwood', '/wiki/Monica_(entertainer)']}\n",
    "```"
   ]
  },
  {
   "cell_type": "markdown",
   "metadata": {},
   "source": [
    "Notice that some singles might have multiple songs:\n",
    "\n",
    "```\n",
    "{'band_singer': ['Jewel'],\n",
    "  'ranking': 2,\n",
    "  'song': ['Foolish Games', 'You Were Meant for Me'],\n",
    "  'songurl': ['/wiki/Foolish_Games',\n",
    "   '/wiki/You_Were_Meant_for_Me_(Jewel_song)'],\n",
    "  'titletext': '\" Foolish Games \" / \" You Were Meant for Me \"',\n",
    "  'url': ['/wiki/Jewel_(singer)']}\n",
    "```"
   ]
  },
  {
   "cell_type": "markdown",
   "metadata": {},
   "source": [
    "And some don't have a song URL:\n",
    "\n",
    "```\n",
    "{'band_singer': [u'Nu Flavor'],\n",
    "  'ranking': 91,\n",
    "  'song': [u'Heaven'],\n",
    "  'songurl': [None],\n",
    "  'titletext': u'\"Heaven\"',\n",
    "  'url': [u'/wiki/Nu_Flavor']}\n",
    "```"
   ]
  },
  {
   "cell_type": "markdown",
   "metadata": {},
   "source": [
    "There are some additional issues this function must handle:\n",
    "\n",
    "1. There can be more than one one `band_singer` as can be seen above (sometimes with a comma, sometimes with \"featuring\" in between). The best way to parse these is to look for the urls.\n",
    "2. There can be 2 songs in a single, because of the way the industry works: there are 2 sided singles. See https://en.wikipedia.org/wiki/Billboard_Year-End_Hot_100_singles_of_1997 for example. You can find other examples in 1998 and 1999.\n",
    "3. The `titletext` is the contents of the table cell, and retains the quotes that wikipedia puts on the single.\n",
    "4. If no song anchor is found (see the 24th song in the above url), assume there is one song in the single, set `songurl` to [`None`] and the song name to the contents of the table cell with the quotes stripped (ie `song` is a one-element list with this the `titletext` stripped of its quotes)."
   ]
  },
  {
   "cell_type": "code",
   "execution_count": 1,
   "metadata": {
    "collapsed": false,
    "scrolled": false
   },
   "outputs": [],
   "source": [
    "\"\"\"\n",
    "Function\n",
    "--------\n",
    "parse_year\n",
    "\n",
    "Inputs\n",
    "------\n",
    "year: the year you want the singles for\n",
    "ytextdixt: a dictionary with keys as integer years and values the downloaded web pages \n",
    "    from wikipedia for that year.\n",
    "   \n",
    "Returns\n",
    "-------\n",
    "\n",
    "a list of dictionaries, each of which corresponds to a single and has the\n",
    "following data:\n",
    "\n",
    "Eg:\n",
    "\n",
    "{'band_singer': ['Brandy', 'Monica'],\n",
    "  'ranking': 2,\n",
    "  'song': ['The Boy Is Mine'],\n",
    "  'songurl': ['/wiki/The_Boy_Is_Mine_(song)'],\n",
    "  'titletext': '\" The Boy Is Mine \"',\n",
    "  'url': ['/wiki/Brandy_Norwood', '/wiki/Monica_(entertainer)']}\n",
    "  \n",
    "A dictionary with the following data:\n",
    "    band_singer: a list of bands/singers who made this single\n",
    "    song: a list of the titles of songs on this single\n",
    "    songurl: a list of the same size as song which has urls for the songs on the single \n",
    "        (see point 3 above)\n",
    "    ranking: ranking of the single\n",
    "    titletext: the contents of the table cell\n",
    "    band_singer: a list of bands or singers on this single\n",
    "    url: a list of wikipedia singer/band urls on this single: only put in the part \n",
    "        of the url from /wiki onwards\n",
    "    \n",
    "\n",
    "Notes\n",
    "-----\n",
    "See description and example above.\n",
    "\"\"\"\n",
    "#your code here\n"
   ]
  },
  {
   "cell_type": "markdown",
   "metadata": {},
   "source": [
    "As a test, try the following:"
   ]
  },
  {
   "cell_type": "code",
   "execution_count": 13,
   "metadata": {
    "collapsed": false,
    "scrolled": false
   },
   "outputs": [],
   "source": [
    "parse_year(1997, yearstext)[:5]"
   ]
  },
  {
   "cell_type": "markdown",
   "metadata": {},
   "source": [
    "This should give the following. Notice that the year 1997 exercises the edge cases we talked about earlier."
   ]
  },
  {
   "cell_type": "raw",
   "metadata": {},
   "source": [
    "[{'band_singer': ['Elton John'],\n",
    "  'ranking': 1,\n",
    "  'song': ['Something About the Way You Look Tonight',\n",
    "   'Candle in the Wind 1997'],\n",
    "  'songurl': ['/wiki/Something_About_the_Way_You_Look_Tonight',\n",
    "   '/wiki/Candle_in_the_Wind_1997'],\n",
    "  'titletext': '\" Something About the Way You Look Tonight \" / \" Candle in the Wind 1997 \"',\n",
    "  'url': ['/wiki/Elton_John']},\n",
    " {'band_singer': ['Jewel'],\n",
    "  'ranking': 2,\n",
    "  'song': ['Foolish Games', 'You Were Meant for Me'],\n",
    "  'songurl': ['/wiki/Foolish_Games',\n",
    "   '/wiki/You_Were_Meant_for_Me_(Jewel_song)'],\n",
    "  'titletext': '\" Foolish Games \" / \" You Were Meant for Me \"',\n",
    "  'url': ['/wiki/Jewel_(singer)']},\n",
    " {'band_singer': ['Puff Daddy', 'Faith Evans', '112'],\n",
    "  'ranking': 3,\n",
    "  'song': [\"I'll Be Missing You\"],\n",
    "  'songurl': ['/wiki/I%27ll_Be_Missing_You'],\n",
    "  'titletext': '\" I\\'ll Be Missing You \"',\n",
    "  'url': ['/wiki/Sean_Combs', '/wiki/Faith_Evans', '/wiki/112_(band)']},\n",
    " {'band_singer': ['Toni Braxton'],\n",
    "  'ranking': 4,\n",
    "  'song': ['Un-Break My Heart'],\n",
    "  'songurl': ['/wiki/Un-Break_My_Heart'],\n",
    "  'titletext': '\" Un-Break My Heart \"',\n",
    "  'url': ['/wiki/Toni_Braxton']},\n",
    " {'band_singer': ['Puff Daddy', 'Mase'],\n",
    "  'ranking': 5,\n",
    "  'song': [\"Can't Nobody Hold Me Down\"],\n",
    "  'songurl': ['/wiki/Can%27t_Nobody_Hold_Me_Down'],\n",
    "  'titletext': '\" Can\\'t Nobody Hold Me Down \"',\n",
    "  'url': ['/wiki/Sean_Combs', '/wiki/Mase']}]"
   ]
  },
  {
   "cell_type": "markdown",
   "metadata": {},
   "source": [
    "Then, let us store the information for each year in a dictionary `yearinfo` keyed by year."
   ]
  },
  {
   "cell_type": "code",
   "execution_count": 14,
   "metadata": {
    "collapsed": false,
    "scrolled": false
   },
   "outputs": [],
   "source": [
    "yearinfo = {y:parse_year(y, yearstext) for y in years}"
   ]
  },
  {
   "cell_type": "markdown",
   "metadata": {},
   "source": [
    "We would not want to lose all this work, so let's save the last data structure we created to disk. That way if you need to re-run sections 1.3 and beyond, you don't need to redo all these requests and parsing. Notice that we save into the `tempdata` folder. If you look at the `.gitignore` for this repository, you will see that files in `tempdata` are not committed...these are large files, and when you commit and push your homework, we do not need to see them..."
   ]
  },
  {
   "cell_type": "code",
   "execution_count": 4,
   "metadata": {
    "collapsed": true
   },
   "outputs": [],
   "source": [
    "import json"
   ]
  },
  {
   "cell_type": "code",
   "execution_count": 17,
   "metadata": {
    "collapsed": false,
    "scrolled": false
   },
   "outputs": [],
   "source": [
    "fd = open(\"tempdata/yearinfo.json\",\"w\")\n",
    "json.dump(yearinfo, fd)\n",
    "fd.close()"
   ]
  },
  {
   "cell_type": "markdown",
   "metadata": {},
   "source": [
    "Now let's reload our JSON file into the yearinfo variable, just to be sure everything is working."
   ]
  },
  {
   "cell_type": "code",
   "execution_count": 5,
   "metadata": {
    "collapsed": false,
    "scrolled": true
   },
   "outputs": [],
   "source": [
    "# Another way to deal with files. Has the advantage of closing the file for you.\n",
    "del yearinfo\n",
    "with open(\"tempdata/yearinfo.json\", \"r\") as fd:\n",
    "    yearinfo = json.load(fd)"
   ]
  },
  {
   "cell_type": "markdown",
   "metadata": {},
   "source": [
    "### Construct a year-song-singer dataframe from the yearly information"
   ]
  },
  {
   "cell_type": "markdown",
   "metadata": {},
   "source": [
    "Let's construct a dataframe from the `yearinfo`. Pandas DataFrames are like Excel spreadsheets or CSV files. They are great for representing data that has the same data type on each column, but different types across columns. However, if you look at the data structure we have so far, a given key can have a list of values with multiple entries. Also, our data is grouped by year. So we need a way to flatten this data into a format that will create a useful DataFrame."
   ]
  },
  {
   "cell_type": "markdown",
   "metadata": {},
   "source": [
    "#### Construct a panel and flatten it"
   ]
  },
  {
   "cell_type": "markdown",
   "metadata": {},
   "source": [
    "To do this, we iterate over the years and the singles per year. For each single, we then iterate over singers and songs, in the end constructing a dataframe for each year. This dataframe has one row per single/singer/song combination. We can then store these dataframes into a dictionary, construct a Panel from it (look it up in the Pandas docs), and flatten the panel to get a hierarchically indexed dataframe.\n",
    "\n",
    "A Panel is a 3-D version of a DataFrame, or a DataFrame of DataFrames. Think of dataframes stacked on top of each other and coming out of the screen. We then flatten this Panel into a single Dataframe by using Pandas ability to have hierarchical indexing: in this case its the ranking/year combination that things get flattened under.\n",
    "\n",
    "Don't worry if you don't get the Panel to DataFrame part. We will have plenty of time to learn about Pandas and its data structures. But make sure you understand the logic of everything before the last three lines."
   ]
  },
  {
   "cell_type": "code",
   "execution_count": 6,
   "metadata": {
    "collapsed": true,
    "scrolled": false
   },
   "outputs": [],
   "source": [
    "yeardict={}\n",
    "for y in yearinfo.keys():\n",
    "    yearlist=yearinfo[y]\n",
    "    yearlist2=[]\n",
    "    for idict in yearlist:\n",
    "        singers=idict['band_singer']\n",
    "        for i,s in enumerate(singers):\n",
    "            songs=idict['song']\n",
    "            for j,so in enumerate(songs):#now inside each singer song combination\n",
    "                nd={}\n",
    "                nd['band_singer']=s\n",
    "                nd['url']=idict['url'][i]\n",
    "                nd['song']=so\n",
    "                nd['songurl']=idict['songurl'][j]\n",
    "                nd['ranking']=idict['ranking']\n",
    "                yearlist2.append(nd)\n",
    "    yeardict[y]=pd.DataFrame(yearlist2)#one for each year\n",
    "yearspanel=pd.Panel.from_dict(yeardict, orient=\"minor\")#stack dataframes into a panel\n",
    "hierframe=yearspanel.to_frame() #flattening leads to a hierarchical index"
   ]
  },
  {
   "cell_type": "code",
   "execution_count": 7,
   "metadata": {
    "collapsed": false,
    "scrolled": false
   },
   "outputs": [],
   "source": [
    "hierframe.head()"
   ]
  },
  {
   "cell_type": "markdown",
   "metadata": {},
   "source": [
    "We really want a non-hierarchical dataframe. So, let's flatten the dataframe further and rename some of the items in the index to create a non-hierarchically indexed dataframe."
   ]
  },
  {
   "cell_type": "code",
   "execution_count": 8,
   "metadata": {
    "collapsed": false,
    "scrolled": true
   },
   "outputs": [],
   "source": [
    "flatframe = hierframe.reset_index()\n",
    "flatframe.head()"
   ]
  },
  {
   "cell_type": "code",
   "execution_count": 9,
   "metadata": {
    "collapsed": false,
    "scrolled": true
   },
   "outputs": [],
   "source": [
    "flatframe = flatframe.rename(columns={'minor':'year'})\n",
    "del flatframe['major']\n",
    "flatframe.head(8)"
   ]
  },
  {
   "cell_type": "markdown",
   "metadata": {},
   "source": [
    "#### Cleaning data: the correct datatypes"
   ]
  },
  {
   "cell_type": "markdown",
   "metadata": {},
   "source": [
    "Now let's check if the DataFrame has the right data types."
   ]
  },
  {
   "cell_type": "code",
   "execution_count": 10,
   "metadata": {
    "collapsed": false,
    "scrolled": true
   },
   "outputs": [],
   "source": [
    "flatframe.dtypes"
   ]
  },
  {
   "cell_type": "markdown",
   "metadata": {},
   "source": [
    "Pandas treats strings as generic objects, so most fields look right. However, in **1.1** we used the _range_ function to create the years, which means our dictionary should have integer keys, which should in turn become integer values on the DataFrame. What gives (hint: everything looked right until we restored the data from the JSON file)?"
   ]
  },
  {
   "cell_type": "markdown",
   "metadata": {},
   "source": [
    "We should fix that. We use the [astype](http://pandas.pydata.org/pandas-docs/stable/generated/pandas.DataFrame.astype.html) function to transform the data on the _year_ column from string to integer."
   ]
  },
  {
   "cell_type": "code",
   "execution_count": 11,
   "metadata": {
    "collapsed": false,
    "scrolled": true
   },
   "outputs": [],
   "source": [
    "flatframe.year = flatframe.year.astype(int)\n",
    "flatframe.dtypes"
   ]
  },
  {
   "cell_type": "markdown",
   "metadata": {},
   "source": [
    "## Q2. Scraping and Constructing: Information about Artists, Bands and Genres from Wikipedia"
   ]
  },
  {
   "cell_type": "markdown",
   "metadata": {},
   "source": [
    "Our next job is to use those singer urls and get information about singers and/or bands. Here is an example."
   ]
  },
  {
   "cell_type": "code",
   "execution_count": 25,
   "metadata": {
    "collapsed": false,
    "scrolled": false
   },
   "outputs": [],
   "source": [
    "for th in pq(requests.get(\"http://en.wikipedia.org/wiki/Jason_Derulo\").text)(\".infobox tr th\"):\n",
    "    if pq(th).text() == \"Genres\":\n",
    "        for e in pq(th).nextAll(\"td li a\"):\n",
    "            if pq(e).attr.href.find(\"#cite_note\") == -1:\n",
    "                print pq(e).attr.href, pq(e).attr.title"
   ]
  },
  {
   "cell_type": "markdown",
   "metadata": {},
   "source": [
    "### Scrape information about artists from wikipedia"
   ]
  },
  {
   "cell_type": "markdown",
   "metadata": {},
   "source": [
    "We wish to fetch information about the singers or groups for all the winning songs in a list of years.\n",
    "\n",
    "Here we show a function that fetches information about a singer or group from their url on wikipedia. The function uses a `requests` call.\n",
    "\n",
    "If the request gets an HTTP code different from 200, the cells for that URL will have a value of 1; and if the request completely fails (e.g. no network connection) the cell will have a value of 2. This will allow you to analyse the failed requests.\n",
    "\n",
    "Notice that we have wrapped the call in whats called _an exception block_. We try to make the request. If it fails entirely, or returns a HTTP code thats not 200, we set the status to 2 and 1 respectively.\n",
    "\n",
    "We also create a cache object `urlcache` that will avoid redundant HTTP requests (e.g. an artist might have multiple singles on a single year, or be on the list over a span of years). Remember that this function is designed to be used in a loop over years, and then a loop over songs per year. It stands to reason that prolific singers or bands will show up again and again. Since network requests are relatively slow, if we have already getched a singer or band's wikipedia page, caching the results is a smart thing to do.\n",
    "\n",
    "For those interested in digging deeper into these types of optimization, check out _memoization_ techniques, and the _lru_cache_ function on the _functools_ package."
   ]
  },
  {
   "cell_type": "code",
   "execution_count": 26,
   "metadata": {
    "collapsed": true,
    "scrolled": true
   },
   "outputs": [],
   "source": [
    "urlcache={}\n"
   ]
  },
  {
   "cell_type": "code",
   "execution_count": 27,
   "metadata": {
    "collapsed": false,
    "scrolled": true
   },
   "outputs": [],
   "source": [
    "def get_page(url):\n",
    "    # Check if URL has already been visited.\n",
    "    if (url not in urlcache) or (urlcache[url]==1) or (urlcache[url]==2):\n",
    "        time.sleep(1)\n",
    "        # try/except blocks are used whenever the code could generate an exception (e.g. division by zero).\n",
    "        # In this case we don't know if the page really exists, or even if it does, if we'll be able to reach it.\n",
    "        try:\n",
    "            r = requests.get(\"http://en.wikipedia.org%s\" % url)\n",
    "\n",
    "            if r.status_code == 200:\n",
    "                urlcache[url] = r.text\n",
    "            else:\n",
    "                urlcache[url] = 1\n",
    "        except:\n",
    "            urlcache[url] = 2\n",
    "    return urlcache[url]\n"
   ]
  },
  {
   "cell_type": "markdown",
   "metadata": {},
   "source": [
    "We sort the `flatframe` by year, ascending, first. Why? It ensures that we will hit the cache most as singers who show up repeatedly in the rankings will have their information already pulled."
   ]
  },
  {
   "cell_type": "code",
   "execution_count": 28,
   "metadata": {
    "collapsed": false,
    "scrolled": true
   },
   "outputs": [],
   "source": [
    "flatframe=flatframe.sort('year')"
   ]
  },
  {
   "cell_type": "markdown",
   "metadata": {},
   "source": [
    "#### Pulling and saving the data"
   ]
  },
  {
   "cell_type": "markdown",
   "metadata": {},
   "source": [
    "**Note**: the function below takes a fair bit of time, about 25 minutes, for me."
   ]
  },
  {
   "cell_type": "code",
   "execution_count": 29,
   "metadata": {
    "collapsed": false,
    "scrolled": true
   },
   "outputs": [],
   "source": [
    "# Here we are populating the url cache\n",
    "# subsequent calls to this cell should be very fast, since Python won't\n",
    "# need to fetch the page from the web server.\n",
    "#NOTE this function will take quite some time to run (about 25 mins for me), since we sleep 1 second before\n",
    "#making a request. If you run it again it will be almost instantaneous, save requests that might have failed\n",
    "#(you will need to run it again if requests fail..see cell below for how to test this)\n",
    "flatframe[\"url\"].apply(get_page)"
   ]
  },
  {
   "cell_type": "markdown",
   "metadata": {},
   "source": [
    "You may have to run this function again and again, incase there were network problems and such. Notice that because there is a \"global\" cache, it will take less time each time you run it. Also note that this function is designed to be run again and again: it just tries to make sure that there are no unresolved pages left. Let us make sure of this: *the sum below should be 0, and the boolean True.*"
   ]
  },
  {
   "cell_type": "code",
   "execution_count": 30,
   "metadata": {
    "collapsed": false,
    "scrolled": true
   },
   "outputs": [],
   "source": [
    "print np.sum([(urlcache[k]==1) or (urlcache[k]==2) for k in urlcache])# no one or 0's\n",
    "print len(flatframe.url.unique())==len(urlcache)#we got all of the urls"
   ]
  },
  {
   "cell_type": "markdown",
   "metadata": {},
   "source": [
    "Let's save the `urlcache` to disk and remove the old object."
   ]
  },
  {
   "cell_type": "code",
   "execution_count": 31,
   "metadata": {
    "collapsed": false,
    "scrolled": false
   },
   "outputs": [],
   "source": [
    "with open(\"tempdata/artistinfo.json\",\"w\") as fd:\n",
    "    json.dump(urlcache, fd)\n",
    "del urlcache"
   ]
  },
  {
   "cell_type": "markdown",
   "metadata": {},
   "source": [
    "Now let's reload the dictionary from the JSON file."
   ]
  },
  {
   "cell_type": "code",
   "execution_count": 12,
   "metadata": {
    "collapsed": false,
    "scrolled": true
   },
   "outputs": [],
   "source": [
    "with open(\"tempdata/artistinfo.json\") as json_file:\n",
    "    urlcache = json.load(json_file)"
   ]
  },
  {
   "cell_type": "markdown",
   "metadata": {},
   "source": [
    "#### 2.1 Extract information about singers and bands"
   ]
  },
  {
   "cell_type": "markdown",
   "metadata": {},
   "source": [
    "From each page we collected about a singer or a band, extract the following information:\n",
    "\n",
    "1. The genres that the band or singer works in (sidebar on right). These genres should be urls, this ensures their uniqueness. Create a list of these urls `genres`. If no genres, use `['NA']`.\n",
    "\n",
    "2. If the page has the text \"Born\" in the sidebar on the right, extract the element with the class `.bday`. If no \"Born\", store `False`. Store either of these into the variable `born`. We want to analyze the artist's age.\n",
    "\n",
    "3. If the text \"Years active\" is found, but no \"born\", assume a band. Store into the variable `ya` the value of the next table cell corresponding to this, or `False` if the text is not found.\n",
    "\n",
    "Put this all into a function `singer_band_info` which takes the singer/band url as argument and returns a dictionary `dict(url=url, genres=genres, born=born, ya=ya)`.\n",
    "\n",
    "The information can be found on the sidebar on each such wikipedia page, as the example here shows:\n",
    "\n",
    "![sandg](sandg.png).\n",
    "\n",
    "Once again, we can use the developer tools to divulge the structure of the web page:\n",
    "\n",
    "![diana](dianaross.png)\n",
    "\n"
   ]
  },
  {
   "cell_type": "markdown",
   "metadata": {},
   "source": [
    "Please write the function `singer_band_info` according to the following specification:"
   ]
  },
  {
   "cell_type": "code",
   "execution_count": 17,
   "metadata": {
    "collapsed": false,
    "scrolled": false
   },
   "outputs": [],
   "source": [
    "\"\"\"\n",
    "Function\n",
    "--------\n",
    "singer_band_info\n",
    "\n",
    "Inputs\n",
    "------\n",
    "url: the url\n",
    "page_text: the text associated with the url\n",
    "   \n",
    "Returns\n",
    "-------\n",
    "A dictionary with the following data:\n",
    "    url: copy the input argument url into this value\n",
    "    genres: the genres that the band or singer works in\n",
    "    born: the artist's birthday\n",
    "    ya: years active variable\n",
    "\n",
    "Notes\n",
    "-----\n",
    "See description above. Also note that some of the genres urls might require a \n",
    "bit of care and special handling.\n",
    "\"\"\"\n",
    "\n",
    "#your code here\n"
   ]
  },
  {
   "cell_type": "markdown",
   "metadata": {},
   "source": [
    "#### Merging this information in"
   ]
  },
  {
   "cell_type": "markdown",
   "metadata": {},
   "source": [
    "Let's iterate over the items in the singer-group dictionary cache `urlcache`, run the above function, and create a dataframe from there."
   ]
  },
  {
   "cell_type": "code",
   "execution_count": 18,
   "metadata": {
    "collapsed": false,
    "scrolled": true
   },
   "outputs": [],
   "source": [
    "singer_band_info_list=[]\n",
    "for k,v in urlcache.items():\n",
    "    singer_band_info_list.append(singer_band_info(k, v))"
   ]
  },
  {
   "cell_type": "code",
   "execution_count": 19,
   "metadata": {
    "collapsed": false,
    "scrolled": true
   },
   "outputs": [],
   "source": [
    "tempdf=pd.DataFrame(singer_band_info_list)\n",
    "tempdf.head()"
   ]
  },
  {
   "cell_type": "markdown",
   "metadata": {},
   "source": [
    "We merge the artist/song data frames into one large dataframe. Note that this has an effect of imputing to a song **all the genres** that the artist is active in. We know that this is not true, but it is the simplest assumption we can make, and is probably good for most artists. (To think: how might you check this?)"
   ]
  },
  {
   "cell_type": "code",
   "execution_count": 20,
   "metadata": {
    "collapsed": false,
    "scrolled": true
   },
   "outputs": [],
   "source": [
    "largedf=flatframe.merge(tempdf, on=\"url\")\n",
    "largedf.head()"
   ]
  },
  {
   "cell_type": "markdown",
   "metadata": {},
   "source": [
    "#### 2.2 Split out the genres"
   ]
  },
  {
   "cell_type": "markdown",
   "metadata": {},
   "source": [
    "Update the dataframe by adding a column for each genre with true-false encoding for each row. This means, we want columns like \"/wiki/Acid_house\", \"/wiki/Acid_jazz\", where if an artist is in that genre, the dataframe cell has a python boolean, `True`. Otherwise, it has a `False`.\n",
    "\n",
    "Remember that an artist/band can be in multiple genres, and must have a \"True\" for each column corresponding to these genres, and false otherwise.\n",
    "\n",
    "This will widen the dataframe by the total number of genres that we have. The expanded part will look a bit like this:\n",
    "\n",
    "![expansion](expandingframe.png)\n",
    "\n",
    "HINT: for example code see http://nbviewer.ipython.org/github/cs109/content/blob/master/lec_04_wrangling.ipynb, a notebook which lays out a very nice rubric for data analysis."
   ]
  },
  {
   "cell_type": "code",
   "execution_count": 21,
   "metadata": {
    "collapsed": false,
    "scrolled": false
   },
   "outputs": [],
   "source": [
    "#your code here\n"
   ]
  },
  {
   "cell_type": "markdown",
   "metadata": {},
   "source": [
    "## Q3. Exploratory Data Analysis (EDA)"
   ]
  },
  {
   "cell_type": "markdown",
   "metadata": {},
   "source": [
    "At this point we have one dataframe `flatframe` for the songs, and one merged dataframe which has the songs with artist info in each row for each song, `largedf`.\n",
    "\n",
    "Our first visualization is an attempt to answer the following question:"
   ]
  },
  {
   "cell_type": "markdown",
   "metadata": {},
   "source": [
    "### What has been the trajectory of various genres in the popular zeitgeist?"
   ]
  },
  {
   "cell_type": "markdown",
   "metadata": {},
   "source": [
    "We will use the trends in the Billboard top 100 as evidence. To that goal, let us see which are the 24 most popular genres."
   ]
  },
  {
   "cell_type": "markdown",
   "metadata": {},
   "source": [
    "To do this, we calculate the mean of the dataframe and eliminate the first two columns (`year` and `ranking`) to get means of all the genre columns. We sort it in ascending order, multiply by 100 to get percentages, and pick the top 24."
   ]
  },
  {
   "cell_type": "code",
   "execution_count": 22,
   "metadata": {
    "collapsed": false,
    "scrolled": false
   },
   "outputs": [],
   "source": [
    "# Get the mean of all the *numerical* values, over the column axis (0).\n",
    "# This works because True is numerically equal to 1 in Python (e.g. True + True == 2)\n",
    "# so mean sums up the trues and divides by the total\n",
    "#and it only does it for numerical columns\n",
    "genrefrac = largedf.mean(axis=0)*100\n",
    "# The first two numerical values are ranking and year, so start from the third.\n",
    "genrefrac = genrefrac[2:]\n",
    "# Sort the values in descending order (note that the sort method changed the list in place).\n",
    "#This is because its a series sort. Pandas Dataframe sorts, the type we used earlier, do not\n",
    "#do the sort in place.\n",
    "genrefrac.sort(ascending=False)\n",
    "# Get the first 24 items.\n",
    "genrefrac[:24]"
   ]
  },
  {
   "cell_type": "markdown",
   "metadata": {},
   "source": [
    "####3.1 Plot a horizontal bar chart of the top 30 genres"
   ]
  },
  {
   "cell_type": "markdown",
   "metadata": {},
   "source": [
    "You will have to change the index of the `genrefrac` series to strip `/wiki` from the genre names, and convert underscores to spaces. **Hint**: Use the pandas `plot`, `reset_index` and `set_index` methods. Label the y-axis \"Genres\"."
   ]
  },
  {
   "cell_type": "code",
   "execution_count": 42,
   "metadata": {
    "collapsed": false
   },
   "outputs": [],
   "source": [
    "#your code here\n"
   ]
  },
  {
   "cell_type": "markdown",
   "metadata": {},
   "source": [
    "Lets take the top 24 genres from `genrefrac`. For each genre, we create a subframe of the ranking and year from those rows for which that genre is \"True\". We group the resulting dataframe by year. We obtain a dictionary `genreinfo` keyed by genre, whose value is a tuple of 3 Pandas series: the mean rankings per year for that genre, the standard deviation on those rankings, and the series groupby object for the rankings per year."
   ]
  },
  {
   "cell_type": "code",
   "execution_count": 39,
   "metadata": {
    "collapsed": false,
    "scrolled": false
   },
   "outputs": [],
   "source": [
    "genreinfo={}\n",
    "topgenres=genrefrac.index[:24]\n",
    "for genre in topgenres:\n",
    "    genreframe=largedf[largedf[genre]==True][['ranking','year']]\n",
    "    ggby = genreframe.groupby('year')\n",
    "    genreinfo[genre]={'meanseries': ggby['ranking'].mean(), 'stdseries': ggby['ranking'].std(), 'rankingseries': ggby['ranking']}\n",
    "genreinfo['/wiki/Funk']"
   ]
  },
  {
   "cell_type": "markdown",
   "metadata": {},
   "source": [
    "Notice that there are NaN's in the standard deviations. Pandas calculates standard deviations for samples rather than populations, and if there is only 1 item, then the standard deviation calculation involves a division by 0."
   ]
  },
  {
   "cell_type": "markdown",
   "metadata": {},
   "source": [
    "#### 3.2 Make a small multiples plot of the 24 most popular genres"
   ]
  },
  {
   "cell_type": "markdown",
   "metadata": {},
   "source": [
    "Make a 8 row, 3 column small multiples plot with elements like:\n",
    "\n",
    "![Small Multiple](smmult.png)\n",
    "\n",
    "You will use `genreinfo`, which we just computed, to make a plot of how the \"ranking of a genre\" has changed with time. The mean rank achieved by songs in a genre forms the backbone of this plot, with the standard deviation shown, and rankings of all the songs in the genre that year shown as well, at a very low transparency. (Since a song belongs to many genres through the artist, this means that a song may be represented in multiple plots. Again, while not strictly true, this is a simplifying assumption we are making.)\n",
    "\n",
    "Some instructions for the plot:\n",
    "\n",
    "1. The blue scatters are all the songs \"in\" that genre: keep them at a low alpha so one can visually see the density. \n",
    "2. The dark red points are the means. You can choose to join them if you like.\n",
    "3. The light red band uses matplotlib's `fill_between` to fill the area between `mean-std` and `mean+std`. \n",
    "4. If the standard deviation is NaN, fill up the entire y dimension with it to give a notion of large impreciseness in the measure.\n",
    "\n",
    "HINT: Once again, http://nbviewer.ipython.org/github/cs109/content/blob/master/lec_04_wrangling.ipynb may help in creating such a plot.\n",
    "\n",
    "If you have a better viz for this, by all means go for it!"
   ]
  },
  {
   "cell_type": "code",
   "execution_count": 40,
   "metadata": {
    "collapsed": false,
    "scrolled": false
   },
   "outputs": [],
   "source": [
    "#your code here\n"
   ]
  },
  {
   "cell_type": "markdown",
   "metadata": {},
   "source": [
    "**3.2(contd) What trends do you see?**\n",
    "\n",
    "Write a paragraph or two, touching on which genres are the most popular, and how this popularity has changed over time."
   ]
  },
  {
   "cell_type": "markdown",
   "metadata": {},
   "source": [
    "*your answer here*\n"
   ]
  },
  {
   "cell_type": "markdown",
   "metadata": {},
   "source": [
    "### Who are the highest quality singers?"
   ]
  },
  {
   "cell_type": "markdown",
   "metadata": {},
   "source": [
    "Here we show the highest quality singers and plot them on a bar chart.\n",
    "\n",
    "What do we mean by highest quality? This is of-course open to interpretation, but lets define \"highest quality\" here as the number of times a singer appears in the top 100 over this time period. If they appear twice in a year(for different songs), this is counted as two appearances, not one. We cut our chart of at those singers who have appeared more than 15 times."
   ]
  },
  {
   "cell_type": "code",
   "execution_count": 41,
   "metadata": {
    "collapsed": false,
    "scrolled": false
   },
   "outputs": [],
   "source": [
    "prolific=flatframe.url.value_counts()\n",
    "prolific[prolific > 15].plot(kind=\"barh\");"
   ]
  },
  {
   "cell_type": "markdown",
   "metadata": {},
   "source": [
    "#### 3.3 What if we used a different metric?"
   ]
  },
  {
   "cell_type": "markdown",
   "metadata": {},
   "source": [
    "What we would like to capture is this: a singer ought to be scored higher if he or she appears higher in the rankings. So we'd say that a singer who appeared once at a higher and once at a lower ranking is a \"higher quality\" singer than one who appeared twice at a lower ranking. \n",
    "\n",
    "To do this, group all of a singers songs together and assign each song a score `101 - ranking`. Order the singers by their total score and make a bar chart for the top 20."
   ]
  },
  {
   "cell_type": "code",
   "execution_count": 42,
   "metadata": {
    "collapsed": false,
    "scrolled": false
   },
   "outputs": [],
   "source": [
    "#your code here\n"
   ]
  },
  {
   "cell_type": "markdown",
   "metadata": {},
   "source": [
    "**3.3(contd)Do you notice any major differences when you change the metric?**\n",
    "\n",
    "How have the singers at the top shifted places? Why do you think this is so?"
   ]
  },
  {
   "cell_type": "markdown",
   "metadata": {},
   "source": [
    "*your answer here*\n"
   ]
  },
  {
   "cell_type": "markdown",
   "metadata": {},
   "source": [
    "#### The age at which singers achieve their top ranking."
   ]
  },
  {
   "cell_type": "markdown",
   "metadata": {},
   "source": [
    "As an example to warm you up for the next question, we plot a histogram of the age at which singers achieve their top ranking"
   ]
  },
  {
   "cell_type": "code",
   "execution_count": 43,
   "metadata": {
    "collapsed": false,
    "scrolled": false
   },
   "outputs": [],
   "source": [
    "dfb=largedf[largedf.born!=False][['year','born','ranking','url']]\n",
    "dfb['byear']=dfb.born.apply(lambda x: int(x.split('-')[0]))\n",
    "byurl=dfb.groupby('url')\n",
    "frames=[]\n",
    "for k, v in byurl:\n",
    "    minr=v.ranking.min()\n",
    "    frames.append(v[v.ranking==minr])\n",
    "topscoresdf=pd.concat(frames)\n",
    "(topscoresdf.year-topscoresdf.byear).hist(bins=np.arange(10,70,5), normed=True);"
   ]
  },
  {
   "cell_type": "markdown",
   "metadata": {},
   "source": [
    "The *age of first fame* has an interesting shape, unimodal with a mode in the late 20s with a long tail to the right. This makes sense because there really is a lower age limit to artists but not so much an upper one. So you expect this type of behavior."
   ]
  },
  {
   "cell_type": "markdown",
   "metadata": {},
   "source": [
    "#### 3.4 At what year since inception do bands reach their top rankings?"
   ]
  },
  {
   "cell_type": "markdown",
   "metadata": {},
   "source": [
    "Make a similar calculation to plot a histogram of the years since inception at which bands reach their top ranking"
   ]
  },
  {
   "cell_type": "code",
   "execution_count": 44,
   "metadata": {
    "collapsed": false,
    "scrolled": false
   },
   "outputs": [],
   "source": [
    "#your code here\n"
   ]
  },
  {
   "cell_type": "markdown",
   "metadata": {
    "collapsed": true
   },
   "source": [
    "## Q4: Billboard Magazine: year end results from weekly results"
   ]
  },
  {
   "cell_type": "markdown",
   "metadata": {},
   "source": [
    "The aim of this problem is to find features in the weekly Billboard top 100 that can predict the end year results. In the interests of time, we'll only do 2014: a complete study would do all the years.\n",
    "Let us first fetch the end-of-year results."
   ]
  },
  {
   "cell_type": "markdown",
   "metadata": {},
   "source": [
    "### Get the end year results, and results from all saturdays of the year."
   ]
  },
  {
   "cell_type": "code",
   "execution_count": 45,
   "metadata": {
    "collapsed": false,
    "scrolled": false
   },
   "outputs": [],
   "source": [
    "end_year=requests.get(\"http://www.billboard.com/charts/year-end/2014/hot-100-songs\").text"
   ]
  },
  {
   "cell_type": "markdown",
   "metadata": {},
   "source": [
    "Billboard releases its daily ratings on saturdays."
   ]
  },
  {
   "cell_type": "markdown",
   "metadata": {},
   "source": [
    "We first write a function `allsats(year, fs)` to get all the saturdays in a given year, and given the day part of the date of the first saturday of the year in january. We use the `date` and `timedelta` modules."
   ]
  },
  {
   "cell_type": "code",
   "execution_count": 46,
   "metadata": {
    "collapsed": false,
    "scrolled": false
   },
   "outputs": [],
   "source": [
    "from datetime import date, timedelta\n",
    "\n",
    "def allsats(year, fs):\n",
    "    days=[]\n",
    "    d = date(year, 1, fs)       \n",
    "    while d.year == year:\n",
    "        days.append(d.strftime(\"%Y-%m-%d\"))\n",
    "        d += timedelta(days = 7)\n",
    "    return days"
   ]
  },
  {
   "cell_type": "markdown",
   "metadata": {},
   "source": [
    "The first Saturday in 2014 is Jan 4th:"
   ]
  },
  {
   "cell_type": "code",
   "execution_count": 47,
   "metadata": {
    "collapsed": false,
    "scrolled": false
   },
   "outputs": [],
   "source": [
    "sats=allsats(2014, 4)\n",
    "sats"
   ]
  },
  {
   "cell_type": "markdown",
   "metadata": {},
   "source": [
    "#### Get the data"
   ]
  },
  {
   "cell_type": "markdown",
   "metadata": {},
   "source": [
    "Let us use `requests` to get the billboard pages for all these days. The format for the data is a dictionary `satdict` with keys the saturday date strings we see above, and one additional key, `end_year`. The values corresponding to the keys are the html text downloaded from billboard. The value corresponding to the `end_year` key comes from the `end_year` variable.\n",
    "\n",
    "Billboard makes the lists for every saturday available at:\n",
    "`http://www.billboard.com/charts/hot-100/saturday`, for example, http://www.billboard.com/charts/hot-100/2014-12-27 ."
   ]
  },
  {
   "cell_type": "code",
   "execution_count": 48,
   "metadata": {
    "collapsed": false,
    "scrolled": false
   },
   "outputs": [],
   "source": [
    "satdict={}\n",
    "satdict['end_year']=end_year\n",
    "for sat in sats:\n",
    "    satdict[sat]=requests.get(\"http://www.billboard.com/charts/hot-100/\"+sat).text\n",
    "    time.sleep(1)"
   ]
  },
  {
   "cell_type": "markdown",
   "metadata": {},
   "source": [
    "We save the output in a file, `satdict.json`."
   ]
  },
  {
   "cell_type": "code",
   "execution_count": 49,
   "metadata": {
    "collapsed": false,
    "scrolled": false
   },
   "outputs": [],
   "source": [
    "with open(\"tempdata/satdict.json\",\"w\") as fd:\n",
    "    json.dump( satdict, fd)\n",
    "del satdict\n",
    "with open(\"tempdata/satdict.json\") as fd:\n",
    "    satdict=json.load(fd)"
   ]
  },
  {
   "cell_type": "markdown",
   "metadata": {},
   "source": [
    "#### 4.1 Parse the HTML and save the song information"
   ]
  },
  {
   "cell_type": "markdown",
   "metadata": {},
   "source": [
    "Write a function `get_weekly(weekstring, indict)` which takes the string corresponding to a saturday, `weekstring` and a dictionary `indict` with *keys* as the saturdays and *value* as the text of the billboard page for that day. Parse the text, returning a list of tuples `(ranking, songdict)` with a `songdict` dictionary. Each tuple corresponds to a song in that week's top-100, with `ranking` the ranking of that song. \n",
    "\n",
    "One of these pages looks like this in the developer tools:\n",
    "\n",
    "![billboard](billboard.png)\n",
    "\n",
    "Make the dictionary `songdict` look like this: \n",
    "\n",
    "`songdict=dict(ranking=ranking, title=title)`\n",
    "\n",
    "where the title is the title of the song. The `ranking` is the same `ranking` that is the first element of the tuple."
   ]
  },
  {
   "cell_type": "code",
   "execution_count": 50,
   "metadata": {
    "collapsed": true,
    "scrolled": false
   },
   "outputs": [],
   "source": [
    "\"\"\"\n",
    "Function\n",
    "--------\n",
    "get_weekly\n",
    "\n",
    "Inputs\n",
    "------\n",
    "weekstring: the saturday in question\n",
    "indict: a dictionary with keys being saturdays, and values being the billboard html associated\n",
    "with those saturdays\n",
    "   \n",
    "Returns\n",
    "-------\n",
    "A list of tuples. Each tuple has two elements. The first element is the ranking. The\n",
    "second is a dictionary songdict with keys\n",
    "    ranking: ranking of song. same as first element of the tuple\n",
    "    title: title of song\n",
    "\n",
    "\n",
    "Notes\n",
    "-----\n",
    "See description above.\n",
    "\"\"\"\n",
    "#your code here\n"
   ]
  },
  {
   "cell_type": "markdown",
   "metadata": {},
   "source": [
    "Let's process the weekly and year-end information using the function you just defined. We create a `weekinfo` list with the above function run for each week. We also store in the variable `yearend` the results of running the function for the end of year rankings. We `zip` the `weekinfo` together with the saturdays to create a list of tuples `weektuples`."
   ]
  },
  {
   "cell_type": "code",
   "execution_count": 51,
   "metadata": {
    "collapsed": true,
    "scrolled": false
   },
   "outputs": [],
   "source": [
    "weekinfo=[]\n",
    "for k in sats:\n",
    "    weekinfo.append(get_weekly(k, satdict))\n",
    "yearend=get_weekly('end_year', satdict)\n",
    "weektuples=zip(sats, weekinfo)"
   ]
  },
  {
   "cell_type": "markdown",
   "metadata": {},
   "source": [
    "---\n",
    "\n",
    "Here we write a function `get_for_title(weektups)` that takes the tuples created above and returns a dictionary `titles` whose *key* is the title of the song, and whose *value* is a list of tuples, the members of which are (`weekindex`, `ranking`). The `weekindex` starts at 1 for the first week of the year, and `ranking` is the ranking achieved that week. "
   ]
  },
  {
   "cell_type": "code",
   "execution_count": 52,
   "metadata": {
    "collapsed": true,
    "scrolled": false
   },
   "outputs": [],
   "source": [
    "def get_for_title(weektups):\n",
    "    titles={}\n",
    "    weekindex=1\n",
    "    for weekdate, weeksrankings in weektups:\n",
    "        for rankingtuple in weeksrankings:#iterate over the week's top-100\n",
    "            ranking = rankingtuple[0]\n",
    "            weekdict=rankingtuple[1]\n",
    "            if not titles.has_key(weekdict['title']):\n",
    "                titles[weekdict['title']]=[]\n",
    "            titles[weekdict['title']].append((weekindex, ranking))\n",
    "        weekindex=weekindex+1\n",
    "    return titles"
   ]
  },
  {
   "cell_type": "code",
   "execution_count": 53,
   "metadata": {
    "collapsed": false,
    "scrolled": false
   },
   "outputs": [],
   "source": [
    "titles = get_for_title(weektuples)"
   ]
  },
  {
   "cell_type": "markdown",
   "metadata": {},
   "source": [
    "Now let's create a dictionary keyed by the lower-cased title where we store the rank means (`rankmean`), rank standard deviations (`rankstd`) and rank count, the number of times(weeks) it appeared in the rankings in 2014, (`ranklen`), for a song."
   ]
  },
  {
   "cell_type": "code",
   "execution_count": 54,
   "metadata": {
    "collapsed": false,
    "scrolled": true
   },
   "outputs": [],
   "source": [
    "tdict={}\n",
    "for title in titles.keys():\n",
    "    wtlist=titles[title]\n",
    "    weeks=[e[0] for e in wtlist]\n",
    "    ranks=[e[1] for e in wtlist]\n",
    "    rankmean=np.mean(ranks)\n",
    "    rankstd=np.std(ranks, ddof=1)#numpy standard deviation is population based, make it sample based\n",
    "    ranklen=len(ranks)\n",
    "    tdict[title.lower()]={'ranks':(rankmean, rankstd, ranklen)}"
   ]
  },
  {
   "cell_type": "markdown",
   "metadata": {},
   "source": [
    "### Get winning songs, and see how they do in all these weeks"
   ]
  },
  {
   "cell_type": "markdown",
   "metadata": {},
   "source": [
    "Now we create a list of winners whose elements are `dict(title, winner=1, ranking=year-end-ranking, rankmean=mean over weeks, rankstd=stddev over weeks, weekson=ranklen)`. To make this, we go to the songs that are in the top 100 at years-end and pick up their information from `tdict` above."
   ]
  },
  {
   "cell_type": "code",
   "execution_count": 55,
   "metadata": {
    "collapsed": true,
    "scrolled": false
   },
   "outputs": [],
   "source": [
    "winners=[]\n",
    "for yt in yearend:\n",
    "    r,d =yt\n",
    "    title=d['title'].lower()\n",
    "    rvals=tdict[title]['ranks']\n",
    "    winners.append(dict(title=title, winner=1, ranking=d['ranking'], rankmean=rvals[0], rankstd=rvals[1], weekson=rvals[2]))"
   ]
  },
  {
   "cell_type": "markdown",
   "metadata": {},
   "source": [
    "And we use this list of dictionaries to create a dataframe `winners2014` with al the information gathered."
   ]
  },
  {
   "cell_type": "code",
   "execution_count": 56,
   "metadata": {
    "collapsed": false,
    "scrolled": false
   },
   "outputs": [],
   "source": [
    "winners2014=pd.DataFrame(winners)\n",
    "winners2014.head()"
   ]
  },
  {
   "cell_type": "markdown",
   "metadata": {},
   "source": [
    "#### 4.2 Plot the mean rank(y axis) against the final, year-end rank(x-axis)"
   ]
  },
  {
   "cell_type": "markdown",
   "metadata": {},
   "source": [
    "Show a 45 degree line for comparison. Use `plt.errorbar` to show the standard deviation along with the mean rank."
   ]
  },
  {
   "cell_type": "code",
   "execution_count": 57,
   "metadata": {
    "collapsed": false,
    "scrolled": false
   },
   "outputs": [],
   "source": [
    "# your code here\n"
   ]
  },
  {
   "cell_type": "markdown",
   "metadata": {},
   "source": [
    "**4.2(contd)Comment on the trend in this plot. **\n",
    "\n",
    "In a paragraph, tell us how the general trend compares to the 45 degree line? What does this say about the predictive ability of the average rank for the final rank?"
   ]
  },
  {
   "cell_type": "markdown",
   "metadata": {},
   "source": [
    "*your answer here*\n"
   ]
  },
  {
   "cell_type": "markdown",
   "metadata": {},
   "source": [
    "###Add losers in and see what features may be used to distinguish winners from losers"
   ]
  },
  {
   "cell_type": "markdown",
   "metadata": {},
   "source": [
    "Let's create a list `losers` of dictionaries, one for each song from the weekly lists that did not make it to the year end list. The dictionaries are identical to the dictionaries in the `winners` list, but we code the `ranking` as -1 for losers and set `winner` to 0. Thus"
   ]
  },
  {
   "cell_type": "code",
   "execution_count": 59,
   "metadata": {
    "collapsed": true,
    "scrolled": false
   },
   "outputs": [],
   "source": [
    "winlist=[e['title'] for e in winners]\n",
    "losers=[]\n",
    "for title in tdict:\n",
    "    if not title in winlist:\n",
    "        rvals=tdict[title]['ranks']\n",
    "        losers.append(dict(title=title, winner=0, ranking=-1, rankmean=rvals[0], rankstd=rvals[1], weekson=rvals[2]))"
   ]
  },
  {
   "cell_type": "markdown",
   "metadata": {},
   "source": [
    "We create a `losers2014` dataframe... "
   ]
  },
  {
   "cell_type": "code",
   "execution_count": 60,
   "metadata": {
    "collapsed": false,
    "scrolled": false
   },
   "outputs": [],
   "source": [
    "losers2014=pd.DataFrame(losers)\n",
    "losers2014.head()"
   ]
  },
  {
   "cell_type": "markdown",
   "metadata": {},
   "source": [
    "...and concatenate the losers and winners into one dataframe."
   ]
  },
  {
   "cell_type": "code",
   "execution_count": 61,
   "metadata": {
    "collapsed": false,
    "scrolled": false
   },
   "outputs": [],
   "source": [
    "all2014=pd.concat([winners2014, losers2014])\n",
    "all2014.head()"
   ]
  },
  {
   "cell_type": "markdown",
   "metadata": {},
   "source": [
    "####4.3 Make a scatterplot matrix of these features, color coded by winners/losers"
   ]
  },
  {
   "cell_type": "markdown",
   "metadata": {},
   "source": [
    "Use `sns.pairplot`. Use all the numerical features(4), with the exception of `winner`, which you will use to give a different color to winners and losers. This will be a 4x4 matrix, with different colored dots for winners and losers off diagonal, and a 2 histograms on diagonal. The histogram shows the distribution of the one feature on the diagonal for both the winners and losers."
   ]
  },
  {
   "cell_type": "code",
   "execution_count": 62,
   "metadata": {
    "collapsed": false,
    "scrolled": false
   },
   "outputs": [],
   "source": [
    "#your code here\n"
   ]
  },
  {
   "cell_type": "markdown",
   "metadata": {},
   "source": [
    "**4.3 (contd) Which combination of \"features\" is most likely to separate winners from losers? **\n",
    "\n",
    "It is this kind of observation in EDA that forms the basis for staring on predictive modelling! In a paragraph, identify one or two combinations of features that you think will best separate winners from losers. Why?"
   ]
  },
  {
   "cell_type": "markdown",
   "metadata": {},
   "source": [
    "*your answer here*\n"
   ]
  },
  {
   "cell_type": "markdown",
   "metadata": {},
   "source": [
    " **Until next time.**"
   ]
  }
 ],
 "metadata": {
  "kernelspec": {
   "display_name": "Python 2",
   "language": "python",
   "name": "python2"
  },
  "language_info": {
   "codemirror_mode": {
    "name": "ipython",
    "version": 2
   },
   "file_extension": ".py",
   "mimetype": "text/x-python",
   "name": "python",
   "nbconvert_exporter": "python",
   "pygments_lexer": "ipython2",
   "version": "2.7.10"
  }
 },
 "nbformat": 4,
 "nbformat_minor": 0
}
